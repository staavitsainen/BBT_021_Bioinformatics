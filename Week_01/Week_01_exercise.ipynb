{
 "cells": [
  {
   "cell_type": "markdown",
   "id": "suffering-healing",
   "metadata": {},
   "source": [
    "# Week 1 computer exercises"
   ]
  },
  {
   "cell_type": "markdown",
   "id": "hollow-words",
   "metadata": {},
   "source": [
    "This notebook is divided into `2` sections.\n",
    "\n",
    "- First, we practice with some Unix commands and tools using the terminal in JupyterLab. \n",
    "- Next, we use the JupyterLab notebook (i.e. this document) to get some experience with the Python programming language.\n",
    "\n",
    "Once you are done going through this document, go back to the Moodle quiz and answer the questions."
   ]
  },
  {
   "cell_type": "markdown",
   "id": "talented-diary",
   "metadata": {},
   "source": [
    "## Some Unix commands and tools\n",
    "\n",
    "In this section, we practice with some Unix commands and tools using the terminal available in the GenePattern JupyterLab."
   ]
  },
  {
   "cell_type": "markdown",
   "id": "chief-pillow",
   "metadata": {},
   "source": [
    "### Opening a new terminal\n",
    "\n",
    "Let's start by opening a new terminal by selecting `File` from the menu and then select `New Launcher`. This opens a Launcher tab; under the `Other` section, press the `Terminal` button to open a new terminal. Now, we have a notebook and a terminal open (you can lay out the windows in the user interface as you wish, for example, you can put these two tabs side-by-side)."
   ]
  },
  {
   "cell_type": "markdown",
   "id": "norwegian-olympus",
   "metadata": {},
   "source": [
    "### Getting help about a command\n",
    "Normally, to get information about Unix commands and tools we can use the `man` command e.g. `man pwd`. Unfortunately, in the GenePattern JupyterLab, the `man` command is deactivated. Instead, in this course when needed, we use an online website called [explainshell](https://explainshell.com/) to get more information about some commands. For example, go to [explainshell](https://explainshell.com/) and type `pwd` there to get information about this command."
   ]
  },
  {
   "cell_type": "markdown",
   "id": "square-wallet",
   "metadata": {},
   "source": [
    "### Finding in which directory we are\n",
    "First, in the terminal type `pwd` to see in which directory we are. You should see an output that begins with `/home/jovyan` (if you are not using GenePattern JupyterLab, you may see something else)."
   ]
  },
  {
   "cell_type": "markdown",
   "id": "canadian-settlement",
   "metadata": {},
   "source": [
    "### Getting the name of the current user\n",
    "\n",
    "To get the name of the user, we can use the `whoami` command. Type is the terminal `whoami` and see the result. If you are interested to know why the user is called `jovyan`, please read this [page](https://github.com/jupyter/docker-stacks/issues/358#issuecomment-288844834)."
   ]
  },
  {
   "cell_type": "markdown",
   "id": "aggressive-phenomenon",
   "metadata": {},
   "source": [
    "### Changing the directory \n",
    "\n",
    "Let's change the directory to `BBT_021_Bioinformatics/Week_01/` using `cd`command like this: `cd BBT_021_Bioinformatics/Week_01/` (**Note**. if you are already in the destination directory, you do not need to use this command. To check this, you can use the `pwd` command to see the directory that you are currently in)."
   ]
  },
  {
   "cell_type": "markdown",
   "id": "purple-container",
   "metadata": {},
   "source": [
    "### Listing the content of a directory\n",
    "\n",
    "To list the content of the current directory, you can use `ls` command in the terminal. Try also `ls -lh` and check the difference. Also use [explainshell](https://explainshell.com/) to find out what is the purpose of `-lh` flags."
   ]
  },
  {
   "cell_type": "markdown",
   "id": "french-holiday",
   "metadata": {},
   "source": [
    "### Inspecting file content\n",
    "\n",
    "Let's inspect the content of a text file. In Unix, there are several ways to check the content of a file without modify it. For example, we can look at the first few lines of a file using the `head` command like `head file_name` (e.g., `head Week_01_file_01.txt`). This command by default prints the first `5` lines. If we want to print more or less lines, we can use the flag `-n` e.g. `head -n1` to print only `1` line.\n",
    "To see the last few lines of a file, we can use the `tail` command (**note** that we can use the `-n` flag here as well).\n",
    "\n",
    "If we want to print entire content of a file in the terminal, we can use another command called `cat`. This command is not handy if there are thousands of lines in file. Use this to see the content of the `Week_01_file_01.txt` file.\n",
    "\n",
    "We can use the `wc -l` command to see how many lines there are in a file."
   ]
  },
  {
   "cell_type": "markdown",
   "id": "intensive-wrist",
   "metadata": {},
   "source": [
    "### Running a Python program in terminal\n",
    "\n",
    "There is a file called `Week_01_script_01.py`. Since it ends with `.py` we can guess that it is a Python script. We can check what it does by using the `python` command like this: `python Week_01_script_01.py`. Check what it does. Next, use the `cat` command to print the content of this file to the terminal and check how the Python script looks like (**note**: no need to understand everything in this script at this point).\n",
    "\n",
    "⚠️ Always, run only scripts that you trust! Running not-trusted scripts might cause harm!"
   ]
  },
  {
   "cell_type": "markdown",
   "id": "verified-baltimore",
   "metadata": {},
   "source": [
    "### Using Python in interactive mode in the terminal"
   ]
  },
  {
   "cell_type": "markdown",
   "id": "synthetic-sweet",
   "metadata": {},
   "source": [
    "Type `python` in the terminal and press enter, notice that the prompt changes to `>>>`. This means that we have entered a **Python interactive session**. We can run Python code and statements and they are executed one at a time in the interactive session. For example type `1+1`, press enter and see the result. Another prompt appears, ready to get the next command. For example, type `print('Hello world!')`, press enter and see the result. To exit from Python's interactive session, type `exit()` or `quit()` and press enter."
   ]
  },
  {
   "cell_type": "markdown",
   "id": "simple-money",
   "metadata": {},
   "source": [
    "### Clearing the terminal\n",
    "\n",
    "After a while, the terminal gets full of text! If you want to clean it up, you can use the `clear` command. A shortcut for this command is the `ctrl + l` key combination.\n",
    "\n"
   ]
  },
  {
   "cell_type": "markdown",
   "id": "developmental-allah",
   "metadata": {},
   "source": [
    "### Listing the previous commands you have entered\n",
    "\n",
    "To get a list of previous commands that you have typed in the terminal, you can use the `history` command. Note that next to each command there is a number. You can run that command again using `!` e.g. `!5` runs the `5th` line in the history of commands.\n",
    "\n",
    "Another way to go through the latest commands that you have typed in the terminal is to use the up ⬆️ arrow key. Once you find the desired command, you can run it by pressing the enter key (or you may modify the command as needed and then press the enter key)."
   ]
  },
  {
   "cell_type": "markdown",
   "id": "characteristic-acrylic",
   "metadata": {},
   "source": [
    "### Exiting the terminal\n",
    "\n",
    "To exit the terminal, you can type `exit`. This closes the terminal.\n",
    "\n",
    "--- \n",
    "\n",
    "These were some of the basic commands that we can use in the terminal. As we go further in the course, we will encounter more commands."
   ]
  },
  {
   "cell_type": "markdown",
   "id": "capable-difficulty",
   "metadata": {},
   "source": [
    " "
   ]
  },
  {
   "cell_type": "markdown",
   "id": "vietnamese-conversion",
   "metadata": {},
   "source": [
    " "
   ]
  },
  {
   "cell_type": "markdown",
   "id": "improved-block",
   "metadata": {},
   "source": [
    " "
   ]
  },
  {
   "cell_type": "markdown",
   "id": "thrown-simon",
   "metadata": {},
   "source": [
    "### Some Python program examples\n",
    "\n",
    "Today, you have already executed a Python script in the terminal using `python Week_01_script_01.py`. Also, you have interacted with the Python interactive session in the terminal. Let's experience with some more Python scripts here in the Jupyter notebook. The way it works, more or less, resembles the interactive session we experienced with above but there are differences as well.  "
   ]
  },
  {
   "cell_type": "markdown",
   "id": "institutional-display",
   "metadata": {},
   "source": [
    "### Even or odd?\n",
    "In the lecture, we saw an algorithm for finding `even` and `odd` numbers. Run the following cell and enter a number to see whether it is odd or even. Next, **try again** by inputting a *letter* instead of a *number* and see how Python reacts!"
   ]
  },
  {
   "cell_type": "code",
   "execution_count": null,
   "id": "responsible-sellers",
   "metadata": {},
   "outputs": [],
   "source": [
    "number = int(input('Enter a whole number: ')) \n",
    "if (number % 2) == 0:\n",
    "    print('%s is Even' %number)\n",
    "else:\n",
    "    print('%s is Odd' %number)"
   ]
  },
  {
   "cell_type": "markdown",
   "id": "authorized-liquid",
   "metadata": {},
   "source": [
    "### Finding a maximum algorithm\n",
    "\n",
    "Here we go through another algorithm: an algorithm for finding the **maximum value** of a list/series of numbers. Let's say that the list of numbers are stored in a variable called `numbers`.\n",
    "\n",
    "To find the maximum, we can take the first item/number from the list and assume that it is the maximum for now by assigning it to a variable called `maximum`. Next, we go through every other item in the list and check if it is greater than the maximum. If it is greater, we update the variable `maximum` with the larger number, if **not**, we continue by taking a new item from the list and do the check. We continue this iteration until there are no items left in the list."
   ]
  },
  {
   "cell_type": "code",
   "execution_count": null,
   "id": "enormous-cradle",
   "metadata": {},
   "outputs": [],
   "source": [
    "## Implementation of the maximum alogorithm explained above.\n",
    "## There are other implementations as well which might be faster or slower.\n",
    "numbers = [10, 5, 14, 21, 2, 6, 13]\n",
    "maximum = numbers.pop(0)\n",
    "for number in numbers:\n",
    "    if number > maximum:\n",
    "        maximum = number\n",
    "print(maximum)"
   ]
  },
  {
   "cell_type": "markdown",
   "id": "suspended-morning",
   "metadata": {},
   "source": [
    "Can you use similar idea and approach and write a Python code to find the minimum (**note**: this is optional)? "
   ]
  },
  {
   "cell_type": "code",
   "execution_count": null,
   "id": "activated-australian",
   "metadata": {},
   "outputs": [],
   "source": [
    "## Implement the minimum algorithm here (optional)"
   ]
  },
  {
   "cell_type": "markdown",
   "id": "micro-protocol",
   "metadata": {},
   "source": [
    "We can turn our algorithm for finding the maximum into a **Python function** so that we can reuse it later without the need to write every line again. Here is how we create a function in Python:"
   ]
  },
  {
   "cell_type": "code",
   "execution_count": null,
   "id": "sought-bench",
   "metadata": {},
   "outputs": [],
   "source": [
    "def find_maximum(numbers):\n",
    "    maximum = numbers.pop(0)\n",
    "    for number in numbers:\n",
    "        if number > maximum:\n",
    "            maximum = number\n",
    "    return(maximum)"
   ]
  },
  {
   "cell_type": "markdown",
   "id": "unavailable-reservoir",
   "metadata": {},
   "source": [
    "Now, we can reuse this function as many times as we want using different lists of numbers:"
   ]
  },
  {
   "cell_type": "code",
   "execution_count": null,
   "id": "brave-string",
   "metadata": {},
   "outputs": [],
   "source": [
    "nums = [10, 5, 14, 21, 2, 6, 13]\n",
    "find_maximum(nums)"
   ]
  },
  {
   "cell_type": "code",
   "execution_count": null,
   "id": "scheduled-advisory",
   "metadata": {},
   "outputs": [],
   "source": [
    "## similar as above without using directly a list of numbers and no variable\n",
    "find_maximum([10, 5, 14, 21, 2, 6, 13])"
   ]
  },
  {
   "cell_type": "code",
   "execution_count": null,
   "id": "matched-geneva",
   "metadata": {},
   "outputs": [],
   "source": [
    "## Using the function on another list\n",
    "find_maximum([1000, 1000.01, -10000])"
   ]
  },
  {
   "cell_type": "markdown",
   "id": "foster-collective",
   "metadata": {},
   "source": [
    "Actually, Python has a built-in `max()` function that does the above. Let's check it out and see which implementation is faster. To check the speed of the implementation of an algorithm, in Jupyter Notebook, we can use `%%timeit` cell magic (there are some other handy cell magics that we will learn about later)."
   ]
  },
  {
   "cell_type": "code",
   "execution_count": null,
   "id": "inside-multiple",
   "metadata": {},
   "outputs": [],
   "source": [
    "%%timeit\n",
    "find_maximum([10, 5, 14, 21, 2, 6, 13])"
   ]
  },
  {
   "cell_type": "code",
   "execution_count": null,
   "id": "greenhouse-bridge",
   "metadata": {},
   "outputs": [],
   "source": [
    "%%timeit\n",
    "max([10, 5, 14, 21, 2, 6, 13])"
   ]
  },
  {
   "cell_type": "markdown",
   "id": "chubby-dakota",
   "metadata": {},
   "source": [
    "We can see that the built-in `max()` function is around `29%` faster (**note**: you might get a slightly different result when you calculate the percent difference)."
   ]
  },
  {
   "cell_type": "markdown",
   "id": "going-ownership",
   "metadata": {},
   "source": [
    "### Extending Python functionalities with modules\n",
    "\n",
    "To extend Python functionalities, we can use different **modules** that are written by other programmers/developers. This is handy, because we do not need to spend time writing the code ourselves which saves us a lot of time.\n",
    "\n",
    "Typically, we have to search for and find the proper module that has implemented the functionality that we want, install it, load it, and then use it properly. Normally, each module comes with its own documentation. To learn how to use it properly, we should read its documentation.\n",
    "\n",
    "In the `GenePattern JupyterLab`, some of the modules that we are going to use in this course are already installed, some others, we need to install ourselves. Let's check `Pandas` module now. We will check the `Biopython` module next week."
   ]
  },
  {
   "cell_type": "markdown",
   "id": "static-owner",
   "metadata": {},
   "source": [
    "#### Checking some `Pandas` module functionalities\n",
    "\n",
    "You might have noticed that in the `Week_01` directory, there was a file named: `Week_01_file_02.tsv` (`.tsv` is short for *tab-separated values* file). Some data sets are saved in this format. Another format is `.csv` that is short for *comma-separated values* file.\n",
    "\n",
    "\n",
    "Let's use `Pandas` to load the content of this file which represents a dummy data set (if you like, you can check `Pandas`' documentation [here](https://pandas.pydata.org/docs/))."
   ]
  },
  {
   "cell_type": "code",
   "execution_count": null,
   "id": "gross-amplifier",
   "metadata": {},
   "outputs": [],
   "source": [
    "## Lines starting with one or more # are comments \n",
    "## and are not interpreted/executed by Python\n",
    "\n",
    "## This loads the Pandas module (this module was preinstalled)\n",
    "import pandas as pd\n",
    "\n",
    "## The following line loads the content of the\n",
    "## 'Week_01_file_02.tsv' file properly and \n",
    "## assigns it to a variable called df short for data frame\n",
    "df = pd.read_csv('Week_01_file_02.tsv', sep='\\t', index_col=0)\n",
    "\n",
    "## The following line displays the df variable \n",
    "## that contain the content \n",
    "display(df)"
   ]
  },
  {
   "cell_type": "code",
   "execution_count": null,
   "id": "attached-district",
   "metadata": {},
   "outputs": [],
   "source": [
    "## The following line shows the number of\n",
    "## rows and columns in the data set\n",
    "df.shape "
   ]
  },
  {
   "cell_type": "code",
   "execution_count": null,
   "id": "combined-trinidad",
   "metadata": {},
   "outputs": [],
   "source": [
    "## The folling line shows the value assinged to \n",
    "## gene AR in sample_3\n",
    "df.loc['AR', 'sample_3']"
   ]
  },
  {
   "cell_type": "code",
   "execution_count": null,
   "id": "subtle-novelty",
   "metadata": {},
   "outputs": [],
   "source": [
    "## The folling line shows the value assinged to \n",
    "## gene on row 2 in column 3. Note that in Python\n",
    "## counting starts from 0. \n",
    "df.iloc[1, 2]"
   ]
  },
  {
   "cell_type": "code",
   "execution_count": null,
   "id": "passive-adaptation",
   "metadata": {},
   "outputs": [],
   "source": [
    "## The following line finds the sum over columns\n",
    "## In Pandas, axis=0 means do the operation overs the columns\n",
    "df.sum(axis=0)"
   ]
  },
  {
   "cell_type": "code",
   "execution_count": null,
   "id": "applicable-internship",
   "metadata": {},
   "outputs": [],
   "source": [
    "## The following line finds the sum over rows\n",
    "## In Pandas, axis=1 means do the operation overs the row\n",
    "df.sum(axis=1) "
   ]
  },
  {
   "cell_type": "code",
   "execution_count": null,
   "id": "iraqi-walnut",
   "metadata": {},
   "outputs": [],
   "source": [
    "## We can even plot some basic charts\n",
    "df.plot(kind='bar');"
   ]
  },
  {
   "cell_type": "markdown",
   "id": "private-culture",
   "metadata": {},
   "source": [
    "#### Exercise\n",
    "\n",
    "In the following cells, reuse the codes above and modify them such that you load the content of the file called `Week_01_file_03.tsv` and extract the information to answer the following questions. Once you have the answers, go to Moodle and answer the quiz questions). \n",
    "\n",
    "- How many rows does this file have?\n",
    "- How many columns does this file have?\n",
    "- What is the value in row `2` and column `2`.\n",
    "- What is the sum of the values in the `5th` column?"
   ]
  },
  {
   "cell_type": "code",
   "execution_count": null,
   "id": "sixth-memorial",
   "metadata": {},
   "outputs": [],
   "source": []
  },
  {
   "cell_type": "code",
   "execution_count": null,
   "id": "spoken-coordinate",
   "metadata": {},
   "outputs": [],
   "source": []
  },
  {
   "cell_type": "code",
   "execution_count": null,
   "id": "distinct-brooks",
   "metadata": {},
   "outputs": [],
   "source": []
  },
  {
   "cell_type": "markdown",
   "id": "opening-india",
   "metadata": {},
   "source": [
    "Once you are done and you are ready to leave the GenePattern, save your work in the notebook by pressing `ctrl + s` or pressing the `diskette` icon. Next, click the `Running Terminals and Kernels` tab on the vertical left bar and shut down all the open terminals and notebooks/kernels. Next, go to `File` menu, and press `Log Out`."
   ]
  },
  {
   "cell_type": "code",
   "execution_count": null,
   "id": "global-automation",
   "metadata": {},
   "outputs": [],
   "source": []
  }
 ],
 "metadata": {
  "kernelspec": {
   "display_name": "Python 3 (ipykernel)",
   "language": "python",
   "name": "python3"
  },
  "language_info": {
   "codemirror_mode": {
    "name": "ipython",
    "version": 3
   },
   "file_extension": ".py",
   "mimetype": "text/x-python",
   "name": "python",
   "nbconvert_exporter": "python",
   "pygments_lexer": "ipython3",
   "version": "3.12.5"
  }
 },
 "nbformat": 4,
 "nbformat_minor": 5
}
