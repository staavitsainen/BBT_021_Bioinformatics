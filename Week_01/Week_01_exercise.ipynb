{
 "cells": [
  {
   "cell_type": "markdown",
   "id": "suffering-healing",
   "metadata": {},
   "source": [
    "# Week 1 computer exercises"
   ]
  },
  {
   "cell_type": "markdown",
   "id": "hollow-words",
   "metadata": {},
   "source": [
    "<p>This notebook is divided into <code>2</code> sections.</p>\n",
    "<ul>\n",
    "<li>First, we will practice with some Unix commands and tools using the terminal in JupyterLab.</li>\n",
    "<li>Next, we will use the JupyterLab notebook (i.e., this document) to get some experience with the Python programming language.</li>\n",
    "</ul>\n",
    "<p>Once you are done going through this document, go back to the Moodle quiz and answer the questions.</p>"
   ]
  },
  {
   "cell_type": "markdown",
   "id": "talented-diary",
   "metadata": {
    "tags": []
   },
   "source": [
    "## Some Unix commands and tools\n",
    "\n",
    "In this section, we practice with some Unix commands and tools using the terminal available in the GenePattern JupyterLab."
   ]
  },
  {
   "cell_type": "markdown",
   "id": "chief-pillow",
   "metadata": {},
   "source": [
    "### Opening a new terminal\n",
    "\n",
    "Let's start by opening a new terminal by selecting `File` from the menu and then select `New Launcher`. This opens a Launcher tab; under the `Other` section, press the `Terminal` button to open a new terminal. Now, we have a notebook and a terminal open (you can lay out the windows in the user interface as you wish, for example, you can put these two tabs side-by-side)."
   ]
  },
  {
   "cell_type": "markdown",
   "id": "norwegian-olympus",
   "metadata": {},
   "source": [
    "### Getting help about a command\n",
    "Normally, to get information about Unix commands and tools we can use the `man` command e.g. `man pwd`. Unfortunately, in the GenePattern JupyterLab, the `man` command is deactivated. Instead, in this course when needed, we use an online website called [explainshell](https://explainshell.com/) to get more information about some commands. For example, go to [explainshell](https://explainshell.com/) and type `pwd` there to get information about this command."
   ]
  },
  {
   "cell_type": "markdown",
   "id": "square-wallet",
   "metadata": {},
   "source": [
    "### Finding in which directory we are\n",
    "First, in the terminal type `pwd` to see in which directory we are. You should see an output that begins with `/home/jovyan` (if you are not using GenePattern JupyterLab, you may see something else)."
   ]
  },
  {
   "cell_type": "markdown",
   "id": "canadian-settlement",
   "metadata": {},
   "source": [
    "### Getting the name of the current user\n",
    "\n",
    "To get the name of the user, we can use the `whoami` command. Type is the terminal `whoami` and see the result. If you are interested to know why the user is called `jovyan`, please read this [page](https://github.com/jupyter/docker-stacks/issues/358#issuecomment-288844834)."
   ]
  },
  {
   "cell_type": "markdown",
   "id": "aggressive-phenomenon",
   "metadata": {},
   "source": [
    "### Changing the directory \n",
    "\n",
    "Let's change the directory to `BBT_021_Bioinformatics/Week_01/` using `cd`command like this: `cd BBT_021_Bioinformatics/Week_01/` (**Note**. if you are already in the destination directory, you do not need to use this command. To check this, you can use the `pwd` command to see the directory that you are currently in)."
   ]
  },
  {
   "cell_type": "markdown",
   "id": "purple-container",
   "metadata": {},
   "source": [
    "### Listing the content of a directory\n",
    "\n",
    "To list the content of the current directory, you can use `ls` command in the terminal. Try also `ls -lh` and check the difference. Also use [explainshell](https://explainshell.com/) to find out what is the purpose of `-lh` flags."
   ]
  },
  {
   "cell_type": "markdown",
   "id": "french-holiday",
   "metadata": {},
   "source": [
    "<h3 id=\"Inspecting-file-content\">Inspecting file contents</h3>\n",
    "<p>Let's inspect the content of a text file. In Unix, there are several ways to check the contents of a file without modifying it. For example, we can look at the first few lines of a file using the <code>head</code> command like <code>head file_name</code> (e.g., <code>head Week_01_file_01.txt</code>). This command by default prints the first <code>5</code> lines. If we want to print more or fewer lines, we can use the flag <code>-n</code> e.g. <code>head -n1</code> to print only <code>1</code> line. To see the last few lines of a file, we can use the <code>tail</code> command (<strong>note</strong> that we can use the <code>-n</code> flag here as well).</p>\n",
    "<p>If we want to print entire content of a file in the terminal, we can use another command called <code>cat</code>. However, this command is not handy if there are thousands of lines in file. Use this command to see the content of the <code>Week_01_file_01.txt</code> file.</p>\n",
    "<p>We can use the <code>wc -l</code> command to see how many lines there are in a file.</p>"
   ]
  },
  {
   "cell_type": "markdown",
   "id": "intensive-wrist",
   "metadata": {},
   "source": [
    "<h3 id=\"Running-a-Python-program-in-terminal\">Running a Python program in terminal</h3>\n",
    "<p>In our directory, there is a file called <code>Week_01_script_01.py</code>. Since it ends with <code>.py</code> we know that it is a Python script. We can check what it does by using the <code>python</code> command like this: <code>python Week_01_script_01.py</code>. Check what it does. Next, use the <code>cat</code> command to print the contents of this file to the terminal and check what the Python script looks like (<strong>note</strong>: no need to understand everything in this script at this point).</p>\n",
    "<p>⚠️ Always, run only scripts that you trust! Running not-trusted scripts might cause harm!</p>"
   ]
  },
  {
   "cell_type": "markdown",
   "id": "verified-baltimore",
   "metadata": {},
   "source": [
    "### Using Python in interactive mode in the terminal"
   ]
  },
  {
   "cell_type": "markdown",
   "id": "synthetic-sweet",
   "metadata": {},
   "source": [
    "Type `python` in the terminal and press enter, notice that the prompt changes to `>>>`. This means that we have entered a **Python interactive session**. We can run Python code and statements and they are executed one at a time in the interactive session. For example type `1+1`, press enter and see the result. Another prompt appears, ready to get the next command. For example, type `print('Hello world!')`, press enter and see the result. To exit from Python's interactive session, type `exit()` or `quit()` and press enter."
   ]
  },
  {
   "cell_type": "markdown",
   "id": "simple-money",
   "metadata": {},
   "source": [
    "### Clearing the terminal\n",
    "\n",
    "After a while, the terminal gets full of text! If you want to clean it up, you can use the `clear` command. A shortcut for this command is the `ctrl + l` key combination.\n",
    "\n"
   ]
  },
  {
   "cell_type": "markdown",
   "id": "developmental-allah",
   "metadata": {},
   "source": [
    "### Listing the previous commands you have entered\n",
    "\n",
    "To get a list of previous commands that you have typed in the terminal, you can use the `history` command. Note that next to each command there is a number. You can run that command again using `!` e.g. `!5` runs the `5th` line in the history of commands.\n",
    "\n",
    "Another way to go through the latest commands that you have typed in the terminal is to use the up ⬆️ arrow key. Once you find the desired command, you can run it by pressing the enter key (or you may modify the command as needed and then press the enter key)."
   ]
  },
  {
   "cell_type": "markdown",
   "id": "characteristic-acrylic",
   "metadata": {},
   "source": [
    "### Exiting the terminal\n",
    "\n",
    "To exit the terminal, you can type `exit`. This closes the terminal.\n",
    "\n",
    "--- \n",
    "\n",
    "These were some of the basic commands that we can use in the terminal. As we go further in the course, we will encounter more commands."
   ]
  },
  {
   "cell_type": "markdown",
   "id": "capable-difficulty",
   "metadata": {},
   "source": [
    " "
   ]
  },
  {
   "cell_type": "markdown",
   "id": "vietnamese-conversion",
   "metadata": {},
   "source": [
    " "
   ]
  },
  {
   "cell_type": "markdown",
   "id": "improved-block",
   "metadata": {},
   "source": [
    " "
   ]
  },
  {
   "cell_type": "markdown",
   "id": "thrown-simon",
   "metadata": {},
   "source": [
    "<h3 id=\"Some-Python-program-examples\">Some Python program examples</h3>\n",
    "<p>Today, you have already executed a Python script in the terminal using <code>python Week_01_script_01.py</code>. Also, you have interacted with the Python interactive session in the terminal. Let's experience with some more Python scripts here in the Jupyter notebook. The way it works, more or less, resembles the interactive session we experienced above but there are differences as well.</p>"
   ]
  },
  {
   "cell_type": "markdown",
   "id": "institutional-display",
   "metadata": {},
   "source": [
    "<h3 id=\"Even-or-odd?\">Even or odd?</h3>\n",
    "<p>In the lecture, we saw an algorithm for determining if a number is <code>even</code> and <code>odd</code>. <strong>Run the following cell and enter a number to see whether it is odd or even.</strong> You can run the code cell using several methods: first click on the cell and then 1) press Shift + Enter on your keyboard; or 2) at the top of the notebook tab, press on the play button icon; or 3) from the menu, select Run and then Run Selected Cells.</p>\n",
    "<p>Next, <strong>try again</strong> by inputting a <em>letter</em> instead of a <em>number</em> and see how Python reacts!</p>"
   ]
  },
  {
   "cell_type": "code",
   "execution_count": 5,
   "id": "responsible-sellers",
   "metadata": {
    "tags": []
   },
   "outputs": [
    {
     "name": "stdin",
     "output_type": "stream",
     "text": [
      "Enter a whole number:  2\n"
     ]
    },
    {
     "name": "stdout",
     "output_type": "stream",
     "text": [
      "2 is Even\n"
     ]
    }
   ],
   "source": [
    "number = int(input('Enter a whole number: ')) \n",
    "if (number % 2) == 0:\n",
    "    print('%s is Even' %number)\n",
    "else:\n",
    "    print('%s is Odd' %number)"
   ]
  },
  {
   "cell_type": "markdown",
   "id": "authorized-liquid",
   "metadata": {},
   "source": [
    "### Finding a maximum algorithm\n",
    "\n",
    "Here we go through another algorithm: an algorithm for finding the **maximum value** of a list/series of numbers. Let's say that the list of numbers are stored in a variable called `numbers`.\n",
    "\n",
    "To find the maximum, we can take the first item/number from the list and assume that it is the maximum for now by assigning it to a variable called `maximum`. Next, we go through every other item in the list and check if it is greater than the maximum. If it is greater, we update the variable `maximum` with the larger number, if **not**, we continue by taking a new item from the list and do the check. We continue this iteration until there are no items left in the list."
   ]
  },
  {
   "cell_type": "code",
   "execution_count": null,
   "id": "enormous-cradle",
   "metadata": {},
   "outputs": [],
   "source": [
    "## Implementation of the maximum alogorithm explained above.\n",
    "## There are other implementations as well which might be faster or slower.\n",
    "numbers = [10, 5, 14, 21, 2, 6, 13]\n",
    "maximum = numbers.pop(0)\n",
    "for number in numbers:\n",
    "    if number > maximum:\n",
    "        maximum = number\n",
    "print(maximum)"
   ]
  },
  {
   "cell_type": "markdown",
   "id": "suspended-morning",
   "metadata": {},
   "source": [
    "Can you use similar idea and approach and write a Python code to find the minimum (**note**: this is optional)? "
   ]
  },
  {
   "cell_type": "code",
   "execution_count": null,
   "id": "activated-australian",
   "metadata": {},
   "outputs": [],
   "source": [
    "## Implement the minimum algorithm here (optional)"
   ]
  },
  {
   "cell_type": "markdown",
   "id": "micro-protocol",
   "metadata": {},
   "source": [
    "We can turn our algorithm for finding the maximum into a **Python function** so that we can reuse it later without the need to write every line again. Here is how we create a function in Python:"
   ]
  },
  {
   "cell_type": "code",
   "execution_count": null,
   "id": "sought-bench",
   "metadata": {},
   "outputs": [],
   "source": [
    "def find_maximum(numbers):\n",
    "    maximum = numbers.pop(0)\n",
    "    for number in numbers:\n",
    "        if number > maximum:\n",
    "            maximum = number\n",
    "    return(maximum)"
   ]
  },
  {
   "cell_type": "markdown",
   "id": "unavailable-reservoir",
   "metadata": {},
   "source": [
    "Now, we can reuse this function as many times as we want using different lists of numbers:"
   ]
  },
  {
   "cell_type": "code",
   "execution_count": null,
   "id": "brave-string",
   "metadata": {},
   "outputs": [],
   "source": [
    "nums = [10, 5, 14, 21, 2, 6, 13]\n",
    "find_maximum(nums)"
   ]
  },
  {
   "cell_type": "code",
   "execution_count": null,
   "id": "scheduled-advisory",
   "metadata": {},
   "outputs": [],
   "source": [
    "## similar as above without using directly a list of numbers and no variable\n",
    "find_maximum([10, 5, 14, 21, 2, 6, 13])"
   ]
  },
  {
   "cell_type": "code",
   "execution_count": null,
   "id": "matched-geneva",
   "metadata": {},
   "outputs": [],
   "source": [
    "## Using the function on another list\n",
    "find_maximum([1000, 1000.01, -10000])"
   ]
  },
  {
   "cell_type": "markdown",
   "id": "foster-collective",
   "metadata": {},
   "source": [
    "Actually, Python has a built-in `max()` function that does the above. Let's check it out and see which implementation is faster. To check the speed of the implementation of an algorithm, in Jupyter Notebook, we can use `%%timeit` cell magic (there are some other handy cell magics that we will learn about later)."
   ]
  },
  {
   "cell_type": "code",
   "execution_count": null,
   "id": "inside-multiple",
   "metadata": {},
   "outputs": [],
   "source": [
    "%%timeit\n",
    "find_maximum([10, 5, 14, 21, 2, 6, 13])"
   ]
  },
  {
   "cell_type": "code",
   "execution_count": null,
   "id": "greenhouse-bridge",
   "metadata": {},
   "outputs": [],
   "source": [
    "%%timeit\n",
    "max([10, 5, 14, 21, 2, 6, 13])"
   ]
  },
  {
   "cell_type": "markdown",
   "id": "chubby-dakota",
   "metadata": {},
   "source": [
    "We can see that the built-in `max()` function is around `29%` faster (**note**: you might get a slightly different result when you calculate the percent difference)."
   ]
  },
  {
   "cell_type": "markdown",
   "id": "going-ownership",
   "metadata": {},
   "source": [
    "<h3 id=\"Extending-Python-functionalities-with-modules\">Extending Python functionalities with modules</h3>\n",
    "<p>To extend Python functionalities, we can use different <strong>modules</strong> that are written by other programmers/developers. This is handy, because we do not need to spend time writing the code ourselves which saves us a lot of time.</p>\n",
    "<p>Typically, we have to search for and find the proper module that has implemented the functionality that we want, install it, load it, and then use it properly. Normally, each module comes with its own documentation. To learn how to use it properly, we should read its documentation.</p>\n",
    "<p>In the <code>GenePattern JupyterLab</code>, some of the modules that we are going to use in this course are already installed, some others, we need to install ourselves. Let's check the <code>Pandas</code> module now. We will check the <code>Biopython</code> module next week.</p>"
   ]
  },
  {
   "cell_type": "markdown",
   "id": "static-owner",
   "metadata": {},
   "source": [
    "<h4 id=\"Checking-some-Pandas-module-functionalities\">Checking some <code>Pandas</code> module functionalities</h4>\n",
    "<p>You might have noticed that in the <code>Week_01</code> directory, there is a file named: <code>Week_01_file_02.tsv</code> (<code>.tsv</code> is short for <em>tab-separated values</em> file). Some data sets are saved in this format. Another format is <code>.csv</code> that is short for <em>comma-separated values</em> file.</p>\n",
    "<p>Let's use <code>Pandas</code> to load the content of this file which represents a dummy data set (if you like, you can check <code>Pandas</code>' documentation <a href=\"https://pandas.pydata.org/docs/\" target=\"_blank\" rel=\"noopener\">here</a>).</p>"
   ]
  },
  {
   "cell_type": "code",
   "execution_count": null,
   "id": "gross-amplifier",
   "metadata": {},
   "outputs": [],
   "source": [
    "## Lines starting with one or more # are comments \n",
    "## and are not interpreted/executed by Python\n",
    "\n",
    "## This loads the Pandas module (this module was preinstalled)\n",
    "import pandas as pd\n",
    "\n",
    "## The following line loads the content of the\n",
    "## 'Week_01_file_02.tsv' file properly and \n",
    "## assigns it to a variable called df short for data frame\n",
    "df = pd.read_csv('Week_01_file_02.tsv', sep='\\t', index_col=0)\n",
    "\n",
    "## The following line displays the df variable \n",
    "## that contain the content \n",
    "display(df)"
   ]
  },
  {
   "cell_type": "code",
   "execution_count": null,
   "id": "attached-district",
   "metadata": {},
   "outputs": [],
   "source": [
    "## The following line shows the number of\n",
    "## rows and columns in the data set\n",
    "df.shape "
   ]
  },
  {
   "cell_type": "code",
   "execution_count": null,
   "id": "combined-trinidad",
   "metadata": {},
   "outputs": [],
   "source": [
    "## The folling line shows the value assigned to \n",
    "## gene AR in sample_3\n",
    "df.loc['AR', 'sample_3']"
   ]
  },
  {
   "cell_type": "code",
   "execution_count": null,
   "id": "subtle-novelty",
   "metadata": {},
   "outputs": [],
   "source": [
    "## The folling line shows the value assigned to \n",
    "## gene on row 2 in column 3. Note that in Python\n",
    "## counting starts from 0. \n",
    "df.iloc[1, 2]"
   ]
  },
  {
   "cell_type": "code",
   "execution_count": null,
   "id": "passive-adaptation",
   "metadata": {},
   "outputs": [],
   "source": [
    "## The following line finds the sum over columns\n",
    "## In Pandas, axis=0 means do the operation overs the columns\n",
    "df.sum(axis=0)"
   ]
  },
  {
   "cell_type": "code",
   "execution_count": null,
   "id": "applicable-internship",
   "metadata": {},
   "outputs": [],
   "source": [
    "## The following line finds the sum over rows\n",
    "## In Pandas, axis=1 means do the operation overs the row\n",
    "df.sum(axis=1) "
   ]
  },
  {
   "cell_type": "code",
   "execution_count": null,
   "id": "iraqi-walnut",
   "metadata": {},
   "outputs": [],
   "source": [
    "## We can even plot some basic charts\n",
    "df.plot(kind='bar');"
   ]
  },
  {
   "cell_type": "markdown",
   "id": "private-culture",
   "metadata": {},
   "source": [
    "#### Exercise\n",
    "\n",
    "In the following cells, reuse the codes above and modify them such that you load the content of the file called `Week_01_file_03.tsv` and extract the information to answer the following questions. Once you have the answers, go to Moodle and answer the quiz questions). \n",
    "\n",
    "- How many rows does this file have?\n",
    "- How many columns does this file have?\n",
    "- What is the value in row `2` and column `2`.\n",
    "- What is the sum of the values in the `5th` column?"
   ]
  },
  {
   "cell_type": "code",
   "execution_count": null,
   "id": "sixth-memorial",
   "metadata": {},
   "outputs": [],
   "source": []
  },
  {
   "cell_type": "code",
   "execution_count": null,
   "id": "spoken-coordinate",
   "metadata": {},
   "outputs": [],
   "source": []
  },
  {
   "cell_type": "code",
   "execution_count": null,
   "id": "distinct-brooks",
   "metadata": {},
   "outputs": [],
   "source": []
  },
  {
   "cell_type": "markdown",
   "id": "opening-india",
   "metadata": {},
   "source": [
    "Once you are done and you are ready to leave the GenePattern, save your work in the notebook by pressing `ctrl + s` or pressing the `diskette` icon. Next, click the `Running Terminals and Kernels` tab on the vertical left bar and shut down all the open terminals and notebooks/kernels. Next, go to `File` menu, and press `Log Out`."
   ]
  },
  {
   "cell_type": "code",
   "execution_count": null,
   "id": "global-automation",
   "metadata": {},
   "outputs": [],
   "source": []
  }
 ],
 "metadata": {
  "GiN-version": "0.1.0a8",
  "kernelspec": {
   "display_name": "Python 3 (ipykernel)",
   "language": "python",
   "name": "python3"
  },
  "language_info": {
   "codemirror_mode": {
    "name": "ipython",
    "version": 3
   },
   "file_extension": ".py",
   "mimetype": "text/x-python",
   "name": "python",
   "nbconvert_exporter": "python",
   "pygments_lexer": "ipython3",
   "version": "3.10.10"
  },
  "widgets": {
   "application/vnd.jupyter.widget-state+json": {
    "state": {
     "008821f3d00d400387302ec4f704b738": {
      "model_module": "@jupyter-widgets/controls",
      "model_module_version": "2.0.0",
      "model_name": "GridBoxModel",
      "state": {
       "_dom_classes": [
        "nbtools-input",
        "nbtools-textinput"
       ],
       "children": [
        "IPY_MODEL_9b5b100bcf434e75b500b64cfe1ece71",
        "IPY_MODEL_bcebfa8595e64629b886bd5befd7fd5d",
        "IPY_MODEL_2e6b1243d91a4a29837a72cae01f9bff"
       ],
       "layout": "IPY_MODEL_eb39eef116f441be851d523f38f750a1"
      }
     },
     "01f1d628319047a8b5255f2c17923db4": {
      "model_module": "@jupyter-widgets/controls",
      "model_module_version": "2.0.0",
      "model_name": "TextStyleModel",
      "state": {
       "description_width": "",
       "font_size": null,
       "text_color": null
      }
     },
     "0241958a6ca74473be41bbc997700010": {
      "model_module": "@jupyter-widgets/controls",
      "model_module_version": "2.0.0",
      "model_name": "ButtonStyleModel",
      "state": {
       "font_family": null,
       "font_size": null,
       "font_style": null,
       "font_variant": null,
       "font_weight": null,
       "text_color": null,
       "text_decoration": null
      }
     },
     "07b3ef1009c34af7b0c4a6a6516691a9": {
      "model_module": "@jupyter-widgets/base",
      "model_module_version": "2.0.0",
      "model_name": "LayoutModel",
      "state": {
       "grid_area": "input",
       "width": "auto"
      }
     },
     "0995fd9758ab485596107c0396fb69c2": {
      "model_module": "@jupyter-widgets/base",
      "model_module_version": "2.0.0",
      "model_name": "LayoutModel",
      "state": {}
     },
     "0a135a8340cf48719e6439dc0625e044": {
      "model_module": "@jupyter-widgets/controls",
      "model_module_version": "2.0.0",
      "model_name": "LabelStyleModel",
      "state": {
       "description_width": "",
       "font_family": null,
       "font_size": null,
       "font_style": null,
       "font_variant": null,
       "font_weight": null,
       "text_color": null,
       "text_decoration": null
      }
     },
     "0ba39d038dee47c4b5bafb945d543764": {
      "model_module": "@jupyter-widgets/controls",
      "model_module_version": "2.0.0",
      "model_name": "LabelStyleModel",
      "state": {
       "description_width": "",
       "font_family": null,
       "font_size": null,
       "font_style": null,
       "font_variant": null,
       "font_weight": null,
       "text_color": null,
       "text_decoration": null
      }
     },
     "0c10c276913d4c0b8c731d5a4a64330e": {
      "model_module": "@jupyter-widgets/controls",
      "model_module_version": "2.0.0",
      "model_name": "ButtonStyleModel",
      "state": {
       "font_family": null,
       "font_size": null,
       "font_style": null,
       "font_variant": null,
       "font_weight": null,
       "text_color": null,
       "text_decoration": null
      }
     },
     "0c49bf043b41404fa18b3751f68870b8": {
      "model_module": "@jupyter-widgets/controls",
      "model_module_version": "2.0.0",
      "model_name": "LabelStyleModel",
      "state": {
       "description_width": "",
       "font_family": null,
       "font_size": null,
       "font_style": null,
       "font_variant": null,
       "font_weight": null,
       "text_color": null,
       "text_decoration": null
      }
     },
     "0c6ede10ca184d1387dfb72a4ffe860b": {
      "model_module": "@jupyter-widgets/base",
      "model_module_version": "2.0.0",
      "model_name": "LayoutModel",
      "state": {
       "grid_template_areas": "\n                    \"label input\"\n                    \". description\"\n                ",
       "grid_template_columns": "25% 75%",
       "grid_template_rows": "auto auto",
       "width": "100%"
      }
     },
     "0f5a87c674be4d84bcd1dcae74fda0d5": {
      "model_module": "@jupyter-widgets/controls",
      "model_module_version": "2.0.0",
      "model_name": "LabelModel",
      "state": {
       "description": "tracks",
       "layout": "IPY_MODEL_d75c6d7f3170403fb1e1c48397076764",
       "style": "IPY_MODEL_7299910809c4441cbda797bd30dad455",
       "value": "tracks"
      }
     },
     "10aebb03d7ca4672b9843a3442ca5bf5": {
      "model_module": "@jupyter-widgets/base",
      "model_module_version": "2.0.0",
      "model_name": "LayoutModel",
      "state": {
       "display": "none",
       "grid_template_areas": "\n                    \"label input\"\n                    \". description\"\n                ",
       "grid_template_columns": "25% 75%",
       "grid_template_rows": "auto auto",
       "width": "100%"
      }
     },
     "12660f2a659840e18f53b22f0455a40f": {
      "model_module": "@jupyter-widgets/controls",
      "model_module_version": "2.0.0",
      "model_name": "VBoxModel",
      "state": {
       "_dom_classes": [
        "widget-interact"
       ],
       "children": [
        "IPY_MODEL_f7f1f5a735ed47f29ec3ef44c4256813",
        "IPY_MODEL_97ceb51fd3e7443aa559ad738f621573",
        "IPY_MODEL_008821f3d00d400387302ec4f704b738"
       ],
       "layout": "IPY_MODEL_c666347b4fb941578fee79b08ad3445d"
      }
     },
     "13588b29d48f49b4b74b6cc39c66dc4c": {
      "model_module": "@jupyter-widgets/controls",
      "model_module_version": "2.0.0",
      "model_name": "LabelStyleModel",
      "state": {
       "description_width": "",
       "font_family": null,
       "font_size": null,
       "font_style": null,
       "font_variant": null,
       "font_weight": null,
       "text_color": null,
       "text_decoration": null
      }
     },
     "148af65f5b9643098145e1cb9de7d319": {
      "model_module": "@jupyter-widgets/base",
      "model_module_version": "2.0.0",
      "model_name": "LayoutModel",
      "state": {}
     },
     "178745bfc0164acd87a37597e35f56b7": {
      "model_module": "@jupyter-widgets/base",
      "model_module_version": "2.0.0",
      "model_name": "LayoutModel",
      "state": {
       "display": "none",
       "grid_template_areas": "\n                    \"label input\"\n                    \". description\"\n                ",
       "grid_template_columns": "25% 75%",
       "grid_template_rows": "auto auto",
       "width": "100%"
      }
     },
     "1825c88d2fb749d49dd2dd288ef74a4d": {
      "model_module": "@jupyter-widgets/base",
      "model_module_version": "2.0.0",
      "model_name": "LayoutModel",
      "state": {
       "grid_area": "label",
       "width": "auto"
      }
     },
     "191a4fe80f91455cad21e8225b4ab993": {
      "model_module": "@jupyter-widgets/base",
      "model_module_version": "2.0.0",
      "model_name": "LayoutModel",
      "state": {}
     },
     "1a08d997cb224eb29c8a3d20bd31ec58": {
      "model_module": "@jupyter-widgets/base",
      "model_module_version": "2.0.0",
      "model_name": "LayoutModel",
      "state": {
       "grid_area": "input",
       "width": "auto"
      }
     },
     "1f397292aced4d38a01aee77b116ec2b": {
      "model_module": "@jupyter-widgets/controls",
      "model_module_version": "2.0.0",
      "model_name": "HBoxModel",
      "state": {
       "children": [
        "IPY_MODEL_35c7f43b7a284e48871d946a28f88cf7",
        "IPY_MODEL_b51b7ad676e74a9599ce68ef5c1bc04f"
       ],
       "layout": "IPY_MODEL_d4a2269d37e74bbc98839f9b817d3197"
      }
     },
     "2019883453254f76bd9fce395059c336": {
      "model_module": "@jupyter-widgets/controls",
      "model_module_version": "2.0.0",
      "model_name": "GridBoxModel",
      "state": {
       "_dom_classes": [
        "nbtools-input",
        "nbtools-fileinput"
       ],
       "children": [
        "IPY_MODEL_0f5a87c674be4d84bcd1dcae74fda0d5",
        "IPY_MODEL_ac4f4cd2cd584363b788dba9a41a4f00",
        "IPY_MODEL_7c7973b5f0404e88aaa5c5a2c2b00539"
       ],
       "layout": "IPY_MODEL_21691be0d31f4838aeead46c838f872e"
      }
     },
     "2094213447dd433fa7bee99b2b228da4": {
      "model_module": "@jupyter-widgets/base",
      "model_module_version": "2.0.0",
      "model_name": "LayoutModel",
      "state": {
       "grid_area": "label",
       "width": "auto"
      }
     },
     "21691be0d31f4838aeead46c838f872e": {
      "model_module": "@jupyter-widgets/base",
      "model_module_version": "2.0.0",
      "model_name": "LayoutModel",
      "state": {
       "grid_template_areas": "\n                    \"label input\"\n                    \". description\"\n                ",
       "grid_template_columns": "25% 75%",
       "grid_template_rows": "auto auto",
       "width": "100%"
      }
     },
     "21d4dd13d19444fb99288db32e8fa4de": {
      "model_module": "@jupyter-widgets/base",
      "model_module_version": "2.0.0",
      "model_name": "LayoutModel",
      "state": {
       "grid_area": "label",
       "width": "auto"
      }
     },
     "2316ab99c0da43d8bff5d32536249302": {
      "model_module": "@jupyter-widgets/controls",
      "model_module_version": "2.0.0",
      "model_name": "LabelModel",
      "state": {
       "description": "output variable",
       "layout": "IPY_MODEL_697fd00b0a1c4b66af544ecaf1d79524",
       "style": "IPY_MODEL_65b3bd63bbdc4335ba41393f171bac19",
       "value": "output variable"
      }
     },
     "23d06c8ec6d84d20b7a9b8e1c8629853": {
      "model_module": "@jupyter-widgets/output",
      "model_module_version": "1.0.0",
      "model_name": "OutputModel",
      "state": {
       "layout": "IPY_MODEL_4e83aca800f047adb4e06b1260ab22c9"
      }
     },
     "26e0f1146f5b44eb95aba208a662ac7c": {
      "model_module": "@jupyter-widgets/base",
      "model_module_version": "2.0.0",
      "model_name": "LayoutModel",
      "state": {
       "grid_area": "description",
       "width": "auto"
      }
     },
     "29b6a233d557408a92df9977fd6ef7aa": {
      "model_module": "@jupyter-widgets/base",
      "model_module_version": "2.0.0",
      "model_name": "LayoutModel",
      "state": {}
     },
     "2ab2d21e68ce49888eb38dc92baad496": {
      "model_module": "@jupyter-widgets/base",
      "model_module_version": "2.0.0",
      "model_name": "LayoutModel",
      "state": {}
     },
     "2ac3400817ed4ecb9e48611970361e56": {
      "model_module": "@jupyter-widgets/controls",
      "model_module_version": "2.0.0",
      "model_name": "TextStyleModel",
      "state": {
       "description_width": "",
       "font_size": null,
       "text_color": null
      }
     },
     "2bf92fb62b9a4366a5498163ce371b7e": {
      "model_module": "@jupyter-widgets/base",
      "model_module_version": "2.0.0",
      "model_name": "LayoutModel",
      "state": {}
     },
     "2e6b1243d91a4a29837a72cae01f9bff": {
      "model_module": "@jupyter-widgets/controls",
      "model_module_version": "2.0.0",
      "model_name": "LabelModel",
      "state": {
       "layout": "IPY_MODEL_5d02077d151e49e780f367e6ed031d08",
       "style": "IPY_MODEL_0ba39d038dee47c4b5bafb945d543764"
      }
     },
     "30e876d9a1e14e0bab8c959600c9b2fc": {
      "model_module": "@jupyter-widgets/controls",
      "model_module_version": "2.0.0",
      "model_name": "LabelStyleModel",
      "state": {
       "description_width": "",
       "font_family": null,
       "font_size": null,
       "font_style": null,
       "font_variant": null,
       "font_weight": null,
       "text_color": null,
       "text_decoration": null
      }
     },
     "3119a1e515804aa1bfeafffdb7c44bc4": {
      "model_module": "@jupyter-widgets/controls",
      "model_module_version": "2.0.0",
      "model_name": "LabelStyleModel",
      "state": {
       "description_width": "",
       "font_family": null,
       "font_size": null,
       "font_style": null,
       "font_variant": null,
       "font_weight": null,
       "text_color": null,
       "text_decoration": null
      }
     },
     "32b2525e143f4eeea9944cd27611b01b": {
      "model_module": "@jupyter-widgets/base",
      "model_module_version": "2.0.0",
      "model_name": "LayoutModel",
      "state": {}
     },
     "33bde572d1c643a397b9056c5b2073f4": {
      "model_module": "@g2nb/nbtools",
      "model_module_version": ">=24.8.0",
      "model_name": "UIBuilderModel",
      "state": {
       "_model_module_version": ">=24.8.0",
       "_parameters": [
        {
         "choices": {
          "Bonobo (MPI-EVA panpan1.1/panPan2)": "panPan2",
          "C. elegans (ce11)": "ce11",
          "Chimp (SAC 2.1.4/panTro4)": "panTro4",
          "Cow (UMD_3.1.1/bosTau8)": "bosTau8",
          "D. melanogaster (dm6)": "dm6",
          "Dog (Broad CanFam3.1/canFam3)": "canFam3",
          "Gorilla (gorGor4.1/gorGor4)": "gorGor4",
          "Human (CRCh37/hg19)": "hg19",
          "Human (GRCh38/hg38)": "hg38",
          "Human (hg18)": "hg18",
          "Mouse (GRCm38/mm10)": "mm10",
          "Pig (SGSC Sscrofa11.1/susScr11)": "susScr11",
          "Rat (RGCS 6.0/rn6)": "rn6",
          "S. cerevisiae (sacCer3)": "sacCer3",
          "Zebrafish (GRCZ10/danRer10)": "danRer10",
          "Zebrafish (GRCZ11/danRer11)": "danRer11"
         },
         "combo": true,
         "default": "hg38",
         "description": "Choose the genome for your data.",
         "events": null,
         "hide": false,
         "id": null,
         "kinds": null,
         "label": "genome",
         "name": "genome",
         "optional": false,
         "sendto": false,
         "type": "choice",
         "value": ""
        },
        {
         "choices": {},
         "default": "",
         "description": "Enter the URL to the track dataset(s)",
         "events": null,
         "hide": false,
         "id": null,
         "kinds": null,
         "label": "tracks",
         "maximum": 100,
         "name": "tracks",
         "optional": true,
         "type": "file",
         "value": "None"
        },
        {
         "choices": {},
         "default": "",
         "description": "Enter the URL to the index files that correspond to each track",
         "events": null,
         "hide": false,
         "id": null,
         "kinds": null,
         "label": "indices",
         "maximum": 100,
         "name": "indices",
         "optional": true,
         "type": "file",
         "value": "None"
        },
        {
         "choices": {
          "": "",
          "bam": "bam",
          "bb": "bb",
          "bed": "bed",
          "bedgraph": "bedgraph",
          "bedpe": "bedpe",
          "bedpe-loop": "bedpe-loop",
          "bigbed": "bigbed",
          "bigwig": "bigwig",
          "bp": "bp",
          "bw": "bw",
          "cram": "cram",
          "gwas": "gwas",
          "mut": "mut",
          "seg": "seg",
          "tdf": "tdf",
          "vcf": "vcf",
          "wig": "wig"
         },
         "combo": true,
         "default": "",
         "description": "Enter the format of the track datasets",
         "events": null,
         "hide": false,
         "id": null,
         "kinds": null,
         "label": "track format",
         "name": "track_format",
         "optional": true,
         "type": "choice",
         "value": "None"
        },
        {
         "choices": {
          "": "",
          "alignment": "alignment",
          "annotation": "annotation",
          "arc": "arc",
          "bedtype": "bedtype",
          "gwas": "gwas",
          "interaction": "interaction",
          "mut": "mut",
          "seg": "seg",
          "variant": "variant",
          "wig": "wig"
         },
         "combo": true,
         "default": "",
         "description": "Enter the type of the track datasets",
         "events": null,
         "hide": false,
         "id": null,
         "kinds": null,
         "label": "track type",
         "name": "track_type",
         "optional": true,
         "type": "choice",
         "value": "None"
        },
        {
         "choices": {},
         "default": "",
         "description": "Provide a locus or gene of interest for your data",
         "events": null,
         "hide": false,
         "id": null,
         "kinds": null,
         "label": "locus",
         "name": "locus",
         "optional": true,
         "type": "text",
         "value": "None"
        },
        {
         "choices": {},
         "default": "",
         "description": "",
         "events": null,
         "hide": true,
         "id": null,
         "kinds": null,
         "label": "output variable",
         "name": "output_var",
         "optional": true,
         "type": "text",
         "value": ""
        }
       ],
       "_view_count": 0,
       "_view_module_version": ">=24.8.0",
       "color": "#4a8797",
       "description": "Use igv.js to embed an interactive genome visualization",
       "form": "IPY_MODEL_3e43d23cb9fa4ef0ab65217ef3eafd6b",
       "layout": "IPY_MODEL_474221ad842944eb83fe86239745b28b",
       "logo": "http://igv.org/web/img/favicon.ico",
       "name": "Integrative Genomics Viewer (IGV)",
       "origin": "+",
       "output": "IPY_MODEL_ed64deefcd7e4b4b919036c221eb3c99",
       "output_var": "",
       "parameter_groups": [
        {
         "name": "Basic Parameters",
         "parameters": [
          "genome",
          "tracks",
          "indices",
          "locus"
         ]
        },
        {
         "advanced": true,
         "hidden": false,
         "name": "Advanced Parameters",
         "parameters": [
          "track_format",
          "track_type"
         ]
        }
       ],
       "run_label": "Visualize"
      }
     },
     "35ab89b9decb468fbcd3ca38a3f0d854": {
      "model_module": "@g2nb/ipyuploads",
      "model_module_version": "0.2.4",
      "model_name": "UploadModel",
      "state": {
       "description_allow_html": false,
       "layout": "IPY_MODEL_2bf92fb62b9a4366a5498163ce371b7e",
       "style": "IPY_MODEL_5e9d289ff0cf416e8dfec5e0efcb6bc8",
       "upload_dir": ""
      }
     },
     "35c7f43b7a284e48871d946a28f88cf7": {
      "model_module": "@g2nb/ipyuploads",
      "model_module_version": "0.2.4",
      "model_name": "UploadModel",
      "state": {
       "description_allow_html": false,
       "layout": "IPY_MODEL_fda44ff3682743caa4b2b035aa698d64",
       "style": "IPY_MODEL_4ae74608f3cb4c2f9b56a65efae56dbd",
       "upload_dir": ""
      }
     },
     "3637cc2afe6c43b1ae3a6c797fc87808": {
      "model_module": "@jupyter-widgets/base",
      "model_module_version": "2.0.0",
      "model_name": "LayoutModel",
      "state": {
       "grid_area": "label",
       "width": "auto"
      }
     },
     "39e04df6b84a4100b3fe96ce2b2d3623": {
      "model_module": "@jupyter-widgets/base",
      "model_module_version": "2.0.0",
      "model_name": "LayoutModel",
      "state": {
       "grid_area": "input",
       "width": "auto"
      }
     },
     "3a75d995a7804aeb9cc6b503effc2a3e": {
      "model_module": "@jupyter-widgets/controls",
      "model_module_version": "2.0.0",
      "model_name": "TextStyleModel",
      "state": {
       "description_width": "",
       "font_size": null,
       "text_color": null
      }
     },
     "3aa782cd778242f5903cd5b6e889049c": {
      "model_module": "@jupyter-widgets/controls",
      "model_module_version": "2.0.0",
      "model_name": "GridBoxModel",
      "state": {
       "_dom_classes": [
        "nbtools-input",
        "nbtools-comboinput",
        "required"
       ],
       "children": [
        "IPY_MODEL_776841b556c444cb905509c76b6282a1",
        "IPY_MODEL_b41be81290f448e5879224cb4be6cedd",
        "IPY_MODEL_6ec5d3ceb36741b1b0260304c9feef29"
       ],
       "layout": "IPY_MODEL_a8779c58ec0c43519fb519be9f9f40d2"
      }
     },
     "3ad9d3ac124a43b79d23480358f59ca9": {
      "model_module": "@jupyter-widgets/controls",
      "model_module_version": "2.0.0",
      "model_name": "LabelStyleModel",
      "state": {
       "description_width": "",
       "font_family": null,
       "font_size": null,
       "font_style": null,
       "font_variant": null,
       "font_weight": null,
       "text_color": null,
       "text_decoration": null
      }
     },
     "3afc33187de542d39147952dc735609d": {
      "model_module": "@jupyter-widgets/controls",
      "model_module_version": "2.0.0",
      "model_name": "TextStyleModel",
      "state": {
       "description_width": "",
       "font_size": null,
       "text_color": null
      }
     },
     "3bb9d1be71644c6baf21cecd997ba1ab": {
      "model_module": "@jupyter-widgets/base",
      "model_module_version": "2.0.0",
      "model_name": "LayoutModel",
      "state": {
       "grid_area": "description",
       "width": "auto"
      }
     },
     "3d43ff1b59884fb686aee8c4db2d5d22": {
      "model_module": "@jupyter-widgets/controls",
      "model_module_version": "2.0.0",
      "model_name": "VBoxModel",
      "state": {
       "_dom_classes": [
        "widget-interact"
       ],
       "children": [
        "IPY_MODEL_f79fa1c1869e4bd1bb877ea4ea436a99",
        "IPY_MODEL_894ed0a8b5ef4a96a38e329db70502b3"
       ],
       "layout": "IPY_MODEL_98b2621ef84b4f4a9b87681e572ab554"
      }
     },
     "3dd55eea070249fba97e289557abef6d": {
      "model_module": "@jupyter-widgets/controls",
      "model_module_version": "2.0.0",
      "model_name": "LabelStyleModel",
      "state": {
       "description_width": "",
       "font_family": null,
       "font_size": null,
       "font_style": null,
       "font_variant": null,
       "font_weight": null,
       "text_color": null,
       "text_decoration": null
      }
     },
     "3e43d23cb9fa4ef0ab65217ef3eafd6b": {
      "model_module": "@jupyter-widgets/controls",
      "model_module_version": "2.0.0",
      "model_name": "VBoxModel",
      "state": {
       "_dom_classes": [
        "widget-interact"
       ],
       "children": [
        "IPY_MODEL_3aa782cd778242f5903cd5b6e889049c",
        "IPY_MODEL_2019883453254f76bd9fce395059c336",
        "IPY_MODEL_a3493a1523c14fc59ca8b4bede778d18",
        "IPY_MODEL_bb9767e8634b4bc7bf0b6ea781fc9b4c",
        "IPY_MODEL_fab46ec57db94fbda816dc68e6bf7664",
        "IPY_MODEL_8db8eaa270c541eaacd6a40de086b107",
        "IPY_MODEL_528308737837455d92b3c3da5d5bd759",
        "IPY_MODEL_ef5f8085501a4dc0ae570064b4b98500"
       ],
       "layout": "IPY_MODEL_c7bbede720c745ff92ad17caebd90f4e"
      }
     },
     "3e74ddc0f7ee4b61a79e34c4af314b58": {
      "model_module": "@jupyter-widgets/base",
      "model_module_version": "2.0.0",
      "model_name": "LayoutModel",
      "state": {
       "grid_template_areas": "\n                    \"label input\"\n                    \". description\"\n                ",
       "grid_template_columns": "25% 75%",
       "grid_template_rows": "auto auto",
       "width": "100%"
      }
     },
     "3f047fc6c5fa4eadabb8d3f0d3ba4a4c": {
      "model_module": "@jupyter-widgets/controls",
      "model_module_version": "2.0.0",
      "model_name": "TextStyleModel",
      "state": {
       "description_width": "",
       "font_size": null,
       "text_color": null
      }
     },
     "44b3238b432e4f0fa619570cce5ef3ea": {
      "model_module": "@jupyter-widgets/controls",
      "model_module_version": "2.0.0",
      "model_name": "ComboboxModel",
      "state": {
       "_dom_classes": [
        "nbtools-menu-attached"
       ],
       "choices": {},
       "ensure_option": false,
       "kinds": [],
       "layout": "IPY_MODEL_8c042f6f10144e8689f33e53dae14fd0",
       "style": "IPY_MODEL_3a75d995a7804aeb9cc6b503effc2a3e"
      }
     },
     "46322c561d5c40c090290faba9ad1536": {
      "model_module": "@jupyter-widgets/base",
      "model_module_version": "2.0.0",
      "model_name": "LayoutModel",
      "state": {
       "grid_area": "description",
       "width": "auto"
      }
     },
     "474221ad842944eb83fe86239745b28b": {
      "model_module": "@jupyter-widgets/base",
      "model_module_version": "2.0.0",
      "model_name": "LayoutModel",
      "state": {}
     },
     "49202f5abdd5427590a7470e08b2ceba": {
      "model_module": "@jupyter-widgets/controls",
      "model_module_version": "2.0.0",
      "model_name": "TextModel",
      "state": {
       "_dom_classes": [
        "nbtools-menu-attached"
       ],
       "layout": "IPY_MODEL_c2fb07317f5749688f570eead2ebc557",
       "style": "IPY_MODEL_2ac3400817ed4ecb9e48611970361e56"
      }
     },
     "4a1058fe4f9d4c9586e29cd0d5d764e2": {
      "model_module": "@jupyter-widgets/base",
      "model_module_version": "2.0.0",
      "model_name": "LayoutModel",
      "state": {
       "grid_area": "input",
       "width": "auto"
      }
     },
     "4ae74608f3cb4c2f9b56a65efae56dbd": {
      "model_module": "@jupyter-widgets/controls",
      "model_module_version": "2.0.0",
      "model_name": "ButtonStyleModel",
      "state": {
       "font_family": null,
       "font_size": null,
       "font_style": null,
       "font_variant": null,
       "font_weight": null,
       "text_color": null,
       "text_decoration": null
      }
     },
     "4e7f1286d73d407cb00fda2fddeff8e6": {
      "model_module": "@jupyter-widgets/controls",
      "model_module_version": "2.0.0",
      "model_name": "LabelStyleModel",
      "state": {
       "description_width": "",
       "font_family": null,
       "font_size": null,
       "font_style": null,
       "font_variant": null,
       "font_weight": null,
       "text_color": null,
       "text_decoration": null
      }
     },
     "4e83aca800f047adb4e06b1260ab22c9": {
      "model_module": "@jupyter-widgets/base",
      "model_module_version": "2.0.0",
      "model_name": "LayoutModel",
      "state": {}
     },
     "4f83c24c9dfd42f697e8755842d024a0": {
      "model_module": "@jupyter-widgets/controls",
      "model_module_version": "2.0.0",
      "model_name": "LabelStyleModel",
      "state": {
       "description_width": "",
       "font_family": null,
       "font_size": null,
       "font_style": null,
       "font_variant": null,
       "font_weight": null,
       "text_color": null,
       "text_decoration": null
      }
     },
     "4fe95d2b07214c8d80e8e92fc1a1d13c": {
      "model_module": "@jupyter-widgets/controls",
      "model_module_version": "2.0.0",
      "model_name": "ComboboxModel",
      "state": {
       "_dom_classes": [
        "nbtools-menu-attached"
       ],
       "choices": {},
       "ensure_option": false,
       "kinds": [],
       "layout": "IPY_MODEL_0995fd9758ab485596107c0396fb69c2",
       "style": "IPY_MODEL_01f1d628319047a8b5255f2c17923db4"
      }
     },
     "528308737837455d92b3c3da5d5bd759": {
      "model_module": "@jupyter-widgets/controls",
      "model_module_version": "2.0.0",
      "model_name": "ButtonModel",
      "state": {
       "_dom_classes": [
        "hidden"
       ],
       "description": "Run",
       "layout": "IPY_MODEL_9c881744df5c4eeb9cc3999b18692a4b",
       "style": "IPY_MODEL_feb8e4ff6b1a445ba9b47a338d233f7b",
       "tooltip": null
      }
     },
     "52c067fed6884d07968514e517ad330a": {
      "model_module": "@jupyter-widgets/controls",
      "model_module_version": "2.0.0",
      "model_name": "LabelModel",
      "state": {
       "layout": "IPY_MODEL_a042550c79704a049e23284c28f433ce",
       "style": "IPY_MODEL_e9e290755a5b4f6b882ae3e0394939c1"
      }
     },
     "54df85a18477479695409752bb7288a4": {
      "model_module": "@jupyter-widgets/base",
      "model_module_version": "2.0.0",
      "model_name": "LayoutModel",
      "state": {}
     },
     "567ef639d5d84ce8b23ca9e34633927d": {
      "model_module": "@jupyter-widgets/controls",
      "model_module_version": "2.0.0",
      "model_name": "VBoxModel",
      "state": {
       "children": [
        "IPY_MODEL_b5a45fe87536432f92f266c8367c7bd5"
       ],
       "layout": "IPY_MODEL_597773ff5027444188fd6fdfb9d6cf8e"
      }
     },
     "57366480ab814c9e9a5fb0ec8621df89": {
      "model_module": "@jupyter-widgets/controls",
      "model_module_version": "2.0.0",
      "model_name": "TextStyleModel",
      "state": {
       "description_width": "",
       "font_size": null,
       "text_color": null
      }
     },
     "597773ff5027444188fd6fdfb9d6cf8e": {
      "model_module": "@jupyter-widgets/base",
      "model_module_version": "2.0.0",
      "model_name": "LayoutModel",
      "state": {}
     },
     "5a9f0b07902e48d4aba9aa0933138ae5": {
      "model_module": "@jupyter-widgets/base",
      "model_module_version": "2.0.0",
      "model_name": "LayoutModel",
      "state": {}
     },
     "5c1cfc177f13417d80b4d557e900486c": {
      "model_module": "@jupyter-widgets/base",
      "model_module_version": "2.0.0",
      "model_name": "LayoutModel",
      "state": {
       "grid_area": "description",
       "width": "auto"
      }
     },
     "5d02077d151e49e780f367e6ed031d08": {
      "model_module": "@jupyter-widgets/base",
      "model_module_version": "2.0.0",
      "model_name": "LayoutModel",
      "state": {
       "grid_area": "description",
       "width": "auto"
      }
     },
     "5e9d289ff0cf416e8dfec5e0efcb6bc8": {
      "model_module": "@jupyter-widgets/controls",
      "model_module_version": "2.0.0",
      "model_name": "ButtonStyleModel",
      "state": {
       "font_family": null,
       "font_size": null,
       "font_style": null,
       "font_variant": null,
       "font_weight": null,
       "text_color": null,
       "text_decoration": null
      }
     },
     "5f2f46df2f9b4659a8df23b912f5b088": {
      "model_module": "@jupyter-widgets/controls",
      "model_module_version": "2.0.0",
      "model_name": "TextStyleModel",
      "state": {
       "description_width": "",
       "font_size": null,
       "text_color": null
      }
     },
     "61b5c4d417874fea9eada9af28de0e04": {
      "model_module": "@jupyter-widgets/controls",
      "model_module_version": "2.0.0",
      "model_name": "LabelStyleModel",
      "state": {
       "description_width": "",
       "font_family": null,
       "font_size": null,
       "font_style": null,
       "font_variant": null,
       "font_weight": null,
       "text_color": null,
       "text_decoration": null
      }
     },
     "64b537d960df4f75927a076f7f43300e": {
      "model_module": "@jupyter-widgets/base",
      "model_module_version": "2.0.0",
      "model_name": "LayoutModel",
      "state": {
       "grid_template_areas": "\n                    \"label input\"\n                    \". description\"\n                ",
       "grid_template_columns": "25% 75%",
       "grid_template_rows": "auto auto",
       "width": "100%"
      }
     },
     "652a0f4dcfe843469d4c0db88f1dddbc": {
      "model_module": "@jupyter-widgets/controls",
      "model_module_version": "2.0.0",
      "model_name": "LabelStyleModel",
      "state": {
       "description_width": "",
       "font_family": null,
       "font_size": null,
       "font_style": null,
       "font_variant": null,
       "font_weight": null,
       "text_color": null,
       "text_decoration": null
      }
     },
     "65b3bd63bbdc4335ba41393f171bac19": {
      "model_module": "@jupyter-widgets/controls",
      "model_module_version": "2.0.0",
      "model_name": "LabelStyleModel",
      "state": {
       "description_width": "",
       "font_family": null,
       "font_size": null,
       "font_style": null,
       "font_variant": null,
       "font_weight": null,
       "text_color": null,
       "text_decoration": null
      }
     },
     "696988d8c57c4ea9991718df13a4742c": {
      "model_module": "@jupyter-widgets/controls",
      "model_module_version": "2.0.0",
      "model_name": "VBoxModel",
      "state": {
       "_dom_classes": [
        "widget-interact"
       ],
       "children": [
        "IPY_MODEL_700239a8f89c47188b7861550df0dd3f",
        "IPY_MODEL_89b63ec2fcaa4fd8947bab2c43802137"
       ],
       "layout": "IPY_MODEL_fb0ee767e7e04480ab9f7d963ce0113d"
      }
     },
     "697fd00b0a1c4b66af544ecaf1d79524": {
      "model_module": "@jupyter-widgets/base",
      "model_module_version": "2.0.0",
      "model_name": "LayoutModel",
      "state": {
       "grid_area": "label",
       "width": "auto"
      }
     },
     "6c189a604b6a45e799cff80bd45f06cb": {
      "model_module": "@jupyter-widgets/output",
      "model_module_version": "1.0.0",
      "model_name": "OutputModel",
      "state": {
       "layout": "IPY_MODEL_5a9f0b07902e48d4aba9aa0933138ae5"
      }
     },
     "6e9b4d8c96b6409c8c941b5262813466": {
      "model_module": "@jupyter-widgets/controls",
      "model_module_version": "2.0.0",
      "model_name": "LabelModel",
      "state": {
       "description": "output variable",
       "layout": "IPY_MODEL_9b36d7da00154f75bc19587542571117",
       "style": "IPY_MODEL_89f0a505118d4755acfebef71dc88fc5",
       "value": "output variable"
      }
     },
     "6ec5d3ceb36741b1b0260304c9feef29": {
      "model_module": "@jupyter-widgets/controls",
      "model_module_version": "2.0.0",
      "model_name": "LabelModel",
      "state": {
       "description": "Choose the genome for your data.",
       "layout": "IPY_MODEL_c382d29feb4f4c7298a8180e918ff9ba",
       "style": "IPY_MODEL_652a0f4dcfe843469d4c0db88f1dddbc",
       "value": "Choose the genome for your data."
      }
     },
     "700239a8f89c47188b7861550df0dd3f": {
      "model_module": "@jupyter-widgets/controls",
      "model_module_version": "2.0.0",
      "model_name": "ButtonModel",
      "state": {
       "_dom_classes": [
        "hidden"
       ],
       "description": "Run",
       "layout": "IPY_MODEL_b819fc2ac36a42c7bbd3143a3e662d7f",
       "style": "IPY_MODEL_9e3688790b064cf0b8fad9d45c323222",
       "tooltip": null
      }
     },
     "7299910809c4441cbda797bd30dad455": {
      "model_module": "@jupyter-widgets/controls",
      "model_module_version": "2.0.0",
      "model_name": "LabelStyleModel",
      "state": {
       "description_width": "",
       "font_family": null,
       "font_size": null,
       "font_style": null,
       "font_variant": null,
       "font_weight": null,
       "text_color": null,
       "text_decoration": null
      }
     },
     "72fe658e51ab4d3d9a2ddf867ec6e404": {
      "model_module": "@jupyter-widgets/base",
      "model_module_version": "2.0.0",
      "model_name": "LayoutModel",
      "state": {
       "grid_area": "input",
       "width": "auto"
      }
     },
     "76bb7d7686dc41859ea34631e12b6085": {
      "model_module": "@jupyter-widgets/base",
      "model_module_version": "2.0.0",
      "model_name": "LayoutModel",
      "state": {
       "grid_area": "label",
       "width": "auto"
      }
     },
     "776841b556c444cb905509c76b6282a1": {
      "model_module": "@jupyter-widgets/controls",
      "model_module_version": "2.0.0",
      "model_name": "LabelModel",
      "state": {
       "description": "genome",
       "layout": "IPY_MODEL_2094213447dd433fa7bee99b2b228da4",
       "style": "IPY_MODEL_0c49bf043b41404fa18b3751f68870b8",
       "value": "genome*"
      }
     },
     "77e4273afcca493e86d29e3465c0062d": {
      "model_module": "@jupyter-widgets/controls",
      "model_module_version": "2.0.0",
      "model_name": "LabelModel",
      "state": {
       "description": "Select a Cytoscape network to view",
       "layout": "IPY_MODEL_bce0f5ebdaff4b2fb642032dcc9bdb54",
       "style": "IPY_MODEL_e7e8b4a88b454ba69c71e58175c29a83",
       "value": "Select a Cytoscape network to view"
      }
     },
     "7c7973b5f0404e88aaa5c5a2c2b00539": {
      "model_module": "@jupyter-widgets/controls",
      "model_module_version": "2.0.0",
      "model_name": "LabelModel",
      "state": {
       "description": "Enter the URL to the track dataset(s)",
       "layout": "IPY_MODEL_26e0f1146f5b44eb95aba208a662ac7c",
       "style": "IPY_MODEL_84f4a80ddb8946c7867640567c72af6b",
       "value": "Enter the URL to the track dataset(s)"
      }
     },
     "7df6ebf1d80e4255bbd551315543f906": {
      "model_module": "@jupyter-widgets/controls",
      "model_module_version": "2.0.0",
      "model_name": "LabelModel",
      "state": {
       "description": "output variable",
       "layout": "IPY_MODEL_1825c88d2fb749d49dd2dd288ef74a4d",
       "style": "IPY_MODEL_4f83c24c9dfd42f697e8755842d024a0",
       "value": "output variable"
      }
     },
     "7f2e361804484b7a80201ad3300d6647": {
      "model_module": "@jupyter-widgets/controls",
      "model_module_version": "2.0.0",
      "model_name": "TextStyleModel",
      "state": {
       "description_width": "",
       "font_size": null,
       "text_color": null
      }
     },
     "82ad8e85b60f4b63a753db8b408446d6": {
      "model_module": "@jupyter-widgets/controls",
      "model_module_version": "2.0.0",
      "model_name": "TextStyleModel",
      "state": {
       "description_width": "",
       "font_size": null,
       "text_color": null
      }
     },
     "831c631498a44e34b6e5d5ddcd399580": {
      "model_module": "@jupyter-widgets/controls",
      "model_module_version": "2.0.0",
      "model_name": "LabelStyleModel",
      "state": {
       "description_width": "",
       "font_family": null,
       "font_size": null,
       "font_style": null,
       "font_variant": null,
       "font_weight": null,
       "text_color": null,
       "text_decoration": null
      }
     },
     "84f4a80ddb8946c7867640567c72af6b": {
      "model_module": "@jupyter-widgets/controls",
      "model_module_version": "2.0.0",
      "model_name": "LabelStyleModel",
      "state": {
       "description_width": "",
       "font_family": null,
       "font_size": null,
       "font_style": null,
       "font_variant": null,
       "font_weight": null,
       "text_color": null,
       "text_decoration": null
      }
     },
     "869a20ac27564127b8600a4e5c961b1b": {
      "model_module": "@jupyter-widgets/controls",
      "model_module_version": "2.0.0",
      "model_name": "TextStyleModel",
      "state": {
       "description_width": "",
       "font_size": null,
       "text_color": null
      }
     },
     "894ed0a8b5ef4a96a38e329db70502b3": {
      "model_module": "@jupyter-widgets/output",
      "model_module_version": "1.0.0",
      "model_name": "OutputModel",
      "state": {
       "layout": "IPY_MODEL_ea29b18c17f04af08042383ba7e37550"
      }
     },
     "89b63ec2fcaa4fd8947bab2c43802137": {
      "model_module": "@jupyter-widgets/output",
      "model_module_version": "1.0.0",
      "model_name": "OutputModel",
      "state": {
       "layout": "IPY_MODEL_b8fe0d69955c4322851fc32c8a053f19"
      }
     },
     "89f0a505118d4755acfebef71dc88fc5": {
      "model_module": "@jupyter-widgets/controls",
      "model_module_version": "2.0.0",
      "model_name": "LabelStyleModel",
      "state": {
       "description_width": "",
       "font_family": null,
       "font_size": null,
       "font_style": null,
       "font_variant": null,
       "font_weight": null,
       "text_color": null,
       "text_decoration": null
      }
     },
     "8c042f6f10144e8689f33e53dae14fd0": {
      "model_module": "@jupyter-widgets/base",
      "model_module_version": "2.0.0",
      "model_name": "LayoutModel",
      "state": {}
     },
     "8d617b7c24344fd49ebf199d59f39da7": {
      "model_module": "@jupyter-widgets/controls",
      "model_module_version": "2.0.0",
      "model_name": "ComboboxModel",
      "state": {
       "_dom_classes": [
        "nbtools-menu-attached"
       ],
       "choices": {
        "": "",
        "alignment": "alignment",
        "annotation": "annotation",
        "arc": "arc",
        "bedtype": "bedtype",
        "gwas": "gwas",
        "interaction": "interaction",
        "mut": "mut",
        "seg": "seg",
        "variant": "variant",
        "wig": "wig"
       },
       "ensure_option": false,
       "kinds": [],
       "layout": "IPY_MODEL_72fe658e51ab4d3d9a2ddf867ec6e404",
       "style": "IPY_MODEL_869a20ac27564127b8600a4e5c961b1b"
      }
     },
     "8db8eaa270c541eaacd6a40de086b107": {
      "model_module": "@jupyter-widgets/controls",
      "model_module_version": "2.0.0",
      "model_name": "GridBoxModel",
      "state": {
       "_dom_classes": [
        "nbtools-input",
        "nbtools-textinput"
       ],
       "children": [
        "IPY_MODEL_912ff9b92eb44eeb945d2eb38bf10cc9",
        "IPY_MODEL_b1a2bc4169bc4ff6816bf671be3fe9b0",
        "IPY_MODEL_dd0c30a9b4794846ad7021ac7411d890"
       ],
       "layout": "IPY_MODEL_a3ccd2957242432f8acfd40ac48613b6"
      }
     },
     "912ff9b92eb44eeb945d2eb38bf10cc9": {
      "model_module": "@jupyter-widgets/controls",
      "model_module_version": "2.0.0",
      "model_name": "LabelModel",
      "state": {
       "description": "locus",
       "layout": "IPY_MODEL_cf37c76c7929449fbfe811b55d75c1b2",
       "style": "IPY_MODEL_d2683a74979145c3b1baa7adec910164",
       "value": "locus"
      }
     },
     "9454abac868d497088edac735f08aaa6": {
      "model_module": "@jupyter-widgets/base",
      "model_module_version": "2.0.0",
      "model_name": "LayoutModel",
      "state": {}
     },
     "94e781af908649e88ea1ceeb5ba192b9": {
      "model_module": "@jupyter-widgets/base",
      "model_module_version": "2.0.0",
      "model_name": "LayoutModel",
      "state": {
       "display": "none",
       "grid_template_areas": "\n                    \"label input\"\n                    \". description\"\n                ",
       "grid_template_columns": "25% 75%",
       "grid_template_rows": "auto auto",
       "width": "100%"
      }
     },
     "9648d422662f40d29d8987f47b6d7fda": {
      "model_module": "@jupyter-widgets/controls",
      "model_module_version": "2.0.0",
      "model_name": "LabelStyleModel",
      "state": {
       "description_width": "",
       "font_family": null,
       "font_size": null,
       "font_style": null,
       "font_variant": null,
       "font_weight": null,
       "text_color": null,
       "text_decoration": null
      }
     },
     "97ceb51fd3e7443aa559ad738f621573": {
      "model_module": "@jupyter-widgets/controls",
      "model_module_version": "2.0.0",
      "model_name": "ButtonModel",
      "state": {
       "_dom_classes": [
        "hidden"
       ],
       "description": "Run",
       "layout": "IPY_MODEL_29b6a233d557408a92df9977fd6ef7aa",
       "style": "IPY_MODEL_0c10c276913d4c0b8c731d5a4a64330e",
       "tooltip": null
      }
     },
     "98b2621ef84b4f4a9b87681e572ab554": {
      "model_module": "@jupyter-widgets/base",
      "model_module_version": "2.0.0",
      "model_name": "LayoutModel",
      "state": {}
     },
     "9b36d7da00154f75bc19587542571117": {
      "model_module": "@jupyter-widgets/base",
      "model_module_version": "2.0.0",
      "model_name": "LayoutModel",
      "state": {
       "grid_area": "label",
       "width": "auto"
      }
     },
     "9b5b100bcf434e75b500b64cfe1ece71": {
      "model_module": "@jupyter-widgets/controls",
      "model_module_version": "2.0.0",
      "model_name": "LabelModel",
      "state": {
       "description": "output variable",
       "layout": "IPY_MODEL_76bb7d7686dc41859ea34631e12b6085",
       "style": "IPY_MODEL_c0f15e3ff55a407c9549964ad60c9ffb",
       "value": "output variable"
      }
     },
     "9c83751d61e641f3b1f073125452e57b": {
      "model_module": "@jupyter-widgets/controls",
      "model_module_version": "2.0.0",
      "model_name": "LabelModel",
      "state": {
       "description": "indices",
       "layout": "IPY_MODEL_3637cc2afe6c43b1ae3a6c797fc87808",
       "style": "IPY_MODEL_61b5c4d417874fea9eada9af28de0e04",
       "value": "indices"
      }
     },
     "9c881744df5c4eeb9cc3999b18692a4b": {
      "model_module": "@jupyter-widgets/base",
      "model_module_version": "2.0.0",
      "model_name": "LayoutModel",
      "state": {}
     },
     "9e3688790b064cf0b8fad9d45c323222": {
      "model_module": "@jupyter-widgets/controls",
      "model_module_version": "2.0.0",
      "model_name": "ButtonStyleModel",
      "state": {
       "font_family": null,
       "font_size": null,
       "font_style": null,
       "font_variant": null,
       "font_weight": null,
       "text_color": null,
       "text_decoration": null
      }
     },
     "a042550c79704a049e23284c28f433ce": {
      "model_module": "@jupyter-widgets/base",
      "model_module_version": "2.0.0",
      "model_name": "LayoutModel",
      "state": {
       "grid_area": "description",
       "width": "auto"
      }
     },
     "a0b6b7c283e149f4bba103c22681bb1a": {
      "model_module": "@jupyter-widgets/controls",
      "model_module_version": "2.0.0",
      "model_name": "TextModel",
      "state": {
       "_dom_classes": [
        "nbtools-menu-attached"
       ],
       "layout": "IPY_MODEL_07b3ef1009c34af7b0c4a6a6516691a9",
       "style": "IPY_MODEL_a7a5840430064a71974a91732e1ee85c"
      }
     },
     "a0e1afbda30a4eb894115b27e3e71d32": {
      "model_module": "@jupyter-widgets/base",
      "model_module_version": "2.0.0",
      "model_name": "LayoutModel",
      "state": {
       "grid_area": "description",
       "width": "auto"
      }
     },
     "a10511c680a54a7b873ab61a4afe7a30": {
      "model_module": "@jupyter-widgets/controls",
      "model_module_version": "2.0.0",
      "model_name": "LabelModel",
      "state": {
       "description": "Enter the format of the track datasets",
       "layout": "IPY_MODEL_f54afcfb29c1477b9eb7d0f3be16f849",
       "style": "IPY_MODEL_0a135a8340cf48719e6439dc0625e044",
       "value": "Enter the format of the track datasets"
      }
     },
     "a24763598d9843769afb394566004597": {
      "model_module": "@jupyter-widgets/base",
      "model_module_version": "2.0.0",
      "model_name": "LayoutModel",
      "state": {
       "grid_area": "label",
       "width": "auto"
      }
     },
     "a3493a1523c14fc59ca8b4bede778d18": {
      "model_module": "@jupyter-widgets/controls",
      "model_module_version": "2.0.0",
      "model_name": "GridBoxModel",
      "state": {
       "_dom_classes": [
        "nbtools-input",
        "nbtools-fileinput"
       ],
       "children": [
        "IPY_MODEL_9c83751d61e641f3b1f073125452e57b",
        "IPY_MODEL_1f397292aced4d38a01aee77b116ec2b",
        "IPY_MODEL_b2daad14186f461ba67adead920ec16a"
       ],
       "layout": "IPY_MODEL_0c6ede10ca184d1387dfb72a4ffe860b"
      }
     },
     "a3ccd2957242432f8acfd40ac48613b6": {
      "model_module": "@jupyter-widgets/base",
      "model_module_version": "2.0.0",
      "model_name": "LayoutModel",
      "state": {
       "grid_template_areas": "\n                    \"label input\"\n                    \". description\"\n                ",
       "grid_template_columns": "25% 75%",
       "grid_template_rows": "auto auto",
       "width": "100%"
      }
     },
     "a5074abbda154925b92aca26c1d262bf": {
      "model_module": "@jupyter-widgets/base",
      "model_module_version": "2.0.0",
      "model_name": "LayoutModel",
      "state": {}
     },
     "a6a36dfcf2a247a299e19f2f93aadc27": {
      "model_module": "@jupyter-widgets/base",
      "model_module_version": "2.0.0",
      "model_name": "LayoutModel",
      "state": {
       "grid_area": "label",
       "width": "auto"
      }
     },
     "a7a5840430064a71974a91732e1ee85c": {
      "model_module": "@jupyter-widgets/controls",
      "model_module_version": "2.0.0",
      "model_name": "TextStyleModel",
      "state": {
       "description_width": "",
       "font_size": null,
       "text_color": null
      }
     },
     "a8779c58ec0c43519fb519be9f9f40d2": {
      "model_module": "@jupyter-widgets/base",
      "model_module_version": "2.0.0",
      "model_name": "LayoutModel",
      "state": {
       "grid_template_areas": "\n                    \"label input\"\n                    \". description\"\n                ",
       "grid_template_columns": "25% 75%",
       "grid_template_rows": "auto auto",
       "width": "100%"
      }
     },
     "a8ec8634f10a40a1be1b83d320a11da6": {
      "model_module": "@jupyter-widgets/base",
      "model_module_version": "2.0.0",
      "model_name": "LayoutModel",
      "state": {
       "grid_area": "input",
       "width": "auto"
      }
     },
     "aaa363239edc4670b6cebc795c14a2ae": {
      "model_module": "@jupyter-widgets/base",
      "model_module_version": "2.0.0",
      "model_name": "LayoutModel",
      "state": {
       "grid_area": "input",
       "width": "auto"
      }
     },
     "ab7ef85b854d4f4cb640bc4878258b49": {
      "model_module": "@jupyter-widgets/controls",
      "model_module_version": "2.0.0",
      "model_name": "LabelModel",
      "state": {
       "description": "cx_file",
       "layout": "IPY_MODEL_21d4dd13d19444fb99288db32e8fa4de",
       "style": "IPY_MODEL_9648d422662f40d29d8987f47b6d7fda",
       "value": "cx_file"
      }
     },
     "ac4f4cd2cd584363b788dba9a41a4f00": {
      "model_module": "@jupyter-widgets/controls",
      "model_module_version": "2.0.0",
      "model_name": "HBoxModel",
      "state": {
       "children": [
        "IPY_MODEL_ffbde997e31d4b1bb5493c1750bee628",
        "IPY_MODEL_bd42fbe217334627a03eca1a079f12c0"
       ],
       "layout": "IPY_MODEL_aaa363239edc4670b6cebc795c14a2ae"
      }
     },
     "ae052996e0934863baa87127a9ffb5e7": {
      "model_module": "@jupyter-widgets/controls",
      "model_module_version": "2.0.0",
      "model_name": "LabelModel",
      "state": {
       "description": "Enter the type of the track datasets",
       "layout": "IPY_MODEL_5c1cfc177f13417d80b4d557e900486c",
       "style": "IPY_MODEL_30e876d9a1e14e0bab8c959600c9b2fc",
       "value": "Enter the type of the track datasets"
      }
     },
     "ae9a893a1a1b4905be0d8e326e39a2c0": {
      "model_module": "@jupyter-widgets/controls",
      "model_module_version": "2.0.0",
      "model_name": "TextStyleModel",
      "state": {
       "description_width": "",
       "font_size": null,
       "text_color": null
      }
     },
     "b1a2bc4169bc4ff6816bf671be3fe9b0": {
      "model_module": "@jupyter-widgets/controls",
      "model_module_version": "2.0.0",
      "model_name": "TextModel",
      "state": {
       "_dom_classes": [
        "nbtools-menu-attached"
       ],
       "layout": "IPY_MODEL_dc8099f9594143c09571284c1a5c3151",
       "style": "IPY_MODEL_57366480ab814c9e9a5fb0ec8621df89"
      }
     },
     "b2daad14186f461ba67adead920ec16a": {
      "model_module": "@jupyter-widgets/controls",
      "model_module_version": "2.0.0",
      "model_name": "LabelModel",
      "state": {
       "description": "Enter the URL to the index files that correspond to each track",
       "layout": "IPY_MODEL_a0e1afbda30a4eb894115b27e3e71d32",
       "style": "IPY_MODEL_4e7f1286d73d407cb00fda2fddeff8e6",
       "value": "Enter the URL to the index files that correspond to each track"
      }
     },
     "b3f16776b8e64e82ba7f2cdf4a19d591": {
      "model_module": "@jupyter-widgets/controls",
      "model_module_version": "2.0.0",
      "model_name": "HBoxModel",
      "state": {
       "children": [
        "IPY_MODEL_35ab89b9decb468fbcd3ca38a3f0d854",
        "IPY_MODEL_567ef639d5d84ce8b23ca9e34633927d"
       ],
       "layout": "IPY_MODEL_39e04df6b84a4100b3fe96ce2b2d3623"
      }
     },
     "b41be81290f448e5879224cb4be6cedd": {
      "model_module": "@jupyter-widgets/controls",
      "model_module_version": "2.0.0",
      "model_name": "ComboboxModel",
      "state": {
       "_dom_classes": [
        "nbtools-menu-attached",
        "nbtools-nosendto"
       ],
       "choices": {
        "Bonobo (MPI-EVA panpan1.1/panPan2)": "panPan2",
        "C. elegans (ce11)": "ce11",
        "Chimp (SAC 2.1.4/panTro4)": "panTro4",
        "Cow (UMD_3.1.1/bosTau8)": "bosTau8",
        "D. melanogaster (dm6)": "dm6",
        "Dog (Broad CanFam3.1/canFam3)": "canFam3",
        "Gorilla (gorGor4.1/gorGor4)": "gorGor4",
        "Human (CRCh37/hg19)": "hg19",
        "Human (GRCh38/hg38)": "hg38",
        "Human (hg18)": "hg18",
        "Mouse (GRCm38/mm10)": "mm10",
        "Pig (SGSC Sscrofa11.1/susScr11)": "susScr11",
        "Rat (RGCS 6.0/rn6)": "rn6",
        "S. cerevisiae (sacCer3)": "sacCer3",
        "Zebrafish (GRCZ10/danRer10)": "danRer10",
        "Zebrafish (GRCZ11/danRer11)": "danRer11"
       },
       "ensure_option": false,
       "kinds": [],
       "layout": "IPY_MODEL_a8ec8634f10a40a1be1b83d320a11da6",
       "style": "IPY_MODEL_3f047fc6c5fa4eadabb8d3f0d3ba4a4c",
       "value": "hg38"
      }
     },
     "b51b7ad676e74a9599ce68ef5c1bc04f": {
      "model_module": "@jupyter-widgets/controls",
      "model_module_version": "2.0.0",
      "model_name": "VBoxModel",
      "state": {
       "children": [
        "IPY_MODEL_d62cb31e18f04977bcda373cb8b9e9de",
        "IPY_MODEL_44b3238b432e4f0fa619570cce5ef3ea"
       ],
       "layout": "IPY_MODEL_32b2525e143f4eeea9944cd27611b01b"
      }
     },
     "b5a45fe87536432f92f266c8367c7bd5": {
      "model_module": "@jupyter-widgets/controls",
      "model_module_version": "2.0.0",
      "model_name": "ComboboxModel",
      "state": {
       "_dom_classes": [
        "nbtools-menu-attached"
       ],
       "choices": {},
       "ensure_option": false,
       "kinds": [
        "cx"
       ],
       "layout": "IPY_MODEL_bb6b221c5e6e4a16968d7e428de327dd",
       "style": "IPY_MODEL_7f2e361804484b7a80201ad3300d6647"
      }
     },
     "b819fc2ac36a42c7bbd3143a3e662d7f": {
      "model_module": "@jupyter-widgets/base",
      "model_module_version": "2.0.0",
      "model_name": "LayoutModel",
      "state": {}
     },
     "b85f06461309490091b2d5949d86d749": {
      "model_module": "@jupyter-widgets/controls",
      "model_module_version": "2.0.0",
      "model_name": "TextModel",
      "state": {
       "_dom_classes": [
        "nbtools-menu-attached"
       ],
       "layout": "IPY_MODEL_1a08d997cb224eb29c8a3d20bd31ec58",
       "style": "IPY_MODEL_5f2f46df2f9b4659a8df23b912f5b088"
      }
     },
     "b893a0b8351b42cba11596bd4bd101c4": {
      "model_module": "@jupyter-widgets/base",
      "model_module_version": "2.0.0",
      "model_name": "LayoutModel",
      "state": {}
     },
     "b8fe0d69955c4322851fc32c8a053f19": {
      "model_module": "@jupyter-widgets/base",
      "model_module_version": "2.0.0",
      "model_name": "LayoutModel",
      "state": {}
     },
     "bb6b221c5e6e4a16968d7e428de327dd": {
      "model_module": "@jupyter-widgets/base",
      "model_module_version": "2.0.0",
      "model_name": "LayoutModel",
      "state": {}
     },
     "bb9767e8634b4bc7bf0b6ea781fc9b4c": {
      "model_module": "@jupyter-widgets/controls",
      "model_module_version": "2.0.0",
      "model_name": "GridBoxModel",
      "state": {
       "_dom_classes": [
        "nbtools-input",
        "nbtools-comboinput"
       ],
       "children": [
        "IPY_MODEL_febd76f3e00946048a8e283c7cdfbbb8",
        "IPY_MODEL_db30f0add4864a32b20ee9106c7f4892",
        "IPY_MODEL_a10511c680a54a7b873ab61a4afe7a30"
       ],
       "layout": "IPY_MODEL_d33457d97c8c4029b226aca5825a22f8"
      }
     },
     "bce0f5ebdaff4b2fb642032dcc9bdb54": {
      "model_module": "@jupyter-widgets/base",
      "model_module_version": "2.0.0",
      "model_name": "LayoutModel",
      "state": {
       "grid_area": "description",
       "width": "auto"
      }
     },
     "bcebfa8595e64629b886bd5befd7fd5d": {
      "model_module": "@jupyter-widgets/controls",
      "model_module_version": "2.0.0",
      "model_name": "TextModel",
      "state": {
       "_dom_classes": [
        "nbtools-menu-attached"
       ],
       "layout": "IPY_MODEL_4a1058fe4f9d4c9586e29cd0d5d764e2",
       "style": "IPY_MODEL_82ad8e85b60f4b63a753db8b408446d6"
      }
     },
     "bd42fbe217334627a03eca1a079f12c0": {
      "model_module": "@jupyter-widgets/controls",
      "model_module_version": "2.0.0",
      "model_name": "VBoxModel",
      "state": {
       "children": [
        "IPY_MODEL_4fe95d2b07214c8d80e8e92fc1a1d13c",
        "IPY_MODEL_f3c8217bcb9c489787ecd05eac72b4f9"
       ],
       "layout": "IPY_MODEL_a5074abbda154925b92aca26c1d262bf"
      }
     },
     "c0f15e3ff55a407c9549964ad60c9ffb": {
      "model_module": "@jupyter-widgets/controls",
      "model_module_version": "2.0.0",
      "model_name": "LabelStyleModel",
      "state": {
       "description_width": "",
       "font_family": null,
       "font_size": null,
       "font_style": null,
       "font_variant": null,
       "font_weight": null,
       "text_color": null,
       "text_decoration": null
      }
     },
     "c2fb07317f5749688f570eead2ebc557": {
      "model_module": "@jupyter-widgets/base",
      "model_module_version": "2.0.0",
      "model_name": "LayoutModel",
      "state": {
       "grid_area": "input",
       "width": "auto"
      }
     },
     "c382d29feb4f4c7298a8180e918ff9ba": {
      "model_module": "@jupyter-widgets/base",
      "model_module_version": "2.0.0",
      "model_name": "LayoutModel",
      "state": {
       "grid_area": "description",
       "width": "auto"
      }
     },
     "c4f8a63ee5304ac7a1f8deeb81052b13": {
      "model_module": "@jupyter-widgets/base",
      "model_module_version": "2.0.0",
      "model_name": "LayoutModel",
      "state": {}
     },
     "c586f2abf803462b82b5e4f7235d1899": {
      "model_module": "@jupyter-widgets/base",
      "model_module_version": "2.0.0",
      "model_name": "LayoutModel",
      "state": {
       "grid_area": "input",
       "width": "auto"
      }
     },
     "c666347b4fb941578fee79b08ad3445d": {
      "model_module": "@jupyter-widgets/base",
      "model_module_version": "2.0.0",
      "model_name": "LayoutModel",
      "state": {}
     },
     "c7bbede720c745ff92ad17caebd90f4e": {
      "model_module": "@jupyter-widgets/base",
      "model_module_version": "2.0.0",
      "model_name": "LayoutModel",
      "state": {}
     },
     "c85eb723cd54466f89e54e5510ef832e": {
      "model_module": "@jupyter-widgets/base",
      "model_module_version": "2.0.0",
      "model_name": "LayoutModel",
      "state": {}
     },
     "c9f89d74045045f08d4716f65033dd75": {
      "model_module": "@jupyter-widgets/controls",
      "model_module_version": "2.0.0",
      "model_name": "LabelModel",
      "state": {
       "description": "track type",
       "layout": "IPY_MODEL_a24763598d9843769afb394566004597",
       "style": "IPY_MODEL_831c631498a44e34b6e5d5ddcd399580",
       "value": "track type"
      }
     },
     "cf37c76c7929449fbfe811b55d75c1b2": {
      "model_module": "@jupyter-widgets/base",
      "model_module_version": "2.0.0",
      "model_name": "LayoutModel",
      "state": {
       "grid_area": "label",
       "width": "auto"
      }
     },
     "d2683a74979145c3b1baa7adec910164": {
      "model_module": "@jupyter-widgets/controls",
      "model_module_version": "2.0.0",
      "model_name": "LabelStyleModel",
      "state": {
       "description_width": "",
       "font_family": null,
       "font_size": null,
       "font_style": null,
       "font_variant": null,
       "font_weight": null,
       "text_color": null,
       "text_decoration": null
      }
     },
     "d33457d97c8c4029b226aca5825a22f8": {
      "model_module": "@jupyter-widgets/base",
      "model_module_version": "2.0.0",
      "model_name": "LayoutModel",
      "state": {
       "grid_template_areas": "\n                    \"label input\"\n                    \". description\"\n                ",
       "grid_template_columns": "25% 75%",
       "grid_template_rows": "auto auto",
       "width": "100%"
      }
     },
     "d4a2269d37e74bbc98839f9b817d3197": {
      "model_module": "@jupyter-widgets/base",
      "model_module_version": "2.0.0",
      "model_name": "LayoutModel",
      "state": {
       "grid_area": "input",
       "width": "auto"
      }
     },
     "d62cb31e18f04977bcda373cb8b9e9de": {
      "model_module": "@jupyter-widgets/controls",
      "model_module_version": "2.0.0",
      "model_name": "ComboboxModel",
      "state": {
       "_dom_classes": [
        "nbtools-menu-attached"
       ],
       "choices": {},
       "ensure_option": false,
       "kinds": [],
       "layout": "IPY_MODEL_c4f8a63ee5304ac7a1f8deeb81052b13",
       "style": "IPY_MODEL_3afc33187de542d39147952dc735609d"
      }
     },
     "d75c6d7f3170403fb1e1c48397076764": {
      "model_module": "@jupyter-widgets/base",
      "model_module_version": "2.0.0",
      "model_name": "LayoutModel",
      "state": {
       "grid_area": "label",
       "width": "auto"
      }
     },
     "d9dba5212ccc47b59258849991d48517": {
      "model_module": "@g2nb/nbtools",
      "model_module_version": ">=24.8.0",
      "model_name": "UIBuilderModel",
      "state": {
       "_model_module_version": ">=24.8.0",
       "_parameters": [
        {
         "choices": {},
         "default": "",
         "description": "Select a Cytoscape network to view",
         "events": null,
         "hide": false,
         "id": null,
         "kinds": [
          "cx"
         ],
         "label": "cx_file",
         "name": "cx_file",
         "optional": true,
         "required": true,
         "type": "file",
         "value": ""
        },
        {
         "choices": {},
         "default": "",
         "description": "",
         "events": null,
         "hide": true,
         "id": null,
         "kinds": null,
         "label": "output variable",
         "name": "output_var",
         "optional": true,
         "type": "text",
         "value": ""
        }
       ],
       "_view_count": 0,
       "_view_module_version": ">=24.8.0",
       "color": "rgb(210, 140, 34)",
       "description": "Displays a Cytoscape network in the notebook.",
       "form": "IPY_MODEL_12660f2a659840e18f53b22f0455a40f",
       "layout": "IPY_MODEL_54df85a18477479695409752bb7288a4",
       "logo": "",
       "name": "Cytoscape Network",
       "origin": "+",
       "output": "IPY_MODEL_f54f8e8bdc954000b984f1b8bdf4a86a",
       "output_var": ""
      }
     },
     "d9dc28a943a3433b82da756ff8e4db70": {
      "model_module": "@jupyter-widgets/controls",
      "model_module_version": "2.0.0",
      "model_name": "VBoxModel",
      "state": {
       "children": [
        "IPY_MODEL_33bde572d1c643a397b9056c5b2073f4",
        "IPY_MODEL_ed64deefcd7e4b4b919036c221eb3c99"
       ],
       "layout": "IPY_MODEL_b893a0b8351b42cba11596bd4bd101c4"
      }
     },
     "db0a83d8191c445b962c9205ed22fb48": {
      "model_module": "@jupyter-widgets/controls",
      "model_module_version": "2.0.0",
      "model_name": "ButtonStyleModel",
      "state": {
       "font_family": null,
       "font_size": null,
       "font_style": null,
       "font_variant": null,
       "font_weight": null,
       "text_color": null,
       "text_decoration": null
      }
     },
     "db30f0add4864a32b20ee9106c7f4892": {
      "model_module": "@jupyter-widgets/controls",
      "model_module_version": "2.0.0",
      "model_name": "ComboboxModel",
      "state": {
       "_dom_classes": [
        "nbtools-menu-attached"
       ],
       "choices": {
        "": "",
        "bam": "bam",
        "bb": "bb",
        "bed": "bed",
        "bedgraph": "bedgraph",
        "bedpe": "bedpe",
        "bedpe-loop": "bedpe-loop",
        "bigbed": "bigbed",
        "bigwig": "bigwig",
        "bp": "bp",
        "bw": "bw",
        "cram": "cram",
        "gwas": "gwas",
        "mut": "mut",
        "seg": "seg",
        "tdf": "tdf",
        "vcf": "vcf",
        "wig": "wig"
       },
       "ensure_option": false,
       "kinds": [],
       "layout": "IPY_MODEL_c586f2abf803462b82b5e4f7235d1899",
       "style": "IPY_MODEL_ae9a893a1a1b4905be0d8e326e39a2c0"
      }
     },
     "dc8099f9594143c09571284c1a5c3151": {
      "model_module": "@jupyter-widgets/base",
      "model_module_version": "2.0.0",
      "model_name": "LayoutModel",
      "state": {
       "grid_area": "input",
       "width": "auto"
      }
     },
     "dd0c30a9b4794846ad7021ac7411d890": {
      "model_module": "@jupyter-widgets/controls",
      "model_module_version": "2.0.0",
      "model_name": "LabelModel",
      "state": {
       "description": "Provide a locus or gene of interest for your data",
       "layout": "IPY_MODEL_e7ade85d2953439293d3142f4efee1ee",
       "style": "IPY_MODEL_3dd55eea070249fba97e289557abef6d",
       "value": "Provide a locus or gene of interest for your data"
      }
     },
     "e0bab2ca97664e9f9e1818ce9aef990e": {
      "model_module": "@jupyter-widgets/controls",
      "model_module_version": "2.0.0",
      "model_name": "TextStyleModel",
      "state": {
       "description_width": "",
       "font_size": null,
       "text_color": null
      }
     },
     "e77a88f6dabe4209b0e5077eead53717": {
      "model_module": "@jupyter-widgets/controls",
      "model_module_version": "2.0.0",
      "model_name": "VBoxModel",
      "state": {
       "children": [
        "IPY_MODEL_d9dba5212ccc47b59258849991d48517",
        "IPY_MODEL_f54f8e8bdc954000b984f1b8bdf4a86a"
       ],
       "layout": "IPY_MODEL_148af65f5b9643098145e1cb9de7d319"
      }
     },
     "e7ade85d2953439293d3142f4efee1ee": {
      "model_module": "@jupyter-widgets/base",
      "model_module_version": "2.0.0",
      "model_name": "LayoutModel",
      "state": {
       "grid_area": "description",
       "width": "auto"
      }
     },
     "e7e8b4a88b454ba69c71e58175c29a83": {
      "model_module": "@jupyter-widgets/controls",
      "model_module_version": "2.0.0",
      "model_name": "LabelStyleModel",
      "state": {
       "description_width": "",
       "font_family": null,
       "font_size": null,
       "font_style": null,
       "font_variant": null,
       "font_weight": null,
       "text_color": null,
       "text_decoration": null
      }
     },
     "e9e290755a5b4f6b882ae3e0394939c1": {
      "model_module": "@jupyter-widgets/controls",
      "model_module_version": "2.0.0",
      "model_name": "LabelStyleModel",
      "state": {
       "description_width": "",
       "font_family": null,
       "font_size": null,
       "font_style": null,
       "font_variant": null,
       "font_weight": null,
       "text_color": null,
       "text_decoration": null
      }
     },
     "ea29b18c17f04af08042383ba7e37550": {
      "model_module": "@jupyter-widgets/base",
      "model_module_version": "2.0.0",
      "model_name": "LayoutModel",
      "state": {}
     },
     "eb39eef116f441be851d523f38f750a1": {
      "model_module": "@jupyter-widgets/base",
      "model_module_version": "2.0.0",
      "model_name": "LayoutModel",
      "state": {
       "display": "none",
       "grid_template_areas": "\n                    \"label input\"\n                    \". description\"\n                ",
       "grid_template_columns": "25% 75%",
       "grid_template_rows": "auto auto",
       "width": "100%"
      }
     },
     "ed64deefcd7e4b4b919036c221eb3c99": {
      "model_module": "@jupyter-widgets/output",
      "model_module_version": "1.0.0",
      "model_name": "OutputModel",
      "state": {
       "layout": "IPY_MODEL_2ab2d21e68ce49888eb38dc92baad496"
      }
     },
     "ede565fe34d5429991d86c6e27bd7f24": {
      "model_module": "@jupyter-widgets/controls",
      "model_module_version": "2.0.0",
      "model_name": "LabelModel",
      "state": {
       "layout": "IPY_MODEL_3bb9d1be71644c6baf21cecd997ba1ab",
       "style": "IPY_MODEL_13588b29d48f49b4b74b6cc39c66dc4c"
      }
     },
     "ef5f8085501a4dc0ae570064b4b98500": {
      "model_module": "@jupyter-widgets/controls",
      "model_module_version": "2.0.0",
      "model_name": "GridBoxModel",
      "state": {
       "_dom_classes": [
        "nbtools-input",
        "nbtools-textinput"
       ],
       "children": [
        "IPY_MODEL_2316ab99c0da43d8bff5d32536249302",
        "IPY_MODEL_49202f5abdd5427590a7470e08b2ceba",
        "IPY_MODEL_f14bc5a1e2134f4685d0a5078bd684a9"
       ],
       "layout": "IPY_MODEL_10aebb03d7ca4672b9843a3442ca5bf5"
      }
     },
     "f14bc5a1e2134f4685d0a5078bd684a9": {
      "model_module": "@jupyter-widgets/controls",
      "model_module_version": "2.0.0",
      "model_name": "LabelModel",
      "state": {
       "layout": "IPY_MODEL_46322c561d5c40c090290faba9ad1536",
       "style": "IPY_MODEL_3ad9d3ac124a43b79d23480358f59ca9"
      }
     },
     "f3c8217bcb9c489787ecd05eac72b4f9": {
      "model_module": "@jupyter-widgets/controls",
      "model_module_version": "2.0.0",
      "model_name": "ComboboxModel",
      "state": {
       "_dom_classes": [
        "nbtools-menu-attached"
       ],
       "choices": {},
       "ensure_option": false,
       "kinds": [],
       "layout": "IPY_MODEL_c85eb723cd54466f89e54e5510ef832e",
       "style": "IPY_MODEL_e0bab2ca97664e9f9e1818ce9aef990e"
      }
     },
     "f54afcfb29c1477b9eb7d0f3be16f849": {
      "model_module": "@jupyter-widgets/base",
      "model_module_version": "2.0.0",
      "model_name": "LayoutModel",
      "state": {
       "grid_area": "description",
       "width": "auto"
      }
     },
     "f54f8e8bdc954000b984f1b8bdf4a86a": {
      "model_module": "@jupyter-widgets/output",
      "model_module_version": "1.0.0",
      "model_name": "OutputModel",
      "state": {
       "layout": "IPY_MODEL_9454abac868d497088edac735f08aaa6"
      }
     },
     "f57c7778ba534ffbbc8421ecc2859122": {
      "model_module": "@jupyter-widgets/controls",
      "model_module_version": "2.0.0",
      "model_name": "GridBoxModel",
      "state": {
       "_dom_classes": [
        "nbtools-input",
        "nbtools-textinput"
       ],
       "children": [
        "IPY_MODEL_7df6ebf1d80e4255bbd551315543f906",
        "IPY_MODEL_b85f06461309490091b2d5949d86d749",
        "IPY_MODEL_52c067fed6884d07968514e517ad330a"
       ],
       "layout": "IPY_MODEL_94e781af908649e88ea1ceeb5ba192b9"
      }
     },
     "f660cd18ef29422ca5b2c8d91c01ce48": {
      "model_module": "@jupyter-widgets/controls",
      "model_module_version": "2.0.0",
      "model_name": "GridBoxModel",
      "state": {
       "_dom_classes": [
        "nbtools-input",
        "nbtools-textinput"
       ],
       "children": [
        "IPY_MODEL_6e9b4d8c96b6409c8c941b5262813466",
        "IPY_MODEL_a0b6b7c283e149f4bba103c22681bb1a",
        "IPY_MODEL_ede565fe34d5429991d86c6e27bd7f24"
       ],
       "layout": "IPY_MODEL_178745bfc0164acd87a37597e35f56b7"
      }
     },
     "f79fa1c1869e4bd1bb877ea4ea436a99": {
      "model_module": "@jupyter-widgets/controls",
      "model_module_version": "2.0.0",
      "model_name": "ButtonModel",
      "state": {
       "_dom_classes": [
        "hidden"
       ],
       "description": "Run",
       "layout": "IPY_MODEL_191a4fe80f91455cad21e8225b4ab993",
       "style": "IPY_MODEL_0241958a6ca74473be41bbc997700010",
       "tooltip": null
      }
     },
     "f7f1f5a735ed47f29ec3ef44c4256813": {
      "model_module": "@jupyter-widgets/controls",
      "model_module_version": "2.0.0",
      "model_name": "GridBoxModel",
      "state": {
       "_dom_classes": [
        "nbtools-input",
        "nbtools-fileinput"
       ],
       "children": [
        "IPY_MODEL_ab7ef85b854d4f4cb640bc4878258b49",
        "IPY_MODEL_b3f16776b8e64e82ba7f2cdf4a19d591",
        "IPY_MODEL_77e4273afcca493e86d29e3465c0062d"
       ],
       "layout": "IPY_MODEL_64b537d960df4f75927a076f7f43300e"
      }
     },
     "fab46ec57db94fbda816dc68e6bf7664": {
      "model_module": "@jupyter-widgets/controls",
      "model_module_version": "2.0.0",
      "model_name": "GridBoxModel",
      "state": {
       "_dom_classes": [
        "nbtools-input",
        "nbtools-comboinput"
       ],
       "children": [
        "IPY_MODEL_c9f89d74045045f08d4716f65033dd75",
        "IPY_MODEL_8d617b7c24344fd49ebf199d59f39da7",
        "IPY_MODEL_ae052996e0934863baa87127a9ffb5e7"
       ],
       "layout": "IPY_MODEL_3e74ddc0f7ee4b61a79e34c4af314b58"
      }
     },
     "fb0ee767e7e04480ab9f7d963ce0113d": {
      "model_module": "@jupyter-widgets/base",
      "model_module_version": "2.0.0",
      "model_name": "LayoutModel",
      "state": {}
     },
     "fd9b19c751b64c52a33b179dcd9322c1": {
      "model_module": "@jupyter-widgets/base",
      "model_module_version": "2.0.0",
      "model_name": "LayoutModel",
      "state": {}
     },
     "fda44ff3682743caa4b2b035aa698d64": {
      "model_module": "@jupyter-widgets/base",
      "model_module_version": "2.0.0",
      "model_name": "LayoutModel",
      "state": {}
     },
     "feb8e4ff6b1a445ba9b47a338d233f7b": {
      "model_module": "@jupyter-widgets/controls",
      "model_module_version": "2.0.0",
      "model_name": "ButtonStyleModel",
      "state": {
       "font_family": null,
       "font_size": null,
       "font_style": null,
       "font_variant": null,
       "font_weight": null,
       "text_color": null,
       "text_decoration": null
      }
     },
     "febd76f3e00946048a8e283c7cdfbbb8": {
      "model_module": "@jupyter-widgets/controls",
      "model_module_version": "2.0.0",
      "model_name": "LabelModel",
      "state": {
       "description": "track format",
       "layout": "IPY_MODEL_a6a36dfcf2a247a299e19f2f93aadc27",
       "style": "IPY_MODEL_3119a1e515804aa1bfeafffdb7c44bc4",
       "value": "track format"
      }
     },
     "ffbde997e31d4b1bb5493c1750bee628": {
      "model_module": "@g2nb/ipyuploads",
      "model_module_version": "0.2.4",
      "model_name": "UploadModel",
      "state": {
       "description_allow_html": false,
       "layout": "IPY_MODEL_fd9b19c751b64c52a33b179dcd9322c1",
       "style": "IPY_MODEL_db0a83d8191c445b962c9205ed22fb48",
       "upload_dir": ""
      }
     }
    },
    "version_major": 2,
    "version_minor": 0
   }
  }
 },
 "nbformat": 4,
 "nbformat_minor": 5
}
