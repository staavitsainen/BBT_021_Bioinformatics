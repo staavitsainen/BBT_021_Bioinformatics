{
 "cells": [
  {
   "cell_type": "markdown",
   "id": "endangered-establishment",
   "metadata": {},
   "source": [
    "# Week 2 computer exercises"
   ]
  },
  {
   "cell_type": "markdown",
   "id": "empirical-honey",
   "metadata": {},
   "source": [
    "Python is a general purpose programming language. To be able to do biological computation, we either need to write extra Python codes/scripts ourselves for a given computation or we can use some ready-made tools or modules. `Biopython` is a module that extends the capabilities of Python programming language in terms of biological computation. In this exercise, we use `Biopython`.  "
   ]
  },
  {
   "cell_type": "markdown",
   "id": "talented-rugby",
   "metadata": {},
   "source": [
    "## Inspecting the contents of a `FASTQ` file with command line"
   ]
  },
  {
   "cell_type": "markdown",
   "id": "danish-mumbai",
   "metadata": {},
   "source": [
    "First, skim through [this](https://en.wikipedia.org/wiki/FASTQ_format) Wikipedia entry about `FASTQ` file and familiarize yourself with its format. "
   ]
  },
  {
   "cell_type": "markdown",
   "id": "authorized-thought",
   "metadata": {},
   "source": [
    "Using JupyterLab Launcher, open a terminal. Use command `cd` to change the directory to `BBT_021_Bioinformatics/Week_02`. Use `ls -lh` command to list the content of the directory (**note**: You can use [explainshell](https://explainshell.com/) website to get an explanation of what `ls -lh` does). Inspect the list and answer the following **ungraded** questions:\n",
    "\n",
    "- How many files are there ending with `.fastq`?\n",
    "- What are the sizes of the files ending with `.fastq`?"
   ]
  },
  {
   "cell_type": "markdown",
   "id": "alleged-blink",
   "metadata": {},
   "source": [
    "Use `head -n8 week_02_sample_r1.fastq` to show the first `8` lines of the `week_02_sample_r1.fastq` FASTQ file in the terminal. Check the results and see if what you see follows the description in the Wikipedia entry.\n",
    "Answer the following questions just by looking at the result in the terminal (no need to write any extra commands):\n",
    "- To how many sequencing reads do these 8 lines correspond (also answer in Moodle)?\n",
    "- What is the **first base** in the **first sequencing read** (also answer in Moodle)?\n",
    "- What is the **last base** in the **first sequencing read** (also answer in Moodle)?\n",
    "- What is the character annotation of the **phred quality score** for the **first base** in the **first sequencing read** (also answer in Moodle)?\n",
    "- What is the character annotation of the **phred quality score** for the **last base** in the **first sequencing read** (also answer in Moodle)?"
   ]
  },
  {
   "cell_type": "markdown",
   "id": "confidential-middle",
   "metadata": {},
   "source": [
    "Once you are done with answering the questions above, you can type `exit` in the terminal to exit the terminal. "
   ]
  },
  {
   "cell_type": "markdown",
   "id": "going-network",
   "metadata": {},
   "source": [
    "## Inspecting the contents of a `FASTQ` file with `Biopython`"
   ]
  },
  {
   "cell_type": "markdown",
   "id": "cooperative-breed",
   "metadata": {},
   "source": [
    "The following cell installs `Biopython` module. Normally, we install it once, but here, we have to run it every time we use `GenePattern`."
   ]
  },
  {
   "cell_type": "code",
   "execution_count": null,
   "id": "durable-frost",
   "metadata": {},
   "outputs": [],
   "source": [
    "pip install biopython"
   ]
  },
  {
   "cell_type": "code",
   "execution_count": null,
   "id": "gentle-airfare",
   "metadata": {},
   "outputs": [],
   "source": [
    "## The following line loads the necessary modules and sets the configurations to plot \n",
    "import matplotlib as mpl\n",
    "mpl.use('Agg')\n",
    "import matplotlib.pyplot as plt\n",
    "%matplotlib inline\n",
    "\n",
    "## This load the standard Sequence Input/Output interface for BioPython \n",
    "## that provides us with functionality to work with sequences\n",
    "from Bio import SeqIO"
   ]
  },
  {
   "cell_type": "markdown",
   "id": "prescribed-submission",
   "metadata": {},
   "source": [
    "In this week's directory, we have 2 `FASTQ` files for `1` sample. We have `2` files because the data is obtained from a **paired-end sequencing** experiment. The file having `r1.fastq` contains the `read1`s and file having `r2.fastq` contains the `read2`s. We can check this using the `ls` command."
   ]
  },
  {
   "cell_type": "code",
   "execution_count": null,
   "id": "gothic-constitutional",
   "metadata": {},
   "outputs": [],
   "source": [
    "ls"
   ]
  },
  {
   "cell_type": "markdown",
   "id": "increasing-stylus",
   "metadata": {},
   "source": [
    "### Loading a `FASTQ` file using a Biopython function"
   ]
  },
  {
   "cell_type": "markdown",
   "id": "impaired-deployment",
   "metadata": {},
   "source": [
    "We can use `SeqIO.parse()` to load a file containing sequences and go through its contents."
   ]
  },
  {
   "cell_type": "code",
   "execution_count": null,
   "id": "homeless-deputy",
   "metadata": {},
   "outputs": [],
   "source": [
    "## The contents of week_02_sample_r1.fastq are now loaded\n",
    "## appropriately in SeqRecords variable\n",
    "SeqRecords = SeqIO.parse(\"week_02_sample_r1.fastq\", \"fastq\")"
   ]
  },
  {
   "cell_type": "markdown",
   "id": "premier-apparel",
   "metadata": {},
   "source": [
    "We can use `next()` function to take the first record in `SeqRecords`. Next time we use this function, we get the next record. We can use this function as many times as there are records. After that, if we use it, we get an `StopIteration` error message."
   ]
  },
  {
   "cell_type": "code",
   "execution_count": null,
   "id": "reasonable-newfoundland",
   "metadata": {},
   "outputs": [],
   "source": [
    "## We get the first record in the SeqRecords and put it in a variable called sequence_record.\n",
    "sequence_record = next(SeqRecords)"
   ]
  },
  {
   "cell_type": "markdown",
   "id": "level-fraud",
   "metadata": {},
   "source": [
    "Remember that we said that a record in a `FASTQ` file has 4 lines. A sequence identifier, raw sequence, a line that most of the time begins with a `+` character, and the 4th line contains the quality values for the sequence on line 2.   \n",
    "\n",
    "We can extract these lines for each record as follows:"
   ]
  },
  {
   "cell_type": "markdown",
   "id": "modular-passage",
   "metadata": {},
   "source": [
    "### Extract the sequence identifier"
   ]
  },
  {
   "cell_type": "code",
   "execution_count": null,
   "id": "incorporated-orchestra",
   "metadata": {},
   "outputs": [],
   "source": [
    "print(sequence_record.id)"
   ]
  },
  {
   "cell_type": "markdown",
   "id": "adaptive-complement",
   "metadata": {},
   "source": [
    "### Extract the raw sequence"
   ]
  },
  {
   "cell_type": "code",
   "execution_count": null,
   "id": "established-submission",
   "metadata": {},
   "outputs": [],
   "source": [
    "print(sequence_record.seq)"
   ]
  },
  {
   "cell_type": "markdown",
   "id": "understanding-bahrain",
   "metadata": {},
   "source": [
    "### Finding out length of a read"
   ]
  },
  {
   "cell_type": "code",
   "execution_count": null,
   "id": "mental-independence",
   "metadata": {},
   "outputs": [],
   "source": [
    "## We can use Python len() function to check the length of the sequence\n",
    "print(len(sequence_record.seq))"
   ]
  },
  {
   "cell_type": "markdown",
   "id": "serial-swift",
   "metadata": {},
   "source": [
    "From above, we see that `read1` is `101` base long.  "
   ]
  },
  {
   "cell_type": "markdown",
   "id": "exceptional-attendance",
   "metadata": {},
   "source": [
    "### Extract the `phred` quality scores per base call"
   ]
  },
  {
   "cell_type": "code",
   "execution_count": null,
   "id": "equipped-climb",
   "metadata": {},
   "outputs": [],
   "source": [
    "print(sequence_record.letter_annotations['phred_quality'])"
   ]
  },
  {
   "cell_type": "markdown",
   "id": "selected-emperor",
   "metadata": {},
   "source": [
    "### Indexing"
   ]
  },
  {
   "cell_type": "markdown",
   "id": "separated-bidder",
   "metadata": {},
   "source": [
    "You can see that the result of above operation is a _list_ of numbers. What if we are interested to check the value at a specific position? For example, if we are interested in the base call quality of the `5th` base, we can use the following cell (what we are doing here is called _indexing_). The reason that we use `4` instead of `5` is that in Python the counting starts from `0`. "
   ]
  },
  {
   "cell_type": "code",
   "execution_count": null,
   "id": "editorial-absolute",
   "metadata": {},
   "outputs": [],
   "source": [
    "print(sequence_record.letter_annotations['phred_quality'][4])"
   ]
  },
  {
   "cell_type": "markdown",
   "id": "moved-tomorrow",
   "metadata": {},
   "source": [
    "### Calculate the probability if a base call is wrong"
   ]
  },
  {
   "cell_type": "markdown",
   "id": "alpha-syndicate",
   "metadata": {},
   "source": [
    "So, if the base call quality for the `5th` base is `31`, this means that the probability that the call is wrong can be calculated as:\n",
    "$$-10log_{10}(p) = 31$$\n",
    "$$log_{10}(p) = -3.1$$\n",
    "$$p = 10^{-3.1}$$"
   ]
  },
  {
   "cell_type": "code",
   "execution_count": null,
   "id": "written-registrar",
   "metadata": {},
   "outputs": [],
   "source": [
    "p = 10**-3.1\n",
    "print(p)"
   ]
  },
  {
   "cell_type": "markdown",
   "id": "increased-intensity",
   "metadata": {},
   "source": [
    "The value above shows that there is a rather low chance that the base call is wrong."
   ]
  },
  {
   "cell_type": "markdown",
   "id": "solar-wages",
   "metadata": {},
   "source": [
    "To see what is the `5th` base, we can use a similar approach and index the sequence as follow:"
   ]
  },
  {
   "cell_type": "code",
   "execution_count": null,
   "id": "military-richardson",
   "metadata": {},
   "outputs": [],
   "source": [
    "print(sequence_record.seq[4])"
   ]
  },
  {
   "cell_type": "markdown",
   "id": "public-hawaiian",
   "metadata": {},
   "source": [
    "### Slicing"
   ]
  },
  {
   "cell_type": "markdown",
   "id": "regulated-mileage",
   "metadata": {},
   "source": [
    "To see the `5th` through `10th` bases on this record, we can use the following cell. **Note** that even though we start counting from `0` (i.e. indexing starts from `0`), to get the `10th` base, we need to use `10` and not `9`. This is because when using ranges in Python, it does not include the last number in the range. (what we are doing here is called _slicing_)."
   ]
  },
  {
   "cell_type": "code",
   "execution_count": null,
   "id": "thorough-thompson",
   "metadata": {},
   "outputs": [],
   "source": [
    "print(sequence_record.seq[4:10])"
   ]
  },
  {
   "cell_type": "markdown",
   "id": "blank-factor",
   "metadata": {},
   "source": [
    "### Plotting"
   ]
  },
  {
   "cell_type": "markdown",
   "id": "posted-physiology",
   "metadata": {},
   "source": [
    "We can visualize the base call quality scores and check how they look for the first record. The X-axis shows the base (e.g. `1st` base as position `0`) and the Y-axis shows the phred quality score. "
   ]
  },
  {
   "cell_type": "code",
   "execution_count": null,
   "id": "numerous-committee",
   "metadata": {},
   "outputs": [],
   "source": [
    "plt.plot(sequence_record.letter_annotations[\"phred_quality\"])\n",
    "plt.xlabel('Base position', fontsize=16) # adds x-axis lable\n",
    "plt.ylabel('Phred quality score', fontsize=16); # add y-axis label"
   ]
  },
  {
   "cell_type": "markdown",
   "id": "lightweight-liquid",
   "metadata": {},
   "source": [
    "From the plot, we can see that the beginning of the sequence and the end of the sequence have a bit lower quality than the middle part (but phred score of `26` is still good i.e. the chance of the base call being wrong is only `0.002512`). In the 31-minute video we watched for Assignment 1 this week, Prof. Eric Chow explained one reason why the quality drops as the sequence gets longer. Do you remember what it was?"
   ]
  },
  {
   "cell_type": "markdown",
   "id": "pending-poison",
   "metadata": {},
   "source": [
    "## Exercises"
   ]
  },
  {
   "cell_type": "markdown",
   "id": "metropolitan-silly",
   "metadata": {},
   "source": [
    "Once you are done with the following exercises and got the answers, use them to answer the Moodle quiz.\n",
    "\n",
    "Using what you have learned above, load the contents of `week_02_sample_r2.fastq` and assign it to a variable named `SeqRecords_r2`. Next, extract **the first record** (i.e. read) from it."
   ]
  },
  {
   "cell_type": "markdown",
   "id": "greenhouse-breast",
   "metadata": {},
   "source": [
    "### Exercise 1"
   ]
  },
  {
   "cell_type": "markdown",
   "id": "major-imperial",
   "metadata": {},
   "source": [
    "What is the `82nd` base?"
   ]
  },
  {
   "cell_type": "code",
   "execution_count": null,
   "id": "urban-minneapolis",
   "metadata": {},
   "outputs": [],
   "source": []
  },
  {
   "cell_type": "markdown",
   "id": "centered-investment",
   "metadata": {},
   "source": [
    "### Exercise 2"
   ]
  },
  {
   "cell_type": "markdown",
   "id": "actual-animation",
   "metadata": {},
   "source": [
    "What is the `82nd` through `90th` base?   "
   ]
  },
  {
   "cell_type": "code",
   "execution_count": null,
   "id": "appointed-teens",
   "metadata": {},
   "outputs": [],
   "source": []
  },
  {
   "cell_type": "markdown",
   "id": "lyric-prophet",
   "metadata": {},
   "source": [
    "### Exercise 3"
   ]
  },
  {
   "cell_type": "markdown",
   "id": "understanding-orientation",
   "metadata": {},
   "source": [
    "What is the phred score of `88th` base?"
   ]
  },
  {
   "cell_type": "code",
   "execution_count": null,
   "id": "split-silicon",
   "metadata": {},
   "outputs": [],
   "source": []
  },
  {
   "cell_type": "markdown",
   "id": "compound-module",
   "metadata": {},
   "source": [
    "### Exercise 4"
   ]
  },
  {
   "cell_type": "markdown",
   "id": "minus-warner",
   "metadata": {},
   "source": [
    "What is a the probability that the `88th` base is wrong?"
   ]
  },
  {
   "cell_type": "code",
   "execution_count": null,
   "id": "herbal-wesley",
   "metadata": {},
   "outputs": [],
   "source": []
  },
  {
   "cell_type": "markdown",
   "id": "949a78ff-c83b-41bf-9b2f-57cb16efcf16",
   "metadata": {},
   "source": [
    "This concludes this week's computer exercises."
   ]
  }
 ],
 "metadata": {
  "kernelspec": {
   "display_name": "Python 3 (ipykernel)",
   "language": "python",
   "name": "python3"
  },
  "language_info": {
   "codemirror_mode": {
    "name": "ipython",
    "version": 3
   },
   "file_extension": ".py",
   "mimetype": "text/x-python",
   "name": "python",
   "nbconvert_exporter": "python",
   "pygments_lexer": "ipython3",
   "version": "3.12.5"
  },
  "widgets": {
   "application/vnd.jupyter.widget-state+json": {
    "state": {
     "017412e1be2f4ad48bbb124e7ac83a2a": {
      "model_module": "@jupyter-widgets/controls",
      "model_module_version": "1.5.0",
      "model_name": "ComboboxModel",
      "state": {
       "_dom_classes": [
        "nbtools-menu-attached"
       ],
       "choices": {},
       "ensure_option": false,
       "kinds": [],
       "layout": "IPY_MODEL_ebd68de8e9724a75b0efabb35115b1b6",
       "style": "IPY_MODEL_5b4949727682401d8d7e8617665a7287"
      }
     },
     "02668c6bac60409e95205381e6a023ec": {
      "model_module": "@jupyter-widgets/base",
      "model_module_version": "1.2.0",
      "model_name": "LayoutModel",
      "state": {
       "grid_area": "description",
       "width": "auto"
      }
     },
     "0b29b943ddff4b4792541f795593734c": {
      "model_module": "@jupyter-widgets/controls",
      "model_module_version": "1.5.0",
      "model_name": "LabelModel",
      "state": {
       "layout": "IPY_MODEL_37bacf4a6b45411f86a3ccf446fece70",
       "style": "IPY_MODEL_cc4bb7d561e24169aa75cb687c9887f9"
      }
     },
     "0b36d493c5fa40ca88304222e23a044c": {
      "model_module": "@jupyter-widgets/controls",
      "model_module_version": "1.5.0",
      "model_name": "LabelModel",
      "state": {
       "description": "track type",
       "layout": "IPY_MODEL_a5109c1cf9a94420bc38f1098c460500",
       "style": "IPY_MODEL_2e3f9340fbc54b43887b8280a56ef1dd",
       "value": "track type"
      }
     },
     "0b7538b5a498485f8d1543508ad1c1c7": {
      "model_module": "@jupyter-widgets/base",
      "model_module_version": "1.2.0",
      "model_name": "LayoutModel",
      "state": {
       "grid_area": "label",
       "width": "auto"
      }
     },
     "0b8a78a4f370406fb3ebd8a47358cd47": {
      "model_module": "@jupyter-widgets/controls",
      "model_module_version": "1.5.0",
      "model_name": "ButtonStyleModel",
      "state": {}
     },
     "0e397d72e6c14335a99a00c7517049ac": {
      "model_module": "@jupyter-widgets/base",
      "model_module_version": "1.2.0",
      "model_name": "LayoutModel",
      "state": {}
     },
     "0f4cfbd431b649a988182c8ee88eefb2": {
      "model_module": "@jupyter-widgets/base",
      "model_module_version": "1.2.0",
      "model_name": "LayoutModel",
      "state": {}
     },
     "0f79337986ca44398bf321c541a1613e": {
      "model_module": "@jupyter-widgets/base",
      "model_module_version": "1.2.0",
      "model_name": "LayoutModel",
      "state": {}
     },
     "11a2f4511d4442819b9397a19b73f7d2": {
      "model_module": "@jupyter-widgets/controls",
      "model_module_version": "1.5.0",
      "model_name": "DescriptionStyleModel",
      "state": {
       "description_width": ""
      }
     },
     "123c13182b4e44cc9ac7e5b86cd21401": {
      "model_module": "@jupyter-widgets/base",
      "model_module_version": "1.2.0",
      "model_name": "LayoutModel",
      "state": {
       "grid_area": "label",
       "width": "auto"
      }
     },
     "13ab8280caaf4a6abfcd05f5e63e4677": {
      "model_module": "@jupyter-widgets/controls",
      "model_module_version": "1.5.0",
      "model_name": "DescriptionStyleModel",
      "state": {
       "description_width": ""
      }
     },
     "14e5b7ddbb8c4024a3781ae5ac1fd7b9": {
      "model_module": "@jupyter-widgets/controls",
      "model_module_version": "1.5.0",
      "model_name": "DescriptionStyleModel",
      "state": {
       "description_width": ""
      }
     },
     "1633489a086d44bbb0ef83b0c237591c": {
      "model_module": "@jupyter-widgets/base",
      "model_module_version": "1.2.0",
      "model_name": "LayoutModel",
      "state": {
       "display": "none",
       "grid_template_areas": "\n                    \"label input\"\n                    \". description\"\n                ",
       "grid_template_columns": "25% 75%",
       "grid_template_rows": "auto auto",
       "width": "100%"
      }
     },
     "178993e75abc4c23aede1bb7287fe427": {
      "model_module": "@jupyter-widgets/base",
      "model_module_version": "1.2.0",
      "model_name": "LayoutModel",
      "state": {}
     },
     "1b2e9533989949dc908974b79d4f7ed6": {
      "model_module": "@jupyter-widgets/controls",
      "model_module_version": "1.5.0",
      "model_name": "ButtonStyleModel",
      "state": {}
     },
     "1c715049025f45e789748f72c950541e": {
      "model_module": "@jupyter-widgets/base",
      "model_module_version": "1.2.0",
      "model_name": "LayoutModel",
      "state": {
       "grid_area": "input",
       "width": "auto"
      }
     },
     "1d7ed355a35c4d5db7153d498524833e": {
      "model_module": "@jupyter-widgets/controls",
      "model_module_version": "1.5.0",
      "model_name": "LabelModel",
      "state": {
       "description": "output variable",
       "layout": "IPY_MODEL_c0474d2625434cd280da915b47ee2547",
       "style": "IPY_MODEL_ae803fa0fb394c98a677887ff74893c5",
       "value": "output variable"
      }
     },
     "1f1d0606154b4313962c4e76e278e723": {
      "model_module": "@jupyter-widgets/controls",
      "model_module_version": "1.5.0",
      "model_name": "DescriptionStyleModel",
      "state": {
       "description_width": ""
      }
     },
     "1f6882f0416a406fb1c3aca739e0fd2c": {
      "model_module": "@jupyter-widgets/controls",
      "model_module_version": "1.5.0",
      "model_name": "GridBoxModel",
      "state": {
       "_dom_classes": [
        "nbtools-input",
        "nbtools-textinput"
       ],
       "children": [
        "IPY_MODEL_fa61647199064008b63b499d984884ef",
        "IPY_MODEL_8e4641c28fa240e8889416ff2838956f",
        "IPY_MODEL_5204d088b0d64e159d4d16292273268f"
       ],
       "layout": "IPY_MODEL_f28a3906b7ed447db314f671d1c42de6"
      }
     },
     "2200fc1264ca4dabaa012e96f01ee95d": {
      "model_module": "@jupyter-widgets/controls",
      "model_module_version": "1.5.0",
      "model_name": "LabelModel",
      "state": {
       "description": "Enter the type of the track datasets",
       "layout": "IPY_MODEL_ba94b6099bfd49f6bc1af7829b866cb6",
       "style": "IPY_MODEL_e537132c83c34cfdb9b5bd3bd6d06917",
       "value": "Enter the type of the track datasets"
      }
     },
     "2daa9c80af18499c94ba7c80859a3460": {
      "model_module": "@jupyter-widgets/base",
      "model_module_version": "1.2.0",
      "model_name": "LayoutModel",
      "state": {
       "grid_area": "label",
       "width": "auto"
      }
     },
     "2e3f9340fbc54b43887b8280a56ef1dd": {
      "model_module": "@jupyter-widgets/controls",
      "model_module_version": "1.5.0",
      "model_name": "DescriptionStyleModel",
      "state": {
       "description_width": ""
      }
     },
     "2f3788e2af5248e09154910807e2c8ce": {
      "model_module": "@jupyter-widgets/base",
      "model_module_version": "1.2.0",
      "model_name": "LayoutModel",
      "state": {
       "grid_area": "input",
       "width": "auto"
      }
     },
     "337a42afd72f44ec890869b2fce49eff": {
      "model_module": "@jupyter-widgets/controls",
      "model_module_version": "1.5.0",
      "model_name": "ButtonStyleModel",
      "state": {}
     },
     "3455754c1d224518b30f971d5a2c0762": {
      "model_module": "@jupyter-widgets/controls",
      "model_module_version": "1.5.0",
      "model_name": "LabelModel",
      "state": {
       "description": "indices",
       "layout": "IPY_MODEL_5bc66a511c6644b697b8968712363bcb",
       "style": "IPY_MODEL_14e5b7ddbb8c4024a3781ae5ac1fd7b9",
       "value": "indices"
      }
     },
     "37784746dd7b4553a3fdc0a185d042c5": {
      "model_module": "@jupyter-widgets/controls",
      "model_module_version": "1.5.0",
      "model_name": "GridBoxModel",
      "state": {
       "_dom_classes": [
        "nbtools-input",
        "nbtools-fileinput"
       ],
       "children": [
        "IPY_MODEL_3455754c1d224518b30f971d5a2c0762",
        "IPY_MODEL_7b339060a1954433b3866e4d9d1eb7dc",
        "IPY_MODEL_89ee4f9d7da8408da1f1fef8ece557d4"
       ],
       "layout": "IPY_MODEL_39d2cd44894e42558b59b018cf49e95f"
      }
     },
     "37bacf4a6b45411f86a3ccf446fece70": {
      "model_module": "@jupyter-widgets/base",
      "model_module_version": "1.2.0",
      "model_name": "LayoutModel",
      "state": {
       "grid_area": "description",
       "width": "auto"
      }
     },
     "37c33ce96b8440a29d9a9a16fb88fdd5": {
      "model_module": "@jupyter-widgets/base",
      "model_module_version": "1.2.0",
      "model_name": "LayoutModel",
      "state": {}
     },
     "39d2cd44894e42558b59b018cf49e95f": {
      "model_module": "@jupyter-widgets/base",
      "model_module_version": "1.2.0",
      "model_name": "LayoutModel",
      "state": {
       "grid_template_areas": "\n                    \"label input\"\n                    \". description\"\n                ",
       "grid_template_columns": "25% 75%",
       "grid_template_rows": "auto auto",
       "width": "100%"
      }
     },
     "3c71b88a467e48bcad0e8f9026fa7a96": {
      "model_module": "@jupyter-widgets/base",
      "model_module_version": "1.2.0",
      "model_name": "LayoutModel",
      "state": {
       "grid_area": "description",
       "width": "auto"
      }
     },
     "3cbae96c889e4980be5ace09d6a24ec7": {
      "model_module": "@jupyter-widgets/controls",
      "model_module_version": "1.5.0",
      "model_name": "LabelModel",
      "state": {
       "description": "Choose the genome for your data.",
       "layout": "IPY_MODEL_94db240963bc4f14848051e9cb683d41",
       "style": "IPY_MODEL_13ab8280caaf4a6abfcd05f5e63e4677",
       "value": "Choose the genome for your data."
      }
     },
     "3fc1120a2ec64dc4b08f6626eb90b45b": {
      "model_module": "@jupyter-widgets/controls",
      "model_module_version": "1.5.0",
      "model_name": "ButtonModel",
      "state": {
       "_dom_classes": [
        "hidden"
       ],
       "description": "Run",
       "layout": "IPY_MODEL_0f79337986ca44398bf321c541a1613e",
       "style": "IPY_MODEL_1b2e9533989949dc908974b79d4f7ed6"
      }
     },
     "40b25ccc670044678e32b7f4116bb209": {
      "model_module": "@jupyter-widgets/controls",
      "model_module_version": "1.5.0",
      "model_name": "FileUploadModel",
      "state": {
       "description_tooltip": null,
       "layout": "IPY_MODEL_62160f24c6574939b011d3ecbb3f1157",
       "style": "IPY_MODEL_0b8a78a4f370406fb3ebd8a47358cd47"
      }
     },
     "421ac5906e1442ae95ed2db0526832c1": {
      "model_module": "@jupyter-widgets/controls",
      "model_module_version": "1.5.0",
      "model_name": "VBoxModel",
      "state": {
       "children": [
        "IPY_MODEL_5e535fb30c27499281ae5744f0b01287",
        "IPY_MODEL_b78636616c0d414e825a8baabf683b9f"
       ],
       "layout": "IPY_MODEL_4ed7afb31a6b412e840336ffc1fa7f15"
      }
     },
     "425f09fb9eb741658958f631fa956bd5": {
      "model_module": "@jupyter-widgets/controls",
      "model_module_version": "1.5.0",
      "model_name": "DescriptionStyleModel",
      "state": {
       "description_width": ""
      }
     },
     "42788bd01daa48ba9728e12b003e25f5": {
      "model_module": "@jupyter-widgets/base",
      "model_module_version": "1.2.0",
      "model_name": "LayoutModel",
      "state": {
       "grid_area": "input",
       "width": "auto"
      }
     },
     "46dcfc7bc4a94f99b604b30ac0616390": {
      "model_module": "@jupyter-widgets/base",
      "model_module_version": "1.2.0",
      "model_name": "LayoutModel",
      "state": {}
     },
     "4b42d1fadcda425382302b1a65b01cf4": {
      "model_module": "@jupyter-widgets/controls",
      "model_module_version": "1.5.0",
      "model_name": "ComboboxModel",
      "state": {
       "_dom_classes": [
        "nbtools-menu-attached"
       ],
       "choices": {
        "": "",
        "alignment": "alignment",
        "annotation": "annotation",
        "arc": "arc",
        "bedtype": "bedtype",
        "gwas": "gwas",
        "interaction": "interaction",
        "mut": "mut",
        "seg": "seg",
        "variant": "variant",
        "wig": "wig"
       },
       "ensure_option": false,
       "kinds": [],
       "layout": "IPY_MODEL_f9adf42462ba4a5f9d3faf5261ff7f33",
       "style": "IPY_MODEL_ec5b83a583384ca1b0784ef9691d363c"
      }
     },
     "4da834d7e6c2430db3b4edde9290f499": {
      "model_module": "@jupyter-widgets/controls",
      "model_module_version": "1.5.0",
      "model_name": "GridBoxModel",
      "state": {
       "_dom_classes": [
        "nbtools-input",
        "nbtools-textinput"
       ],
       "children": [
        "IPY_MODEL_9df4258961b640fb8fd652193d077cfd",
        "IPY_MODEL_dcaed20622774ca2911507b66e5f627d",
        "IPY_MODEL_0b29b943ddff4b4792541f795593734c"
       ],
       "layout": "IPY_MODEL_1633489a086d44bbb0ef83b0c237591c"
      }
     },
     "4ed7afb31a6b412e840336ffc1fa7f15": {
      "model_module": "@jupyter-widgets/base",
      "model_module_version": "1.2.0",
      "model_name": "LayoutModel",
      "state": {}
     },
     "4f19ca899070428b86f60839c4be2625": {
      "model_module": "@jupyter-widgets/controls",
      "model_module_version": "1.5.0",
      "model_name": "ComboboxModel",
      "state": {
       "_dom_classes": [
        "nbtools-menu-attached",
        "nbtools-nosendto"
       ],
       "choices": {
        "Bonobo (MPI-EVA panpan1.1/panPan2)": "panPan2",
        "C. elegans (ce11)": "ce11",
        "Chimp (SAC 2.1.4/panTro4)": "panTro4",
        "Cow (UMD_3.1.1/bosTau8)": "bosTau8",
        "D. melanogaster (dm6)": "dm6",
        "Dog (Broad CanFam3.1/canFam3)": "canFam3",
        "Gorilla (gorGor4.1/gorGor4)": "gorGor4",
        "Human (CRCh37/hg19)": "hg19",
        "Human (GRCh38/hg38)": "hg38",
        "Human (hg18)": "hg18",
        "Mouse (GRCm38/mm10)": "mm10",
        "Pig (SGSC Sscrofa11.1/susScr11)": "susScr11",
        "Rat (RGCS 6.0/rn6)": "rn6",
        "S. cerevisiae (sacCer3)": "sacCer3",
        "Zebrafish (GRCZ10/danRer10)": "danRer10",
        "Zebrafish (GRCZ11/danRer11)": "danRer11"
       },
       "ensure_option": false,
       "kinds": [],
       "layout": "IPY_MODEL_2f3788e2af5248e09154910807e2c8ce",
       "style": "IPY_MODEL_b859d9448b1e441ebd0898649f0fa936",
       "value": "hg38"
      }
     },
     "4fc395c29b1b459da687258a09e4dfc1": {
      "model_module": "@jupyter-widgets/controls",
      "model_module_version": "1.5.0",
      "model_name": "DescriptionStyleModel",
      "state": {
       "description_width": ""
      }
     },
     "51a7b5c765ca43969f666eebd9aa92a4": {
      "model_module": "@jupyter-widgets/base",
      "model_module_version": "1.2.0",
      "model_name": "LayoutModel",
      "state": {}
     },
     "5204d088b0d64e159d4d16292273268f": {
      "model_module": "@jupyter-widgets/controls",
      "model_module_version": "1.5.0",
      "model_name": "LabelModel",
      "state": {
       "description": "Provide a locus or gene of interest for your data",
       "layout": "IPY_MODEL_fa01e71f07f540149f2dc79b2950431e",
       "style": "IPY_MODEL_425f09fb9eb741658958f631fa956bd5",
       "value": "Provide a locus or gene of interest for your data"
      }
     },
     "52ab8ead848945de818301a4dc79b304": {
      "model_module": "@jupyter-widgets/base",
      "model_module_version": "1.2.0",
      "model_name": "LayoutModel",
      "state": {}
     },
     "52af3d229dfd4ceab823fcedd8d35dbe": {
      "model_module": "@jupyter-widgets/controls",
      "model_module_version": "1.5.0",
      "model_name": "VBoxModel",
      "state": {
       "_dom_classes": [
        "widget-interact"
       ],
       "children": [
        "IPY_MODEL_8448a67e46f040f49cb49beffc75143f",
        "IPY_MODEL_6d3fd8b066064c20829f9d95afcf9c37",
        "IPY_MODEL_37784746dd7b4553a3fdc0a185d042c5",
        "IPY_MODEL_ba4ddff2764148828e2c1ecd1d2b6d50",
        "IPY_MODEL_b89fa145b0b14d069b4de00b8266eb00",
        "IPY_MODEL_1f6882f0416a406fb1c3aca739e0fd2c",
        "IPY_MODEL_de20452767cb45a484337881b52e3b24",
        "IPY_MODEL_a0300ac8fc51465abbeb93214fa01364"
       ],
       "layout": "IPY_MODEL_896b2034670f4d8182c5efcb90131c47"
      }
     },
     "58923c2b5e3c49e4b901b28a9695c625": {
      "model_module": "@jupyter-widgets/controls",
      "model_module_version": "1.5.0",
      "model_name": "DescriptionStyleModel",
      "state": {
       "description_width": ""
      }
     },
     "5b4949727682401d8d7e8617665a7287": {
      "model_module": "@jupyter-widgets/controls",
      "model_module_version": "1.5.0",
      "model_name": "DescriptionStyleModel",
      "state": {
       "description_width": ""
      }
     },
     "5bc66a511c6644b697b8968712363bcb": {
      "model_module": "@jupyter-widgets/base",
      "model_module_version": "1.2.0",
      "model_name": "LayoutModel",
      "state": {
       "grid_area": "label",
       "width": "auto"
      }
     },
     "5bf93f2993664b29aa69882c3b2e26e3": {
      "model_module": "@jupyter-widgets/controls",
      "model_module_version": "1.5.0",
      "model_name": "VBoxModel",
      "state": {
       "_dom_classes": [
        "widget-interact"
       ],
       "children": [
        "IPY_MODEL_3fc1120a2ec64dc4b08f6626eb90b45b",
        "IPY_MODEL_6362dbf61b3e4d60bd48d1557581be4f"
       ],
       "layout": "IPY_MODEL_0f4cfbd431b649a988182c8ee88eefb2"
      }
     },
     "5e535fb30c27499281ae5744f0b01287": {
      "model_module": "@jupyter-widgets/controls",
      "model_module_version": "1.5.0",
      "model_name": "ComboboxModel",
      "state": {
       "_dom_classes": [
        "nbtools-menu-attached"
       ],
       "choices": {},
       "ensure_option": false,
       "kinds": [],
       "layout": "IPY_MODEL_37c33ce96b8440a29d9a9a16fb88fdd5",
       "style": "IPY_MODEL_4fc395c29b1b459da687258a09e4dfc1"
      }
     },
     "5f043c26bf504e95a3079b23d58bd458": {
      "model_module": "@jupyter-widgets/base",
      "model_module_version": "1.2.0",
      "model_name": "LayoutModel",
      "state": {}
     },
     "62160f24c6574939b011d3ecbb3f1157": {
      "model_module": "@jupyter-widgets/base",
      "model_module_version": "1.2.0",
      "model_name": "LayoutModel",
      "state": {}
     },
     "6362dbf61b3e4d60bd48d1557581be4f": {
      "model_module": "@jupyter-widgets/output",
      "model_module_version": "1.0.0",
      "model_name": "OutputModel",
      "state": {
       "layout": "IPY_MODEL_46dcfc7bc4a94f99b604b30ac0616390"
      }
     },
     "657140a8e0a44461a711c40a950cb38a": {
      "model_module": "@jupyter-widgets/base",
      "model_module_version": "1.2.0",
      "model_name": "LayoutModel",
      "state": {
       "grid_area": "label",
       "width": "auto"
      }
     },
     "658403dcd0d9419baa7e8761eb6b57cf": {
      "model_module": "@jupyter-widgets/controls",
      "model_module_version": "1.5.0",
      "model_name": "LabelModel",
      "state": {
       "description": "track format",
       "layout": "IPY_MODEL_657140a8e0a44461a711c40a950cb38a",
       "style": "IPY_MODEL_e3a00dfdc8a94875a9a37dcb87b6a17b",
       "value": "track format"
      }
     },
     "67e3fc734dda48479129f2c79cca884e": {
      "model_module": "@jupyter-widgets/controls",
      "model_module_version": "1.5.0",
      "model_name": "DescriptionStyleModel",
      "state": {
       "description_width": ""
      }
     },
     "688c25adc09c4f6483cd9d1613d76ceb": {
      "model_module": "@jupyter-widgets/controls",
      "model_module_version": "1.5.0",
      "model_name": "DescriptionStyleModel",
      "state": {
       "description_width": ""
      }
     },
     "6b4813c51b65492897018ebb86d4e90c": {
      "model_module": "@jupyter-widgets/controls",
      "model_module_version": "1.5.0",
      "model_name": "ComboboxModel",
      "state": {
       "_dom_classes": [
        "nbtools-menu-attached"
       ],
       "choices": {
        "": "",
        "bam": "bam",
        "bb": "bb",
        "bed": "bed",
        "bedgraph": "bedgraph",
        "bedpe": "bedpe",
        "bedpe-loop": "bedpe-loop",
        "bigbed": "bigbed",
        "bigwig": "bigwig",
        "bp": "bp",
        "bw": "bw",
        "cram": "cram",
        "gwas": "gwas",
        "mut": "mut",
        "seg": "seg",
        "tdf": "tdf",
        "vcf": "vcf",
        "wig": "wig"
       },
       "ensure_option": false,
       "kinds": [],
       "layout": "IPY_MODEL_1c715049025f45e789748f72c950541e",
       "style": "IPY_MODEL_67e3fc734dda48479129f2c79cca884e"
      }
     },
     "6d3fd8b066064c20829f9d95afcf9c37": {
      "model_module": "@jupyter-widgets/controls",
      "model_module_version": "1.5.0",
      "model_name": "GridBoxModel",
      "state": {
       "_dom_classes": [
        "nbtools-input",
        "nbtools-fileinput"
       ],
       "children": [
        "IPY_MODEL_cd7e7d7017134a7c835973018c333d5b",
        "IPY_MODEL_a3eb58b52acd40f48e51bcaead5728b1",
        "IPY_MODEL_90bcdbf9fddd4f49a7ffba86b8f47c6c"
       ],
       "layout": "IPY_MODEL_b01d2dcb546c4995adfe14fd049ab983"
      }
     },
     "6efec6884c0e40a297878308cf6c7883": {
      "model_module": "@jupyter-widgets/controls",
      "model_module_version": "1.5.0",
      "model_name": "DescriptionStyleModel",
      "state": {
       "description_width": ""
      }
     },
     "717f4daa45b340089a2d08f0165df943": {
      "model_module": "@jupyter-widgets/base",
      "model_module_version": "1.2.0",
      "model_name": "LayoutModel",
      "state": {
       "grid_template_areas": "\n                    \"label input\"\n                    \". description\"\n                ",
       "grid_template_columns": "25% 75%",
       "grid_template_rows": "auto auto",
       "width": "100%"
      }
     },
     "73e09d0a38624602b33bf0e3a9ccd4d0": {
      "model_module": "@jupyter-widgets/controls",
      "model_module_version": "1.5.0",
      "model_name": "DescriptionStyleModel",
      "state": {
       "description_width": ""
      }
     },
     "7b339060a1954433b3866e4d9d1eb7dc": {
      "model_module": "@jupyter-widgets/controls",
      "model_module_version": "1.5.0",
      "model_name": "HBoxModel",
      "state": {
       "children": [
        "IPY_MODEL_9cd81ff2e4674d3981b93de6dca7078b",
        "IPY_MODEL_d02c5f048cf94650983f9e0337d8c925"
       ],
       "layout": "IPY_MODEL_97ee84ac8793443886f9d0ceafcffdf9"
      }
     },
     "816d832abd7a4054b97e089df573963b": {
      "model_module": "@jupyter-widgets/controls",
      "model_module_version": "1.5.0",
      "model_name": "DescriptionStyleModel",
      "state": {
       "description_width": ""
      }
     },
     "8448a67e46f040f49cb49beffc75143f": {
      "model_module": "@jupyter-widgets/controls",
      "model_module_version": "1.5.0",
      "model_name": "GridBoxModel",
      "state": {
       "_dom_classes": [
        "nbtools-input",
        "nbtools-comboinput",
        "required"
       ],
       "children": [
        "IPY_MODEL_ee0d567bafc34bf6bd3b637449862448",
        "IPY_MODEL_4f19ca899070428b86f60839c4be2625",
        "IPY_MODEL_3cbae96c889e4980be5ace09d6a24ec7"
       ],
       "layout": "IPY_MODEL_dc1081f685da4cfcb5f55fcc9b3110c1"
      }
     },
     "896b2034670f4d8182c5efcb90131c47": {
      "model_module": "@jupyter-widgets/base",
      "model_module_version": "1.2.0",
      "model_name": "LayoutModel",
      "state": {}
     },
     "89ee4f9d7da8408da1f1fef8ece557d4": {
      "model_module": "@jupyter-widgets/controls",
      "model_module_version": "1.5.0",
      "model_name": "LabelModel",
      "state": {
       "description": "Enter the URL to the index files that correspond to each track",
       "layout": "IPY_MODEL_3c71b88a467e48bcad0e8f9026fa7a96",
       "style": "IPY_MODEL_b47795188bc144578a09fc1dc80b93b6",
       "value": "Enter the URL to the index files that correspond to each track"
      }
     },
     "8ded322eafbc48b3b240b70c802d224b": {
      "model_module": "@jupyter-widgets/base",
      "model_module_version": "1.2.0",
      "model_name": "LayoutModel",
      "state": {}
     },
     "8e4641c28fa240e8889416ff2838956f": {
      "model_module": "@jupyter-widgets/controls",
      "model_module_version": "1.5.0",
      "model_name": "TextModel",
      "state": {
       "_dom_classes": [
        "nbtools-menu-attached"
       ],
       "layout": "IPY_MODEL_b53883fb16fe4e20a1290267eab7eca6",
       "style": "IPY_MODEL_816d832abd7a4054b97e089df573963b"
      }
     },
     "90bcdbf9fddd4f49a7ffba86b8f47c6c": {
      "model_module": "@jupyter-widgets/controls",
      "model_module_version": "1.5.0",
      "model_name": "LabelModel",
      "state": {
       "description": "Enter the URL to the track dataset(s)",
       "layout": "IPY_MODEL_a1461c339eec40de9044e60c5e207410",
       "style": "IPY_MODEL_9dd50369d683491cadab1f78741781c0",
       "value": "Enter the URL to the track dataset(s)"
      }
     },
     "917fb1a20b054f16a6fad5c80f982ddf": {
      "model_module": "@jupyter-widgets/controls",
      "model_module_version": "1.5.0",
      "model_name": "DescriptionStyleModel",
      "state": {
       "description_width": ""
      }
     },
     "94db240963bc4f14848051e9cb683d41": {
      "model_module": "@jupyter-widgets/base",
      "model_module_version": "1.2.0",
      "model_name": "LayoutModel",
      "state": {
       "grid_area": "description",
       "width": "auto"
      }
     },
     "97ee84ac8793443886f9d0ceafcffdf9": {
      "model_module": "@jupyter-widgets/base",
      "model_module_version": "1.2.0",
      "model_name": "LayoutModel",
      "state": {
       "grid_area": "input",
       "width": "auto"
      }
     },
     "9894de6d32e442c4948a0d095fe98b7b": {
      "model_module": "@jupyter-widgets/controls",
      "model_module_version": "1.5.0",
      "model_name": "DescriptionStyleModel",
      "state": {
       "description_width": ""
      }
     },
     "9cad2a0aa9bd49cb8ce3e9b1d54cd5be": {
      "model_module": "@jupyter-widgets/controls",
      "model_module_version": "1.5.0",
      "model_name": "DescriptionStyleModel",
      "state": {
       "description_width": ""
      }
     },
     "9cd81ff2e4674d3981b93de6dca7078b": {
      "model_module": "@jupyter-widgets/controls",
      "model_module_version": "1.5.0",
      "model_name": "FileUploadModel",
      "state": {
       "description_tooltip": null,
       "layout": "IPY_MODEL_52ab8ead848945de818301a4dc79b304",
       "style": "IPY_MODEL_ede341b8bf0041188f75236e8da54529"
      }
     },
     "9dd50369d683491cadab1f78741781c0": {
      "model_module": "@jupyter-widgets/controls",
      "model_module_version": "1.5.0",
      "model_name": "DescriptionStyleModel",
      "state": {
       "description_width": ""
      }
     },
     "9df4258961b640fb8fd652193d077cfd": {
      "model_module": "@jupyter-widgets/controls",
      "model_module_version": "1.5.0",
      "model_name": "LabelModel",
      "state": {
       "description": "output variable",
       "layout": "IPY_MODEL_0b7538b5a498485f8d1543508ad1c1c7",
       "style": "IPY_MODEL_688c25adc09c4f6483cd9d1613d76ceb",
       "value": "output variable"
      }
     },
     "a0300ac8fc51465abbeb93214fa01364": {
      "model_module": "@jupyter-widgets/controls",
      "model_module_version": "1.5.0",
      "model_name": "GridBoxModel",
      "state": {
       "_dom_classes": [
        "nbtools-input",
        "nbtools-textinput"
       ],
       "children": [
        "IPY_MODEL_1d7ed355a35c4d5db7153d498524833e",
        "IPY_MODEL_baf094c8cd324b898d15dee2d929fac8",
        "IPY_MODEL_f5398a10c0d84c4995148d4276dd5490"
       ],
       "layout": "IPY_MODEL_f25c7d86dc97477ba594e7761944654a"
      }
     },
     "a1461c339eec40de9044e60c5e207410": {
      "model_module": "@jupyter-widgets/base",
      "model_module_version": "1.2.0",
      "model_name": "LayoutModel",
      "state": {
       "grid_area": "description",
       "width": "auto"
      }
     },
     "a3eb58b52acd40f48e51bcaead5728b1": {
      "model_module": "@jupyter-widgets/controls",
      "model_module_version": "1.5.0",
      "model_name": "HBoxModel",
      "state": {
       "children": [
        "IPY_MODEL_40b25ccc670044678e32b7f4116bb209",
        "IPY_MODEL_421ac5906e1442ae95ed2db0526832c1"
       ],
       "layout": "IPY_MODEL_beea31b10a8a4e86ba213cd70b23f63a"
      }
     },
     "a5109c1cf9a94420bc38f1098c460500": {
      "model_module": "@jupyter-widgets/base",
      "model_module_version": "1.2.0",
      "model_name": "LayoutModel",
      "state": {
       "grid_area": "label",
       "width": "auto"
      }
     },
     "ae803fa0fb394c98a677887ff74893c5": {
      "model_module": "@jupyter-widgets/controls",
      "model_module_version": "1.5.0",
      "model_name": "DescriptionStyleModel",
      "state": {
       "description_width": ""
      }
     },
     "b01d2dcb546c4995adfe14fd049ab983": {
      "model_module": "@jupyter-widgets/base",
      "model_module_version": "1.2.0",
      "model_name": "LayoutModel",
      "state": {
       "grid_template_areas": "\n                    \"label input\"\n                    \". description\"\n                ",
       "grid_template_columns": "25% 75%",
       "grid_template_rows": "auto auto",
       "width": "100%"
      }
     },
     "b47795188bc144578a09fc1dc80b93b6": {
      "model_module": "@jupyter-widgets/controls",
      "model_module_version": "1.5.0",
      "model_name": "DescriptionStyleModel",
      "state": {
       "description_width": ""
      }
     },
     "b53883fb16fe4e20a1290267eab7eca6": {
      "model_module": "@jupyter-widgets/base",
      "model_module_version": "1.2.0",
      "model_name": "LayoutModel",
      "state": {
       "grid_area": "input",
       "width": "auto"
      }
     },
     "b78636616c0d414e825a8baabf683b9f": {
      "model_module": "@jupyter-widgets/controls",
      "model_module_version": "1.5.0",
      "model_name": "ComboboxModel",
      "state": {
       "_dom_classes": [
        "nbtools-menu-attached"
       ],
       "choices": {},
       "ensure_option": false,
       "kinds": [],
       "layout": "IPY_MODEL_51a7b5c765ca43969f666eebd9aa92a4",
       "style": "IPY_MODEL_b831f50af1654f2faef174470a778479"
      }
     },
     "b82f260447e545a1b5aba8e90fe4945d": {
      "model_module": "@jupyter-widgets/controls",
      "model_module_version": "1.5.0",
      "model_name": "ComboboxModel",
      "state": {
       "_dom_classes": [
        "nbtools-menu-attached"
       ],
       "choices": {},
       "ensure_option": false,
       "kinds": [],
       "layout": "IPY_MODEL_0e397d72e6c14335a99a00c7517049ac",
       "style": "IPY_MODEL_9894de6d32e442c4948a0d095fe98b7b"
      }
     },
     "b831f50af1654f2faef174470a778479": {
      "model_module": "@jupyter-widgets/controls",
      "model_module_version": "1.5.0",
      "model_name": "DescriptionStyleModel",
      "state": {
       "description_width": ""
      }
     },
     "b859d9448b1e441ebd0898649f0fa936": {
      "model_module": "@jupyter-widgets/controls",
      "model_module_version": "1.5.0",
      "model_name": "DescriptionStyleModel",
      "state": {
       "description_width": ""
      }
     },
     "b89fa145b0b14d069b4de00b8266eb00": {
      "model_module": "@jupyter-widgets/controls",
      "model_module_version": "1.5.0",
      "model_name": "GridBoxModel",
      "state": {
       "_dom_classes": [
        "nbtools-input",
        "nbtools-comboinput"
       ],
       "children": [
        "IPY_MODEL_0b36d493c5fa40ca88304222e23a044c",
        "IPY_MODEL_4b42d1fadcda425382302b1a65b01cf4",
        "IPY_MODEL_2200fc1264ca4dabaa012e96f01ee95d"
       ],
       "layout": "IPY_MODEL_717f4daa45b340089a2d08f0165df943"
      }
     },
     "ba4ddff2764148828e2c1ecd1d2b6d50": {
      "model_module": "@jupyter-widgets/controls",
      "model_module_version": "1.5.0",
      "model_name": "GridBoxModel",
      "state": {
       "_dom_classes": [
        "nbtools-input",
        "nbtools-comboinput"
       ],
       "children": [
        "IPY_MODEL_658403dcd0d9419baa7e8761eb6b57cf",
        "IPY_MODEL_6b4813c51b65492897018ebb86d4e90c",
        "IPY_MODEL_fab18e7e0e744f39b5abde8ec969671f"
       ],
       "layout": "IPY_MODEL_d1a1fec0b6994b67ac014b51310621ee"
      }
     },
     "ba94b6099bfd49f6bc1af7829b866cb6": {
      "model_module": "@jupyter-widgets/base",
      "model_module_version": "1.2.0",
      "model_name": "LayoutModel",
      "state": {
       "grid_area": "description",
       "width": "auto"
      }
     },
     "baf094c8cd324b898d15dee2d929fac8": {
      "model_module": "@jupyter-widgets/controls",
      "model_module_version": "1.5.0",
      "model_name": "TextModel",
      "state": {
       "_dom_classes": [
        "nbtools-menu-attached"
       ],
       "layout": "IPY_MODEL_42788bd01daa48ba9728e12b003e25f5",
       "style": "IPY_MODEL_73e09d0a38624602b33bf0e3a9ccd4d0"
      }
     },
     "be7be2e7f87a4094ba01f347ad19e2c0": {
      "model_module": "@jupyter-widgets/output",
      "model_module_version": "1.0.0",
      "model_name": "OutputModel",
      "state": {
       "layout": "IPY_MODEL_5f043c26bf504e95a3079b23d58bd458"
      }
     },
     "beea31b10a8a4e86ba213cd70b23f63a": {
      "model_module": "@jupyter-widgets/base",
      "model_module_version": "1.2.0",
      "model_name": "LayoutModel",
      "state": {
       "grid_area": "input",
       "width": "auto"
      }
     },
     "c0474d2625434cd280da915b47ee2547": {
      "model_module": "@jupyter-widgets/base",
      "model_module_version": "1.2.0",
      "model_name": "LayoutModel",
      "state": {
       "grid_area": "label",
       "width": "auto"
      }
     },
     "c21e6ec1930b43b199a291f75fae928e": {
      "model_module": "@jupyter-widgets/base",
      "model_module_version": "1.2.0",
      "model_name": "LayoutModel",
      "state": {
       "grid_area": "label",
       "width": "auto"
      }
     },
     "c319bb9fc0d7431ab992f5842e8df68f": {
      "model_module": "@jupyter-widgets/base",
      "model_module_version": "1.2.0",
      "model_name": "LayoutModel",
      "state": {}
     },
     "cc4bb7d561e24169aa75cb687c9887f9": {
      "model_module": "@jupyter-widgets/controls",
      "model_module_version": "1.5.0",
      "model_name": "DescriptionStyleModel",
      "state": {
       "description_width": ""
      }
     },
     "cc7c2dc94e9844198e8d09bd1dbc4d71": {
      "model_module": "@jupyter-widgets/base",
      "model_module_version": "1.2.0",
      "model_name": "LayoutModel",
      "state": {}
     },
     "cd1f48be149f48abaefe86ad37fcea20": {
      "model_module": "@jupyter-widgets/base",
      "model_module_version": "1.2.0",
      "model_name": "LayoutModel",
      "state": {
       "grid_area": "description",
       "width": "auto"
      }
     },
     "cd7e7d7017134a7c835973018c333d5b": {
      "model_module": "@jupyter-widgets/controls",
      "model_module_version": "1.5.0",
      "model_name": "LabelModel",
      "state": {
       "description": "tracks",
       "layout": "IPY_MODEL_2daa9c80af18499c94ba7c80859a3460",
       "style": "IPY_MODEL_11a2f4511d4442819b9397a19b73f7d2",
       "value": "tracks"
      }
     },
     "d02c5f048cf94650983f9e0337d8c925": {
      "model_module": "@jupyter-widgets/controls",
      "model_module_version": "1.5.0",
      "model_name": "VBoxModel",
      "state": {
       "children": [
        "IPY_MODEL_b82f260447e545a1b5aba8e90fe4945d",
        "IPY_MODEL_017412e1be2f4ad48bbb124e7ac83a2a"
       ],
       "layout": "IPY_MODEL_8ded322eafbc48b3b240b70c802d224b"
      }
     },
     "d1a1fec0b6994b67ac014b51310621ee": {
      "model_module": "@jupyter-widgets/base",
      "model_module_version": "1.2.0",
      "model_name": "LayoutModel",
      "state": {
       "grid_template_areas": "\n                    \"label input\"\n                    \". description\"\n                ",
       "grid_template_columns": "25% 75%",
       "grid_template_rows": "auto auto",
       "width": "100%"
      }
     },
     "dc1081f685da4cfcb5f55fcc9b3110c1": {
      "model_module": "@jupyter-widgets/base",
      "model_module_version": "1.2.0",
      "model_name": "LayoutModel",
      "state": {
       "grid_template_areas": "\n                    \"label input\"\n                    \". description\"\n                ",
       "grid_template_columns": "25% 75%",
       "grid_template_rows": "auto auto",
       "width": "100%"
      }
     },
     "dcaed20622774ca2911507b66e5f627d": {
      "model_module": "@jupyter-widgets/controls",
      "model_module_version": "1.5.0",
      "model_name": "TextModel",
      "state": {
       "_dom_classes": [
        "nbtools-menu-attached"
       ],
       "layout": "IPY_MODEL_e0f03386780b481e9b347cab4d25a360",
       "style": "IPY_MODEL_6efec6884c0e40a297878308cf6c7883"
      }
     },
     "de20452767cb45a484337881b52e3b24": {
      "model_module": "@jupyter-widgets/controls",
      "model_module_version": "1.5.0",
      "model_name": "ButtonModel",
      "state": {
       "_dom_classes": [
        "hidden"
       ],
       "description": "Run",
       "layout": "IPY_MODEL_cc7c2dc94e9844198e8d09bd1dbc4d71",
       "style": "IPY_MODEL_337a42afd72f44ec890869b2fce49eff"
      }
     },
     "e0f03386780b481e9b347cab4d25a360": {
      "model_module": "@jupyter-widgets/base",
      "model_module_version": "1.2.0",
      "model_name": "LayoutModel",
      "state": {
       "grid_area": "input",
       "width": "auto"
      }
     },
     "e3a00dfdc8a94875a9a37dcb87b6a17b": {
      "model_module": "@jupyter-widgets/controls",
      "model_module_version": "1.5.0",
      "model_name": "DescriptionStyleModel",
      "state": {
       "description_width": ""
      }
     },
     "e537132c83c34cfdb9b5bd3bd6d06917": {
      "model_module": "@jupyter-widgets/controls",
      "model_module_version": "1.5.0",
      "model_name": "DescriptionStyleModel",
      "state": {
       "description_width": ""
      }
     },
     "ebd68de8e9724a75b0efabb35115b1b6": {
      "model_module": "@jupyter-widgets/base",
      "model_module_version": "1.2.0",
      "model_name": "LayoutModel",
      "state": {}
     },
     "ec5b83a583384ca1b0784ef9691d363c": {
      "model_module": "@jupyter-widgets/controls",
      "model_module_version": "1.5.0",
      "model_name": "DescriptionStyleModel",
      "state": {
       "description_width": ""
      }
     },
     "ede341b8bf0041188f75236e8da54529": {
      "model_module": "@jupyter-widgets/controls",
      "model_module_version": "1.5.0",
      "model_name": "ButtonStyleModel",
      "state": {}
     },
     "ee0d567bafc34bf6bd3b637449862448": {
      "model_module": "@jupyter-widgets/controls",
      "model_module_version": "1.5.0",
      "model_name": "LabelModel",
      "state": {
       "description": "genome",
       "layout": "IPY_MODEL_c21e6ec1930b43b199a291f75fae928e",
       "style": "IPY_MODEL_9cad2a0aa9bd49cb8ce3e9b1d54cd5be",
       "value": "genome*"
      }
     },
     "f25c7d86dc97477ba594e7761944654a": {
      "model_module": "@jupyter-widgets/base",
      "model_module_version": "1.2.0",
      "model_name": "LayoutModel",
      "state": {
       "display": "none",
       "grid_template_areas": "\n                    \"label input\"\n                    \". description\"\n                ",
       "grid_template_columns": "25% 75%",
       "grid_template_rows": "auto auto",
       "width": "100%"
      }
     },
     "f28a3906b7ed447db314f671d1c42de6": {
      "model_module": "@jupyter-widgets/base",
      "model_module_version": "1.2.0",
      "model_name": "LayoutModel",
      "state": {
       "grid_template_areas": "\n                    \"label input\"\n                    \". description\"\n                ",
       "grid_template_columns": "25% 75%",
       "grid_template_rows": "auto auto",
       "width": "100%"
      }
     },
     "f3350dd407d948a9b4edc5933cc51885": {
      "model_module": "@genepattern/nbtools",
      "model_module_version": "^21.9.0-beta.1",
      "model_name": "UIBuilderModel",
      "state": {
       "_model_module_version": "^21.9.0-beta.1",
       "_parameters": [
        {
         "choices": {
          "Bonobo (MPI-EVA panpan1.1/panPan2)": "panPan2",
          "C. elegans (ce11)": "ce11",
          "Chimp (SAC 2.1.4/panTro4)": "panTro4",
          "Cow (UMD_3.1.1/bosTau8)": "bosTau8",
          "D. melanogaster (dm6)": "dm6",
          "Dog (Broad CanFam3.1/canFam3)": "canFam3",
          "Gorilla (gorGor4.1/gorGor4)": "gorGor4",
          "Human (CRCh37/hg19)": "hg19",
          "Human (GRCh38/hg38)": "hg38",
          "Human (hg18)": "hg18",
          "Mouse (GRCm38/mm10)": "mm10",
          "Pig (SGSC Sscrofa11.1/susScr11)": "susScr11",
          "Rat (RGCS 6.0/rn6)": "rn6",
          "S. cerevisiae (sacCer3)": "sacCer3",
          "Zebrafish (GRCZ10/danRer10)": "danRer10",
          "Zebrafish (GRCZ11/danRer11)": "danRer11"
         },
         "combo": true,
         "default": "hg38",
         "description": "Choose the genome for your data.",
         "events": null,
         "hide": false,
         "id": null,
         "kinds": null,
         "label": "genome",
         "name": "genome",
         "optional": false,
         "sendto": false,
         "type": "choice",
         "value": ""
        },
        {
         "choices": {},
         "default": "",
         "description": "Enter the URL to the track dataset(s)",
         "events": null,
         "hide": false,
         "id": null,
         "kinds": null,
         "label": "tracks",
         "maximum": 100,
         "name": "tracks",
         "optional": true,
         "type": "file",
         "value": "None"
        },
        {
         "choices": {},
         "default": "",
         "description": "Enter the URL to the index files that correspond to each track",
         "events": null,
         "hide": false,
         "id": null,
         "kinds": null,
         "label": "indices",
         "maximum": 100,
         "name": "indices",
         "optional": true,
         "type": "file",
         "value": "None"
        },
        {
         "choices": {
          "": "",
          "bam": "bam",
          "bb": "bb",
          "bed": "bed",
          "bedgraph": "bedgraph",
          "bedpe": "bedpe",
          "bedpe-loop": "bedpe-loop",
          "bigbed": "bigbed",
          "bigwig": "bigwig",
          "bp": "bp",
          "bw": "bw",
          "cram": "cram",
          "gwas": "gwas",
          "mut": "mut",
          "seg": "seg",
          "tdf": "tdf",
          "vcf": "vcf",
          "wig": "wig"
         },
         "combo": true,
         "default": "",
         "description": "Enter the format of the track datasets",
         "events": null,
         "hide": false,
         "id": null,
         "kinds": null,
         "label": "track format",
         "name": "track_format",
         "optional": true,
         "type": "choice",
         "value": "None"
        },
        {
         "choices": {
          "": "",
          "alignment": "alignment",
          "annotation": "annotation",
          "arc": "arc",
          "bedtype": "bedtype",
          "gwas": "gwas",
          "interaction": "interaction",
          "mut": "mut",
          "seg": "seg",
          "variant": "variant",
          "wig": "wig"
         },
         "combo": true,
         "default": "",
         "description": "Enter the type of the track datasets",
         "events": null,
         "hide": false,
         "id": null,
         "kinds": null,
         "label": "track type",
         "name": "track_type",
         "optional": true,
         "type": "choice",
         "value": "None"
        },
        {
         "choices": {},
         "default": "",
         "description": "Provide a locus or gene of interest for your data",
         "events": null,
         "hide": false,
         "id": null,
         "kinds": null,
         "label": "locus",
         "name": "locus",
         "optional": true,
         "type": "text",
         "value": "None"
        },
        {
         "choices": {},
         "default": "",
         "description": "",
         "events": null,
         "hide": true,
         "id": null,
         "kinds": null,
         "label": "output variable",
         "name": "output_var",
         "optional": true,
         "type": "text",
         "value": ""
        }
       ],
       "_view_module_version": "^21.9.0-beta.1",
       "description": "Use igv.js to embed an interactive genome visualization",
       "form": "IPY_MODEL_52af3d229dfd4ceab823fcedd8d35dbe",
       "layout": "IPY_MODEL_178993e75abc4c23aede1bb7287fe427",
       "logo": "http://igv.org/web/img/favicon.ico",
       "name": "igv.js: Integrative Genomics Viewer",
       "origin": "igv",
       "output": "IPY_MODEL_be7be2e7f87a4094ba01f347ad19e2c0",
       "output_var": "",
       "run_label": "Visualize"
      }
     },
     "f5398a10c0d84c4995148d4276dd5490": {
      "model_module": "@jupyter-widgets/controls",
      "model_module_version": "1.5.0",
      "model_name": "LabelModel",
      "state": {
       "layout": "IPY_MODEL_02668c6bac60409e95205381e6a023ec",
       "style": "IPY_MODEL_1f1d0606154b4313962c4e76e278e723"
      }
     },
     "f8282cd0c271441ab56644b1907a2d20": {
      "model_module": "@jupyter-widgets/output",
      "model_module_version": "1.0.0",
      "model_name": "OutputModel",
      "state": {
       "layout": "IPY_MODEL_c319bb9fc0d7431ab992f5842e8df68f"
      }
     },
     "f9adf42462ba4a5f9d3faf5261ff7f33": {
      "model_module": "@jupyter-widgets/base",
      "model_module_version": "1.2.0",
      "model_name": "LayoutModel",
      "state": {
       "grid_area": "input",
       "width": "auto"
      }
     },
     "fa01e71f07f540149f2dc79b2950431e": {
      "model_module": "@jupyter-widgets/base",
      "model_module_version": "1.2.0",
      "model_name": "LayoutModel",
      "state": {
       "grid_area": "description",
       "width": "auto"
      }
     },
     "fa61647199064008b63b499d984884ef": {
      "model_module": "@jupyter-widgets/controls",
      "model_module_version": "1.5.0",
      "model_name": "LabelModel",
      "state": {
       "description": "locus",
       "layout": "IPY_MODEL_123c13182b4e44cc9ac7e5b86cd21401",
       "style": "IPY_MODEL_917fb1a20b054f16a6fad5c80f982ddf",
       "value": "locus"
      }
     },
     "fab18e7e0e744f39b5abde8ec969671f": {
      "model_module": "@jupyter-widgets/controls",
      "model_module_version": "1.5.0",
      "model_name": "LabelModel",
      "state": {
       "description": "Enter the format of the track datasets",
       "layout": "IPY_MODEL_cd1f48be149f48abaefe86ad37fcea20",
       "style": "IPY_MODEL_58923c2b5e3c49e4b901b28a9695c625",
       "value": "Enter the format of the track datasets"
      }
     }
    },
    "version_major": 2,
    "version_minor": 0
   }
  }
 },
 "nbformat": 4,
 "nbformat_minor": 5
}
