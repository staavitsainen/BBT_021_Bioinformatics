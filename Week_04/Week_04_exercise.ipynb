{
 "cells": [
  {
   "cell_type": "markdown",
   "id": "6e5ae735-b166-4434-98d0-7f60ea117637",
   "metadata": {},
   "source": [
    "# Week 4 computer exercises"
   ]
  },
  {
   "cell_type": "markdown",
   "id": "e58bc98f-16bb-4012-8a86-92a0e082f2fb",
   "metadata": {},
   "source": [
    "In week 2, we learned that sequencing reads are stored in `FASTQ` files. During this week's lecture, we learned that, typically, the results of sequencing read alignment to a reference genome (e.g., the human reference genome) are stored in a Sequence Alignment/Map `SAM` file. In this exercise, we learn about this format and use JupyterLab's *Terminal* as well as some Unix/Linux commands to inspect a SAM file (i.e., `ezh2.sam` that can be found in the `~/BBT_021_Bioinformatics/Week_04/` directory)."
   ]
  },
  {
   "cell_type": "markdown",
   "id": "7077ebd1-2768-49dc-aba9-df1d03bfe272",
   "metadata": {},
   "source": [
    "## Learning about the SAM file format"
   ]
  },
  {
   "cell_type": "markdown",
   "id": "0f726cf3-02e1-4504-86bc-28b81eba5216",
   "metadata": {},
   "source": [
    "The best way to learn about the SAM file format is to read the *Sequence Alignment/Map Format Specification* that is available [here](https://samtools.github.io/hts-specs/SAMv1.pdf). But since this document is a bit complex for our purposes, we will use [this](https://en.wikipedia.org/wiki/SAM_(file_format)) Wikipedia entry about the SAM file format instead.\n",
    "\n",
    "We first read the Wikipedia entry about the SAM file format and answer the related questions in the quiz (**note**. You can skip reading the *Optional fields* section)."
   ]
  },
  {
   "cell_type": "markdown",
   "id": "d098448f-45ee-4d0a-b947-3df020e67e8e",
   "metadata": {},
   "source": [
    "## Inspecting a SAM file"
   ]
  },
  {
   "cell_type": "markdown",
   "id": "d7d1c6c4-13f4-4836-a768-1e08583acc5b",
   "metadata": {},
   "source": [
    "- Open a *Terminal* in the JupyterLab (e.g., via `File > New > Terminal`). \n",
    "\n",
    "- In the *Terminal*, use the `cd` command to move to the `Week_04` directory. Remember that you can use either an **absolute path** (i.e., `cd /home/jovyan/BBT_021_Bioinformatics/Week_04/`) or a **relative path** (i.e., `cd ~/BBT_021_Bioinformatics/Week_04/`) to reach this directory.\n",
    "\n",
    "- List the content of this directory using `ls -lh`. You should be able to see `ezh2.sam` file in this directory. We will inspect the contents of this SAM file. \n",
    "\n",
    "- We already have learned that SAM files are text-based file formats, thus we can print their content to the *Terminal* and be able to read and understand them. Use `head -n5` to print the first `5` lines in the `ezh2.sam` file. We can see that all these `5` lines start with `@`. We learned that these lines are part of the SAM **header**.\n",
    "\n",
    "- The second line in the output of the `head` command we just used looks like this:   \n",
    "`@SQ     SN:1    LN:249250621`  \n",
    "The `SQ` tells that on this line some information about a *reference sequence* (which often is a chromosome) is stored. `SN` tells the *reference sequence name* and `LN` tells about the length of the reference sequence on that line. For example, the line above tells that the length of chromosome `1` is `249250621`."
   ]
  },
  {
   "cell_type": "markdown",
   "id": "8c997802-09dd-4287-9e2c-45ce5d84baf0",
   "metadata": {},
   "source": [
    "One handy Unix/Linux command in bioinformatics is `grep`. This command prints lines in a file that **match** a given **pattern**. For example, to look for `SN:` pattern, we can run `grep \"SN:\" ezh2.sam` in the *Terminal* (the pattern is enclosed between double quotation marks). Run this command and inspect the output (**NOTE**. Ensure that you are currently in the correct directory, or specify the correct file path when using `grep` to inspect the file.). \n",
    "\n",
    "Next, update the pattern in this command (i.e., `grep \"SN:\" ezh2.sam`) to find the length of chromosome `Y` (use the result to answer one of the quiz questions). **Note** that by default `grep` is *case sensitive* and the *case* of the pattern matters which means that the pattern `\"SN:\"` is different from `\"sn:\"`. Also **note** that the length you get here for chromosome `Y` is dependent on the reference sequence that was used for alignment."
   ]
  },
  {
   "cell_type": "markdown",
   "id": "646e1a11-e588-4e75-8e36-932729b65ac6",
   "metadata": {},
   "source": [
    "The `grep` command has a few handy command-line options. One of which is `-v` which tells `grep` to print lines that are not matching the pattern ([see the explanation here](https://explainshell.com/explain?cmd=grep+-v)).\n",
    "\n",
    "For example, if we type and execute this command `grep -v \"^@\" ezh2.sam`, it prints all lines that does **not start with** the `@` sign which means **it prints only alignment lines**. Here, `^` tells `grep` to only look for lines that **start with the pattern** we are looking. Here is another way to think about this: first, `grep` finds all the lines that start with the pattern but since the `-v` command-line option is present, it inverts the results and prints all other lines meaning the lines that do not start with the pattern.  \n",
    "\n",
    "**Note** that in this course it is enough to know that there are such Unix/Linux commands and we can use them to help us in our bioinformatics work. We will learn more about these e.g., in our university's master's degree bioinformatics courses (if you are interested to learn more about these check [this](https://en.wikipedia.org/wiki/Regular_expression) Wikipedia Entry about **regular expressions** and [this](https://en.wikipedia.org/wiki/Regular_expression#POSIX_basic_and_extended) section to learn about characters other than `^`)."
   ]
  },
  {
   "cell_type": "markdown",
   "id": "71fb2c0f-fda6-4c0c-a4b5-f544235b23ed",
   "metadata": {},
   "source": [
    "You might have noticed that if you run `grep -v \"^@\" ezh2.sam` in the *Terminal*, it gets flooded with all alignment lines. In this toy SAM file, we only have 20 alignment lines. This would get out of hand if we had tens of millions of lines in our SAM file which is normal as we learned that high-throughput sequencers generate millions of lines.\n",
    "\n",
    "One handy **trick** that we can use here is to give the output of `grep -v \"^@\" ezh2.sam` to another command, for example, `head` and `head` would use it as its input. We can do this by using a `|` sign which called a **pipe** (this is a metaphor from plumbing where water from one pipe can be transferred to another pipe using a pipe fitting).\n",
    "\n",
    "Let's say that we are interested to only inspect the **first** line in the alignment section of the `ezh2.sam` file. We can run `grep -v \"^@\" ezh2.sam | head -n1` in the *Terminal* to get it.\n",
    "\n",
    "Now, that we have the first line in the *Terminal*, let's inspect it and also use what we learned by reading the Wikipedia entry about SAM file format and answer questions in this week's assignment quiz (please check the questions in the Moodle). \n",
    "\n",
    "**Note** that the fields/columns in this line are separated by a tab (a tab is often equivalent to 4 spaces). As it may be diffcult to keep track of the column numbers, we can pipe the output of `grep -v \"^@\" ezh2.sam | head -n1` to `tr` tools like this: `grep -v \"^@\" ezh2.sam | head -n1 | tr \"\\t\" \"\\n\"`. `tr` is short for translate and what `tr \"\\t\" \"\\n\"` does is that every time it sees a tab (i.e., \"\\t\"), it replaces it with a new line (i.e., \"\\n\"). This way it may be easier to go through the columns as every column now starts on a new line."
   ]
  },
  {
   "cell_type": "markdown",
   "id": "fe5bea4c-dd79-4ae9-806d-eecafe1f8c2d",
   "metadata": {},
   "source": [
    "Note that normally, most of the time, we work with **BAM** files instead of **SAM** files because they use less storage space. In that case, we need to use `samtools` to be able inspect the content of a BAM file. We did not use `samtools` here, but in our master's courses, we get plenty of chances to work with `samtools`."
   ]
  },
  {
   "cell_type": "markdown",
   "id": "b9606f76-b151-4356-824d-a8d1b2ea3963",
   "metadata": {},
   "source": [
    " "
   ]
  },
  {
   "cell_type": "markdown",
   "id": "384f1cd7-b0fc-440e-ae8f-f69dce6da16b",
   "metadata": {},
   "source": [
    " "
   ]
  },
  {
   "cell_type": "markdown",
   "id": "6fcbaac9-26b1-4708-b88e-487d7763c394",
   "metadata": {},
   "source": [
    " "
   ]
  },
  {
   "cell_type": "markdown",
   "id": "366d4558-f5c4-4d35-98df-bbe35dfc68fa",
   "metadata": {},
   "source": [
    "### Using Python to inspect SAM/BAM files"
   ]
  },
  {
   "cell_type": "markdown",
   "id": "1ef098ff",
   "metadata": {},
   "source": [
    "Here, we see how we can use a Python package called [pysam](https://pysam.readthedocs.io/en/latest/index.html) to interact with SAM/BAM files.\n",
    "\n",
    "It can be used: \n",
    ">to read and manipulate mapped short read sequence data stored in SAM/BAM files."
   ]
  },
  {
   "cell_type": "markdown",
   "id": "8e9c88dc-7dd2-4e8f-8964-2a0520992157",
   "metadata": {},
   "source": [
    "`pysam` can be installed e.g., by using the following command. It may take around 5-10 minutes for the installation to complete."
   ]
  },
  {
   "cell_type": "code",
   "execution_count": null,
   "id": "959fe6e7-8580-41dd-8c27-159c59870bcb",
   "metadata": {},
   "outputs": [],
   "source": [
    "pip install pysam"
   ]
  },
  {
   "cell_type": "markdown",
   "id": "688f7f0e-3e6b-472c-883c-262fa06e81c1",
   "metadata": {},
   "source": [
    "You can read [this usage page](https://pysam.readthedocs.io/en/latest/usage.html) to get started with using `pysam`."
   ]
  },
  {
   "cell_type": "markdown",
   "id": "f5f33eda-44d7-4665-8905-a098675df0f8",
   "metadata": {},
   "source": [
    "The following cell, loads `pysam`, opens our `ezh2.sam` file and fetches the **first aligned read** from the SAM file and assign it to a variable called `read` and closes the file handle (since here we are interested in the first alignment line in the file, we close the file after we have fetched the alignment line)."
   ]
  },
  {
   "cell_type": "code",
   "execution_count": null,
   "id": "ea741682-5a06-4083-8884-919cea6efbeb",
   "metadata": {},
   "outputs": [],
   "source": [
    "import pysam\n",
    "sam_file = pysam.AlignmentFile(\"/home/jovyan/BBT_021_Bioinformatics/Week_04/ezh2.sam\", \"r\")\n",
    "read = next(sam_file.fetch())\n",
    "sam_file.close()"
   ]
  },
  {
   "cell_type": "markdown",
   "id": "c1e08b16-54d2-4ef5-ae94-72879f9e60d8",
   "metadata": {},
   "source": [
    "Now, we can use the following to access each of the fields/columns of the first line (please read the [pysam's documentation](https://pysam.readthedocs.io/en/latest/api.html) for more).\n",
    "\n",
    "**Note**. Use the following results to answer one of the quiz questions."
   ]
  },
  {
   "cell_type": "code",
   "execution_count": null,
   "id": "af16aa34-3963-4cc6-90d2-8527049383c5",
   "metadata": {},
   "outputs": [],
   "source": [
    "read.query_name"
   ]
  },
  {
   "cell_type": "code",
   "execution_count": null,
   "id": "f77cac4a-7d9a-4469-a53a-c63373f4b599",
   "metadata": {},
   "outputs": [],
   "source": [
    "read.query_sequence"
   ]
  },
  {
   "cell_type": "code",
   "execution_count": null,
   "id": "efff16e5-8f1d-4a14-81e2-20a1c7257fcc",
   "metadata": {},
   "outputs": [],
   "source": [
    "read.flag"
   ]
  },
  {
   "cell_type": "markdown",
   "id": "e29343df-de12-444e-984a-aeddeb8d85e5",
   "metadata": {},
   "source": [
    "This concludes our brief demo on how to inspect a SAM/BAM file using Python! We can do much more than we covered here! Please read the pysam's documentation for more information."
   ]
  },
  {
   "cell_type": "markdown",
   "id": "3e0ac15a",
   "metadata": {},
   "source": [
    "---\n",
    "\n",
    "This concludes the exercise session for this week. Way to go! 👏 \n",
    "\n",
    "Once you are done, remember to save your work, close the notebook and the *Terminal*, and go to `Running Terminals and Kernels` in the left sidebar and, shut down the kernels as well as the terminals. "
   ]
  },
  {
   "cell_type": "code",
   "execution_count": null,
   "id": "f3fbe5a4",
   "metadata": {},
   "outputs": [],
   "source": []
  }
 ],
 "metadata": {
  "kernelspec": {
   "display_name": "Python 3 (ipykernel)",
   "language": "python",
   "name": "python3"
  },
  "language_info": {
   "codemirror_mode": {
    "name": "ipython",
    "version": 3
   },
   "file_extension": ".py",
   "mimetype": "text/x-python",
   "name": "python",
   "nbconvert_exporter": "python",
   "pygments_lexer": "ipython3",
   "version": "3.12.5"
  },
  "widgets": {
   "application/vnd.jupyter.widget-state+json": {
    "state": {
     "0714b1d9b89a43f5934036f5fbdee5a9": {
      "model_module": "@genepattern/nbtools",
      "model_module_version": "^21.9.0-beta.1",
      "model_name": "UIBuilderModel",
      "state": {
       "_model_module_version": "^21.9.0-beta.1",
       "_parameters": [
        {
         "choices": {
          "Bonobo (MPI-EVA panpan1.1/panPan2)": "panPan2",
          "C. elegans (ce11)": "ce11",
          "Chimp (SAC 2.1.4/panTro4)": "panTro4",
          "Cow (UMD_3.1.1/bosTau8)": "bosTau8",
          "D. melanogaster (dm6)": "dm6",
          "Dog (Broad CanFam3.1/canFam3)": "canFam3",
          "Gorilla (gorGor4.1/gorGor4)": "gorGor4",
          "Human (CRCh37/hg19)": "hg19",
          "Human (GRCh38/hg38)": "hg38",
          "Human (hg18)": "hg18",
          "Mouse (GRCm38/mm10)": "mm10",
          "Pig (SGSC Sscrofa11.1/susScr11)": "susScr11",
          "Rat (RGCS 6.0/rn6)": "rn6",
          "S. cerevisiae (sacCer3)": "sacCer3",
          "Zebrafish (GRCZ10/danRer10)": "danRer10",
          "Zebrafish (GRCZ11/danRer11)": "danRer11"
         },
         "combo": true,
         "default": "hg38",
         "description": "Choose the genome for your data.",
         "events": null,
         "hide": false,
         "id": null,
         "kinds": null,
         "label": "genome",
         "name": "genome",
         "optional": false,
         "sendto": false,
         "type": "choice",
         "value": ""
        },
        {
         "choices": {},
         "default": "",
         "description": "Enter the URL to the track dataset(s)",
         "events": null,
         "hide": false,
         "id": null,
         "kinds": null,
         "label": "tracks",
         "maximum": 100,
         "name": "tracks",
         "optional": true,
         "type": "file",
         "value": "None"
        },
        {
         "choices": {},
         "default": "",
         "description": "Enter the URL to the index files that correspond to each track",
         "events": null,
         "hide": false,
         "id": null,
         "kinds": null,
         "label": "indices",
         "maximum": 100,
         "name": "indices",
         "optional": true,
         "type": "file",
         "value": "None"
        },
        {
         "choices": {
          "": "",
          "bam": "bam",
          "bb": "bb",
          "bed": "bed",
          "bedgraph": "bedgraph",
          "bedpe": "bedpe",
          "bedpe-loop": "bedpe-loop",
          "bigbed": "bigbed",
          "bigwig": "bigwig",
          "bp": "bp",
          "bw": "bw",
          "cram": "cram",
          "gwas": "gwas",
          "mut": "mut",
          "seg": "seg",
          "tdf": "tdf",
          "vcf": "vcf",
          "wig": "wig"
         },
         "combo": true,
         "default": "",
         "description": "Enter the format of the track datasets",
         "events": null,
         "hide": false,
         "id": null,
         "kinds": null,
         "label": "track format",
         "name": "track_format",
         "optional": true,
         "type": "choice",
         "value": "None"
        },
        {
         "choices": {
          "": "",
          "alignment": "alignment",
          "annotation": "annotation",
          "arc": "arc",
          "bedtype": "bedtype",
          "gwas": "gwas",
          "interaction": "interaction",
          "mut": "mut",
          "seg": "seg",
          "variant": "variant",
          "wig": "wig"
         },
         "combo": true,
         "default": "",
         "description": "Enter the type of the track datasets",
         "events": null,
         "hide": false,
         "id": null,
         "kinds": null,
         "label": "track type",
         "name": "track_type",
         "optional": true,
         "type": "choice",
         "value": "None"
        },
        {
         "choices": {},
         "default": "",
         "description": "Provide a locus or gene of interest for your data",
         "events": null,
         "hide": false,
         "id": null,
         "kinds": null,
         "label": "locus",
         "name": "locus",
         "optional": true,
         "type": "text",
         "value": "None"
        },
        {
         "choices": {},
         "default": "",
         "description": "",
         "events": null,
         "hide": true,
         "id": null,
         "kinds": null,
         "label": "output variable",
         "name": "output_var",
         "optional": true,
         "type": "text",
         "value": ""
        }
       ],
       "_view_module_version": "^21.9.0-beta.1",
       "description": "Use igv.js to embed an interactive genome visualization",
       "form": "IPY_MODEL_98efabf6cc6c437384eb84788d16f0f0",
       "layout": "IPY_MODEL_ea0ab829b25e4b8a87b04f247cdabee7",
       "logo": "http://igv.org/web/img/favicon.ico",
       "name": "igv.js: Integrative Genomics Viewer",
       "origin": "igv",
       "output": "IPY_MODEL_0759c9c69eea4257abff45c6ff87ff9d",
       "output_var": "",
       "run_label": "Visualize"
      }
     },
     "0759c9c69eea4257abff45c6ff87ff9d": {
      "model_module": "@jupyter-widgets/output",
      "model_module_version": "1.0.0",
      "model_name": "OutputModel",
      "state": {
       "layout": "IPY_MODEL_2545921ab57549ca9eaa79d0331a234b"
      }
     },
     "08e7640f2c9a414383e41f2c7b2ab46c": {
      "model_module": "@jupyter-widgets/base",
      "model_module_version": "1.2.0",
      "model_name": "LayoutModel",
      "state": {
       "grid_area": "description",
       "width": "auto"
      }
     },
     "09156a9872504270a59df3b9ebc6417c": {
      "model_module": "@jupyter-widgets/base",
      "model_module_version": "1.2.0",
      "model_name": "LayoutModel",
      "state": {}
     },
     "0f0ea5266785446aad315856b6e44b46": {
      "model_module": "@jupyter-widgets/base",
      "model_module_version": "1.2.0",
      "model_name": "LayoutModel",
      "state": {}
     },
     "0f24f88e8483461fbe416959bb7119f6": {
      "model_module": "@jupyter-widgets/base",
      "model_module_version": "1.2.0",
      "model_name": "LayoutModel",
      "state": {
       "grid_area": "label",
       "width": "auto"
      }
     },
     "0febde0484df43558234cf7593548e75": {
      "model_module": "@jupyter-widgets/base",
      "model_module_version": "1.2.0",
      "model_name": "LayoutModel",
      "state": {}
     },
     "1049fd6a5a114ae79ff6bb19be919b83": {
      "model_module": "@jupyter-widgets/base",
      "model_module_version": "1.2.0",
      "model_name": "LayoutModel",
      "state": {
       "grid_template_areas": "\n                    \"label input\"\n                    \". description\"\n                ",
       "grid_template_columns": "25% 75%",
       "grid_template_rows": "auto auto",
       "width": "100%"
      }
     },
     "12bac5a460a64d7e87a51566f23b6d15": {
      "model_module": "@jupyter-widgets/controls",
      "model_module_version": "1.5.0",
      "model_name": "DescriptionStyleModel",
      "state": {
       "description_width": ""
      }
     },
     "16d29b8ced664b5683239f9e0393992b": {
      "model_module": "@jupyter-widgets/output",
      "model_module_version": "1.0.0",
      "model_name": "OutputModel",
      "state": {
       "layout": "IPY_MODEL_f5d6b8c5d2444962b3e7152eca728c70"
      }
     },
     "1a38836c71c24d17a1aa7205b9d85aba": {
      "model_module": "@jupyter-widgets/base",
      "model_module_version": "1.2.0",
      "model_name": "LayoutModel",
      "state": {
       "grid_area": "input",
       "width": "auto"
      }
     },
     "1c5a39327e5c4318834f48d239b3f439": {
      "model_module": "@jupyter-widgets/controls",
      "model_module_version": "1.5.0",
      "model_name": "FileUploadModel",
      "state": {
       "description_tooltip": null,
       "layout": "IPY_MODEL_09156a9872504270a59df3b9ebc6417c",
       "style": "IPY_MODEL_e3dbdd99a77d47b7958b7ad5e1fb1e24"
      }
     },
     "1cec14c3392647f4b35b7b3b7201cc99": {
      "model_module": "@jupyter-widgets/controls",
      "model_module_version": "1.5.0",
      "model_name": "ComboboxModel",
      "state": {
       "_dom_classes": [
        "nbtools-menu-attached"
       ],
       "choices": {},
       "ensure_option": false,
       "kinds": [],
       "layout": "IPY_MODEL_5875af967a034c739a7ef56341a30ab4",
       "style": "IPY_MODEL_73aad078ab674413ac703405f891da2a"
      }
     },
     "1d8453b1cfbc46978765462158c86fa6": {
      "model_module": "@jupyter-widgets/controls",
      "model_module_version": "1.5.0",
      "model_name": "FileUploadModel",
      "state": {
       "description_tooltip": null,
       "layout": "IPY_MODEL_884c76f0076f43c8aa2cd319176e86da",
       "style": "IPY_MODEL_6b7e1fdcb43a4bbda54d66c07686b6f2"
      }
     },
     "2447025b417547a4bac6a73f67594315": {
      "model_module": "@jupyter-widgets/controls",
      "model_module_version": "1.5.0",
      "model_name": "HBoxModel",
      "state": {
       "children": [
        "IPY_MODEL_1c5a39327e5c4318834f48d239b3f439",
        "IPY_MODEL_7a61736626fa423db07f9614926d5041"
       ],
       "layout": "IPY_MODEL_1a38836c71c24d17a1aa7205b9d85aba"
      }
     },
     "2545921ab57549ca9eaa79d0331a234b": {
      "model_module": "@jupyter-widgets/base",
      "model_module_version": "1.2.0",
      "model_name": "LayoutModel",
      "state": {}
     },
     "259cc6d30fec468bb04c603e61630514": {
      "model_module": "@jupyter-widgets/controls",
      "model_module_version": "1.5.0",
      "model_name": "LabelModel",
      "state": {
       "description": "track format",
       "layout": "IPY_MODEL_8dcf18c0c1bc4f20a0b131ca2efe1bd2",
       "style": "IPY_MODEL_f0cec9db00984b349364f05fd8c9ad72",
       "value": "track format"
      }
     },
     "2766170c146a4210a488f851284bf9f1": {
      "model_module": "@jupyter-widgets/controls",
      "model_module_version": "1.5.0",
      "model_name": "GridBoxModel",
      "state": {
       "_dom_classes": [
        "nbtools-input",
        "nbtools-textinput"
       ],
       "children": [
        "IPY_MODEL_9d2b0b37541a4a8c9b86f9974add9521",
        "IPY_MODEL_79280c2fafa04696b6bbd1185e55ba7c",
        "IPY_MODEL_bdff4152416e4e2c93b2cd39348352fb"
       ],
       "layout": "IPY_MODEL_8666238200a341c994b14d3d23b9921e"
      }
     },
     "2a8f713b5f784cfcbab035f0137632c5": {
      "model_module": "@jupyter-widgets/base",
      "model_module_version": "1.2.0",
      "model_name": "LayoutModel",
      "state": {
       "grid_area": "description",
       "width": "auto"
      }
     },
     "2e7d4d227577455e816cf815c006fee2": {
      "model_module": "@jupyter-widgets/controls",
      "model_module_version": "1.5.0",
      "model_name": "DescriptionStyleModel",
      "state": {
       "description_width": ""
      }
     },
     "3188a10e3574485ca9a9bff44a2e477f": {
      "model_module": "@jupyter-widgets/controls",
      "model_module_version": "1.5.0",
      "model_name": "GridBoxModel",
      "state": {
       "_dom_classes": [
        "nbtools-input",
        "nbtools-comboinput"
       ],
       "children": [
        "IPY_MODEL_259cc6d30fec468bb04c603e61630514",
        "IPY_MODEL_7920bd97dab64b4eb25acc1839ed3579",
        "IPY_MODEL_821e6cf156c14bfaabade03d01680ce8"
       ],
       "layout": "IPY_MODEL_591abeec3c4045a2b051f8a82e45ff62"
      }
     },
     "35d9cdc76e634b1d8f1f5c4c9d67c289": {
      "model_module": "@jupyter-widgets/controls",
      "model_module_version": "1.5.0",
      "model_name": "DescriptionStyleModel",
      "state": {
       "description_width": ""
      }
     },
     "37b1a70616bf4bbaad8d3e91775ebe1c": {
      "model_module": "@jupyter-widgets/base",
      "model_module_version": "1.2.0",
      "model_name": "LayoutModel",
      "state": {}
     },
     "3881f33b19ba4163b7d80f946efc5134": {
      "model_module": "@jupyter-widgets/controls",
      "model_module_version": "1.5.0",
      "model_name": "DescriptionStyleModel",
      "state": {
       "description_width": ""
      }
     },
     "3b9a67228b62448495d21628ef6d3f1f": {
      "model_module": "@jupyter-widgets/controls",
      "model_module_version": "1.5.0",
      "model_name": "DescriptionStyleModel",
      "state": {
       "description_width": ""
      }
     },
     "3c3ee6123a644bc98f617fb13683243b": {
      "model_module": "@jupyter-widgets/controls",
      "model_module_version": "1.5.0",
      "model_name": "ButtonStyleModel",
      "state": {}
     },
     "3da4685927da4af3aed911b8d6f9e117": {
      "model_module": "@jupyter-widgets/controls",
      "model_module_version": "1.5.0",
      "model_name": "ComboboxModel",
      "state": {
       "_dom_classes": [
        "nbtools-menu-attached"
       ],
       "choices": {},
       "ensure_option": false,
       "kinds": [],
       "layout": "IPY_MODEL_6eb0462a99ae4b22b4b3c7b6fb915a79",
       "style": "IPY_MODEL_445bdc4cbe684a58ae1a20da05b7530c"
      }
     },
     "41587eb3b3354839937f8251c7fc4bea": {
      "model_module": "@jupyter-widgets/base",
      "model_module_version": "1.2.0",
      "model_name": "LayoutModel",
      "state": {
       "grid_template_areas": "\n                    \"label input\"\n                    \". description\"\n                ",
       "grid_template_columns": "25% 75%",
       "grid_template_rows": "auto auto",
       "width": "100%"
      }
     },
     "417a9ff0f7204076952f61cf4d72069a": {
      "model_module": "@jupyter-widgets/controls",
      "model_module_version": "1.5.0",
      "model_name": "LabelModel",
      "state": {
       "description": "Provide a locus or gene of interest for your data",
       "layout": "IPY_MODEL_ece99f1966974cf982da8acf972317c9",
       "style": "IPY_MODEL_ae429fa42f104390ab0c19cb5d456a47",
       "value": "Provide a locus or gene of interest for your data"
      }
     },
     "445bdc4cbe684a58ae1a20da05b7530c": {
      "model_module": "@jupyter-widgets/controls",
      "model_module_version": "1.5.0",
      "model_name": "DescriptionStyleModel",
      "state": {
       "description_width": ""
      }
     },
     "45894c3b49d74ddf844ebbccadb691b4": {
      "model_module": "@jupyter-widgets/controls",
      "model_module_version": "1.5.0",
      "model_name": "HBoxModel",
      "state": {
       "children": [
        "IPY_MODEL_1d8453b1cfbc46978765462158c86fa6",
        "IPY_MODEL_a32bba84a9754d00b45a936347ab8952"
       ],
       "layout": "IPY_MODEL_9c39c5e3845242b2bc04eadb24f42eb4"
      }
     },
     "45f5e070408f47119e2c6605afee3320": {
      "model_module": "@jupyter-widgets/base",
      "model_module_version": "1.2.0",
      "model_name": "LayoutModel",
      "state": {
       "grid_template_areas": "\n                    \"label input\"\n                    \". description\"\n                ",
       "grid_template_columns": "25% 75%",
       "grid_template_rows": "auto auto",
       "width": "100%"
      }
     },
     "48a27c3a8a8c4c5a9c37a5af6e878084": {
      "model_module": "@jupyter-widgets/base",
      "model_module_version": "1.2.0",
      "model_name": "LayoutModel",
      "state": {
       "grid_template_areas": "\n                    \"label input\"\n                    \". description\"\n                ",
       "grid_template_columns": "25% 75%",
       "grid_template_rows": "auto auto",
       "width": "100%"
      }
     },
     "4b2d97da0845411e994632534b848597": {
      "model_module": "@jupyter-widgets/controls",
      "model_module_version": "1.5.0",
      "model_name": "TextModel",
      "state": {
       "_dom_classes": [
        "nbtools-menu-attached"
       ],
       "layout": "IPY_MODEL_55164613db4441c494f0a3e9d8e053bd",
       "style": "IPY_MODEL_12bac5a460a64d7e87a51566f23b6d15"
      }
     },
     "4c9b74ebe6844512bd7bbe9c5d6de9d4": {
      "model_module": "@jupyter-widgets/base",
      "model_module_version": "1.2.0",
      "model_name": "LayoutModel",
      "state": {
       "grid_area": "description",
       "width": "auto"
      }
     },
     "4df45f5c52b04174bc55b49b9e8c98f3": {
      "model_module": "@jupyter-widgets/controls",
      "model_module_version": "1.5.0",
      "model_name": "LabelModel",
      "state": {
       "description": "indices",
       "layout": "IPY_MODEL_0f24f88e8483461fbe416959bb7119f6",
       "style": "IPY_MODEL_f0f3b9e2400042fbb30d7ca1d9f7b264",
       "value": "indices"
      }
     },
     "4e326bd5c01f40548aefd9fa0fb6bae0": {
      "model_module": "@jupyter-widgets/controls",
      "model_module_version": "1.5.0",
      "model_name": "ButtonModel",
      "state": {
       "_dom_classes": [
        "hidden"
       ],
       "description": "Run",
       "layout": "IPY_MODEL_0febde0484df43558234cf7593548e75",
       "style": "IPY_MODEL_83af231a17e74b7f80cf90ae0aec1234"
      }
     },
     "5316ae56378444e28497f8f474be8b12": {
      "model_module": "@jupyter-widgets/controls",
      "model_module_version": "1.5.0",
      "model_name": "LabelModel",
      "state": {
       "description": "locus",
       "layout": "IPY_MODEL_58e265145a884a1aa1f691dde1c5df1f",
       "style": "IPY_MODEL_35d9cdc76e634b1d8f1f5c4c9d67c289",
       "value": "locus"
      }
     },
     "5417f1dbc02b4fb0868a3fb47cb88029": {
      "model_module": "@jupyter-widgets/controls",
      "model_module_version": "1.5.0",
      "model_name": "LabelModel",
      "state": {
       "description": "tracks",
       "layout": "IPY_MODEL_5d466ebf32f645fd8fd328cae4599eed",
       "style": "IPY_MODEL_c057256f9fca44bb98c3a68d9002f6e3",
       "value": "tracks"
      }
     },
     "55164613db4441c494f0a3e9d8e053bd": {
      "model_module": "@jupyter-widgets/base",
      "model_module_version": "1.2.0",
      "model_name": "LayoutModel",
      "state": {
       "grid_area": "input",
       "width": "auto"
      }
     },
     "58617eaf41504b189d9b70e3f292931e": {
      "model_module": "@jupyter-widgets/controls",
      "model_module_version": "1.5.0",
      "model_name": "DescriptionStyleModel",
      "state": {
       "description_width": ""
      }
     },
     "5875af967a034c739a7ef56341a30ab4": {
      "model_module": "@jupyter-widgets/base",
      "model_module_version": "1.2.0",
      "model_name": "LayoutModel",
      "state": {}
     },
     "58e265145a884a1aa1f691dde1c5df1f": {
      "model_module": "@jupyter-widgets/base",
      "model_module_version": "1.2.0",
      "model_name": "LayoutModel",
      "state": {
       "grid_area": "label",
       "width": "auto"
      }
     },
     "591abeec3c4045a2b051f8a82e45ff62": {
      "model_module": "@jupyter-widgets/base",
      "model_module_version": "1.2.0",
      "model_name": "LayoutModel",
      "state": {
       "grid_template_areas": "\n                    \"label input\"\n                    \". description\"\n                ",
       "grid_template_columns": "25% 75%",
       "grid_template_rows": "auto auto",
       "width": "100%"
      }
     },
     "593cd129ac7446f7a14b915207886676": {
      "model_module": "@jupyter-widgets/base",
      "model_module_version": "1.2.0",
      "model_name": "LayoutModel",
      "state": {
       "grid_area": "input",
       "width": "auto"
      }
     },
     "5d466ebf32f645fd8fd328cae4599eed": {
      "model_module": "@jupyter-widgets/base",
      "model_module_version": "1.2.0",
      "model_name": "LayoutModel",
      "state": {
       "grid_area": "label",
       "width": "auto"
      }
     },
     "61f6cfccf20248bbbc6015a6566f40a8": {
      "model_module": "@jupyter-widgets/controls",
      "model_module_version": "1.5.0",
      "model_name": "DescriptionStyleModel",
      "state": {
       "description_width": ""
      }
     },
     "6202d8b88b234cf8be5ab30a5848ba57": {
      "model_module": "@jupyter-widgets/base",
      "model_module_version": "1.2.0",
      "model_name": "LayoutModel",
      "state": {
       "grid_area": "label",
       "width": "auto"
      }
     },
     "6359fcda203a4733830e754861ab77b0": {
      "model_module": "@jupyter-widgets/base",
      "model_module_version": "1.2.0",
      "model_name": "LayoutModel",
      "state": {
       "grid_area": "description",
       "width": "auto"
      }
     },
     "674d2edb012e446cbae921c1c958bc76": {
      "model_module": "@jupyter-widgets/base",
      "model_module_version": "1.2.0",
      "model_name": "LayoutModel",
      "state": {
       "grid_template_areas": "\n                    \"label input\"\n                    \". description\"\n                ",
       "grid_template_columns": "25% 75%",
       "grid_template_rows": "auto auto",
       "width": "100%"
      }
     },
     "675a170302624e528a560bb08168c496": {
      "model_module": "@jupyter-widgets/controls",
      "model_module_version": "1.5.0",
      "model_name": "LabelModel",
      "state": {
       "description": "Enter the URL to the index files that correspond to each track",
       "layout": "IPY_MODEL_cef5b341cea14141a1ca4528f33a6676",
       "style": "IPY_MODEL_ca26799148534ac3ae224a16f6223515",
       "value": "Enter the URL to the index files that correspond to each track"
      }
     },
     "68f9a414ed854e3296e24e50033666c3": {
      "model_module": "@jupyter-widgets/base",
      "model_module_version": "1.2.0",
      "model_name": "LayoutModel",
      "state": {}
     },
     "692d2ea3ec28432ab40e47d8bbabbd3b": {
      "model_module": "@jupyter-widgets/controls",
      "model_module_version": "1.5.0",
      "model_name": "GridBoxModel",
      "state": {
       "_dom_classes": [
        "nbtools-input",
        "nbtools-textinput"
       ],
       "children": [
        "IPY_MODEL_5316ae56378444e28497f8f474be8b12",
        "IPY_MODEL_4b2d97da0845411e994632534b848597",
        "IPY_MODEL_417a9ff0f7204076952f61cf4d72069a"
       ],
       "layout": "IPY_MODEL_45f5e070408f47119e2c6605afee3320"
      }
     },
     "6b7e1fdcb43a4bbda54d66c07686b6f2": {
      "model_module": "@jupyter-widgets/controls",
      "model_module_version": "1.5.0",
      "model_name": "ButtonStyleModel",
      "state": {}
     },
     "6cbeb626cf554ab8b6aed02d52088310": {
      "model_module": "@jupyter-widgets/controls",
      "model_module_version": "1.5.0",
      "model_name": "DescriptionStyleModel",
      "state": {
       "description_width": ""
      }
     },
     "6d89dbeb56294c879d244d36d6173b53": {
      "model_module": "@jupyter-widgets/controls",
      "model_module_version": "1.5.0",
      "model_name": "TextModel",
      "state": {
       "_dom_classes": [
        "nbtools-menu-attached"
       ],
       "layout": "IPY_MODEL_f353d32dac024e4b8d23f8f43c08d340",
       "style": "IPY_MODEL_9655eaac587d4466a1ca8dbeeab0a271"
      }
     },
     "6dc4f7bd84c24498906b80c42983ab8f": {
      "model_module": "@jupyter-widgets/controls",
      "model_module_version": "1.5.0",
      "model_name": "DescriptionStyleModel",
      "state": {
       "description_width": ""
      }
     },
     "6e88c486034244fe9d93b53c602ad501": {
      "model_module": "@jupyter-widgets/controls",
      "model_module_version": "1.5.0",
      "model_name": "LabelModel",
      "state": {
       "description": "genome",
       "layout": "IPY_MODEL_f087b16b6bf84362970f02acf22c21ce",
       "style": "IPY_MODEL_7d45b2fd65c24edbaeda3465daf66281",
       "value": "genome*"
      }
     },
     "6eb0462a99ae4b22b4b3c7b6fb915a79": {
      "model_module": "@jupyter-widgets/base",
      "model_module_version": "1.2.0",
      "model_name": "LayoutModel",
      "state": {}
     },
     "73aad078ab674413ac703405f891da2a": {
      "model_module": "@jupyter-widgets/controls",
      "model_module_version": "1.5.0",
      "model_name": "DescriptionStyleModel",
      "state": {
       "description_width": ""
      }
     },
     "7920bd97dab64b4eb25acc1839ed3579": {
      "model_module": "@jupyter-widgets/controls",
      "model_module_version": "1.5.0",
      "model_name": "ComboboxModel",
      "state": {
       "_dom_classes": [
        "nbtools-menu-attached"
       ],
       "choices": {
        "": "",
        "bam": "bam",
        "bb": "bb",
        "bed": "bed",
        "bedgraph": "bedgraph",
        "bedpe": "bedpe",
        "bedpe-loop": "bedpe-loop",
        "bigbed": "bigbed",
        "bigwig": "bigwig",
        "bp": "bp",
        "bw": "bw",
        "cram": "cram",
        "gwas": "gwas",
        "mut": "mut",
        "seg": "seg",
        "tdf": "tdf",
        "vcf": "vcf",
        "wig": "wig"
       },
       "ensure_option": false,
       "kinds": [],
       "layout": "IPY_MODEL_e21356f765924ed29c8a07b812522a71",
       "style": "IPY_MODEL_c6067d118e8f4093855dc0c1a3190385"
      }
     },
     "79280c2fafa04696b6bbd1185e55ba7c": {
      "model_module": "@jupyter-widgets/controls",
      "model_module_version": "1.5.0",
      "model_name": "TextModel",
      "state": {
       "_dom_classes": [
        "nbtools-menu-attached"
       ],
       "layout": "IPY_MODEL_968fe39436d943efbce0d18bfcffc6ea",
       "style": "IPY_MODEL_ff09c27a78b8442cac54526abe880b02"
      }
     },
     "7a61736626fa423db07f9614926d5041": {
      "model_module": "@jupyter-widgets/controls",
      "model_module_version": "1.5.0",
      "model_name": "VBoxModel",
      "state": {
       "children": [
        "IPY_MODEL_b7e0c89e86f74522a955fb380eafd2e2",
        "IPY_MODEL_1cec14c3392647f4b35b7b3b7201cc99"
       ],
       "layout": "IPY_MODEL_0f0ea5266785446aad315856b6e44b46"
      }
     },
     "7d45b2fd65c24edbaeda3465daf66281": {
      "model_module": "@jupyter-widgets/controls",
      "model_module_version": "1.5.0",
      "model_name": "DescriptionStyleModel",
      "state": {
       "description_width": ""
      }
     },
     "821e6cf156c14bfaabade03d01680ce8": {
      "model_module": "@jupyter-widgets/controls",
      "model_module_version": "1.5.0",
      "model_name": "LabelModel",
      "state": {
       "description": "Enter the format of the track datasets",
       "layout": "IPY_MODEL_e816e07ec95841e2923345d89e6b354e",
       "style": "IPY_MODEL_f5caae2b2a32478baf1d0a55e2a7330b",
       "value": "Enter the format of the track datasets"
      }
     },
     "8240029792194d7e9430342e81d686e8": {
      "model_module": "@jupyter-widgets/controls",
      "model_module_version": "1.5.0",
      "model_name": "ComboboxModel",
      "state": {
       "_dom_classes": [
        "nbtools-menu-attached",
        "nbtools-nosendto"
       ],
       "choices": {
        "Bonobo (MPI-EVA panpan1.1/panPan2)": "panPan2",
        "C. elegans (ce11)": "ce11",
        "Chimp (SAC 2.1.4/panTro4)": "panTro4",
        "Cow (UMD_3.1.1/bosTau8)": "bosTau8",
        "D. melanogaster (dm6)": "dm6",
        "Dog (Broad CanFam3.1/canFam3)": "canFam3",
        "Gorilla (gorGor4.1/gorGor4)": "gorGor4",
        "Human (CRCh37/hg19)": "hg19",
        "Human (GRCh38/hg38)": "hg38",
        "Human (hg18)": "hg18",
        "Mouse (GRCm38/mm10)": "mm10",
        "Pig (SGSC Sscrofa11.1/susScr11)": "susScr11",
        "Rat (RGCS 6.0/rn6)": "rn6",
        "S. cerevisiae (sacCer3)": "sacCer3",
        "Zebrafish (GRCZ10/danRer10)": "danRer10",
        "Zebrafish (GRCZ11/danRer11)": "danRer11"
       },
       "ensure_option": false,
       "kinds": [],
       "layout": "IPY_MODEL_912b8fb1f52e45e4a5e8999f3182110c",
       "style": "IPY_MODEL_d64306b80b33419e94db9b5e4f2c1a8e",
       "value": "hg38"
      }
     },
     "83af231a17e74b7f80cf90ae0aec1234": {
      "model_module": "@jupyter-widgets/controls",
      "model_module_version": "1.5.0",
      "model_name": "ButtonStyleModel",
      "state": {}
     },
     "847b0ab60ff940f1a600143334bcc9d6": {
      "model_module": "@jupyter-widgets/controls",
      "model_module_version": "1.5.0",
      "model_name": "LabelModel",
      "state": {
       "description": "Choose the genome for your data.",
       "layout": "IPY_MODEL_08e7640f2c9a414383e41f2c7b2ab46c",
       "style": "IPY_MODEL_3881f33b19ba4163b7d80f946efc5134",
       "value": "Choose the genome for your data."
      }
     },
     "85b545cf60144db2a8ef3bec5b25f99d": {
      "model_module": "@jupyter-widgets/controls",
      "model_module_version": "1.5.0",
      "model_name": "LabelModel",
      "state": {
       "description": "output variable",
       "layout": "IPY_MODEL_6202d8b88b234cf8be5ab30a5848ba57",
       "style": "IPY_MODEL_61f6cfccf20248bbbc6015a6566f40a8",
       "value": "output variable"
      }
     },
     "8666238200a341c994b14d3d23b9921e": {
      "model_module": "@jupyter-widgets/base",
      "model_module_version": "1.2.0",
      "model_name": "LayoutModel",
      "state": {
       "display": "none",
       "grid_template_areas": "\n                    \"label input\"\n                    \". description\"\n                ",
       "grid_template_columns": "25% 75%",
       "grid_template_rows": "auto auto",
       "width": "100%"
      }
     },
     "884c76f0076f43c8aa2cd319176e86da": {
      "model_module": "@jupyter-widgets/base",
      "model_module_version": "1.2.0",
      "model_name": "LayoutModel",
      "state": {}
     },
     "8955a8f2fcf44fd3b2c0e1f451884576": {
      "model_module": "@jupyter-widgets/base",
      "model_module_version": "1.2.0",
      "model_name": "LayoutModel",
      "state": {
       "grid_area": "label",
       "width": "auto"
      }
     },
     "8c1f514a871548b1a17eda4dba845e1d": {
      "model_module": "@jupyter-widgets/controls",
      "model_module_version": "1.5.0",
      "model_name": "DescriptionStyleModel",
      "state": {
       "description_width": ""
      }
     },
     "8daebda3a8954e9c8ab0ecb7f0db665c": {
      "model_module": "@jupyter-widgets/base",
      "model_module_version": "1.2.0",
      "model_name": "LayoutModel",
      "state": {}
     },
     "8dcf18c0c1bc4f20a0b131ca2efe1bd2": {
      "model_module": "@jupyter-widgets/base",
      "model_module_version": "1.2.0",
      "model_name": "LayoutModel",
      "state": {
       "grid_area": "label",
       "width": "auto"
      }
     },
     "912b8fb1f52e45e4a5e8999f3182110c": {
      "model_module": "@jupyter-widgets/base",
      "model_module_version": "1.2.0",
      "model_name": "LayoutModel",
      "state": {
       "grid_area": "input",
       "width": "auto"
      }
     },
     "934ad665d8464c81814d56e3743d4d46": {
      "model_module": "@jupyter-widgets/controls",
      "model_module_version": "1.5.0",
      "model_name": "LabelModel",
      "state": {
       "description": "Enter the type of the track datasets",
       "layout": "IPY_MODEL_2a8f713b5f784cfcbab035f0137632c5",
       "style": "IPY_MODEL_6dc4f7bd84c24498906b80c42983ab8f",
       "value": "Enter the type of the track datasets"
      }
     },
     "9436bc8be63641c187ab6880d288ccac": {
      "model_module": "@jupyter-widgets/controls",
      "model_module_version": "1.5.0",
      "model_name": "LabelModel",
      "state": {
       "description": "Enter the URL to the track dataset(s)",
       "layout": "IPY_MODEL_4c9b74ebe6844512bd7bbe9c5d6de9d4",
       "style": "IPY_MODEL_3b9a67228b62448495d21628ef6d3f1f",
       "value": "Enter the URL to the track dataset(s)"
      }
     },
     "9655eaac587d4466a1ca8dbeeab0a271": {
      "model_module": "@jupyter-widgets/controls",
      "model_module_version": "1.5.0",
      "model_name": "DescriptionStyleModel",
      "state": {
       "description_width": ""
      }
     },
     "968fe39436d943efbce0d18bfcffc6ea": {
      "model_module": "@jupyter-widgets/base",
      "model_module_version": "1.2.0",
      "model_name": "LayoutModel",
      "state": {
       "grid_area": "input",
       "width": "auto"
      }
     },
     "972f0c10a0784b4db7ad5301e5bf75f3": {
      "model_module": "@jupyter-widgets/base",
      "model_module_version": "1.2.0",
      "model_name": "LayoutModel",
      "state": {}
     },
     "98efabf6cc6c437384eb84788d16f0f0": {
      "model_module": "@jupyter-widgets/controls",
      "model_module_version": "1.5.0",
      "model_name": "VBoxModel",
      "state": {
       "_dom_classes": [
        "widget-interact"
       ],
       "children": [
        "IPY_MODEL_bebd737bcd44473b826a127e059a6c39",
        "IPY_MODEL_9cd85ef83ec54005915eb36f89d20fbb",
        "IPY_MODEL_e59310a93ef449ff87a14c745f7e2d02",
        "IPY_MODEL_3188a10e3574485ca9a9bff44a2e477f",
        "IPY_MODEL_eca1094015f94e37b2f4db238f60c042",
        "IPY_MODEL_692d2ea3ec28432ab40e47d8bbabbd3b",
        "IPY_MODEL_4e326bd5c01f40548aefd9fa0fb6bae0",
        "IPY_MODEL_bf1c76505f134e929fce879463afe7d3"
       ],
       "layout": "IPY_MODEL_9e14fa42209646baa94fcd5cf044107f"
      }
     },
     "9c39c5e3845242b2bc04eadb24f42eb4": {
      "model_module": "@jupyter-widgets/base",
      "model_module_version": "1.2.0",
      "model_name": "LayoutModel",
      "state": {
       "grid_area": "input",
       "width": "auto"
      }
     },
     "9cd85ef83ec54005915eb36f89d20fbb": {
      "model_module": "@jupyter-widgets/controls",
      "model_module_version": "1.5.0",
      "model_name": "GridBoxModel",
      "state": {
       "_dom_classes": [
        "nbtools-input",
        "nbtools-fileinput"
       ],
       "children": [
        "IPY_MODEL_5417f1dbc02b4fb0868a3fb47cb88029",
        "IPY_MODEL_45894c3b49d74ddf844ebbccadb691b4",
        "IPY_MODEL_9436bc8be63641c187ab6880d288ccac"
       ],
       "layout": "IPY_MODEL_1049fd6a5a114ae79ff6bb19be919b83"
      }
     },
     "9d2b0b37541a4a8c9b86f9974add9521": {
      "model_module": "@jupyter-widgets/controls",
      "model_module_version": "1.5.0",
      "model_name": "LabelModel",
      "state": {
       "description": "output variable",
       "layout": "IPY_MODEL_8955a8f2fcf44fd3b2c0e1f451884576",
       "style": "IPY_MODEL_a2502cb19328459f9ca07204646d7046",
       "value": "output variable"
      }
     },
     "9e14fa42209646baa94fcd5cf044107f": {
      "model_module": "@jupyter-widgets/base",
      "model_module_version": "1.2.0",
      "model_name": "LayoutModel",
      "state": {}
     },
     "9ec09086f84e40d0be521413567ce900": {
      "model_module": "@jupyter-widgets/controls",
      "model_module_version": "1.5.0",
      "model_name": "DescriptionStyleModel",
      "state": {
       "description_width": ""
      }
     },
     "a2502cb19328459f9ca07204646d7046": {
      "model_module": "@jupyter-widgets/controls",
      "model_module_version": "1.5.0",
      "model_name": "DescriptionStyleModel",
      "state": {
       "description_width": ""
      }
     },
     "a268d610aede49319a6de493896354c2": {
      "model_module": "@jupyter-widgets/output",
      "model_module_version": "1.0.0",
      "model_name": "OutputModel",
      "state": {
       "layout": "IPY_MODEL_68f9a414ed854e3296e24e50033666c3"
      }
     },
     "a32bba84a9754d00b45a936347ab8952": {
      "model_module": "@jupyter-widgets/controls",
      "model_module_version": "1.5.0",
      "model_name": "VBoxModel",
      "state": {
       "children": [
        "IPY_MODEL_3da4685927da4af3aed911b8d6f9e117",
        "IPY_MODEL_cfbc76bd610e427d9af0ca1e46eafdd9"
       ],
       "layout": "IPY_MODEL_e3456a39ca7c4ba7944ffd7d5b0ae388"
      }
     },
     "a4cc25986ab6491c92be3e85b9d11630": {
      "model_module": "@jupyter-widgets/controls",
      "model_module_version": "1.5.0",
      "model_name": "ButtonModel",
      "state": {
       "_dom_classes": [
        "hidden"
       ],
       "description": "Run",
       "layout": "IPY_MODEL_bc36687534db4c77b57d6603cc5c407f",
       "style": "IPY_MODEL_3c3ee6123a644bc98f617fb13683243b"
      }
     },
     "a925e80660cb4d32ac50119b31403d9c": {
      "model_module": "@jupyter-widgets/base",
      "model_module_version": "1.2.0",
      "model_name": "LayoutModel",
      "state": {
       "grid_area": "description",
       "width": "auto"
      }
     },
     "adb818cb04f64c7296953d56823e65ee": {
      "model_module": "@jupyter-widgets/controls",
      "model_module_version": "1.5.0",
      "model_name": "LabelModel",
      "state": {
       "description": "track type",
       "layout": "IPY_MODEL_c33e1c8e3fdf4ec88a623eb5add5e68a",
       "style": "IPY_MODEL_9ec09086f84e40d0be521413567ce900",
       "value": "track type"
      }
     },
     "ae429fa42f104390ab0c19cb5d456a47": {
      "model_module": "@jupyter-widgets/controls",
      "model_module_version": "1.5.0",
      "model_name": "DescriptionStyleModel",
      "state": {
       "description_width": ""
      }
     },
     "b7e0c89e86f74522a955fb380eafd2e2": {
      "model_module": "@jupyter-widgets/controls",
      "model_module_version": "1.5.0",
      "model_name": "ComboboxModel",
      "state": {
       "_dom_classes": [
        "nbtools-menu-attached"
       ],
       "choices": {},
       "ensure_option": false,
       "kinds": [],
       "layout": "IPY_MODEL_972f0c10a0784b4db7ad5301e5bf75f3",
       "style": "IPY_MODEL_8c1f514a871548b1a17eda4dba845e1d"
      }
     },
     "b8eae46afbad450db9892dce5741f8a7": {
      "model_module": "@jupyter-widgets/controls",
      "model_module_version": "1.5.0",
      "model_name": "LabelModel",
      "state": {
       "layout": "IPY_MODEL_a925e80660cb4d32ac50119b31403d9c",
       "style": "IPY_MODEL_58617eaf41504b189d9b70e3f292931e"
      }
     },
     "bbf30d9e31a448d4b353d7b366396c31": {
      "model_module": "@jupyter-widgets/controls",
      "model_module_version": "1.5.0",
      "model_name": "DescriptionStyleModel",
      "state": {
       "description_width": ""
      }
     },
     "bc36687534db4c77b57d6603cc5c407f": {
      "model_module": "@jupyter-widgets/base",
      "model_module_version": "1.2.0",
      "model_name": "LayoutModel",
      "state": {}
     },
     "bdff4152416e4e2c93b2cd39348352fb": {
      "model_module": "@jupyter-widgets/controls",
      "model_module_version": "1.5.0",
      "model_name": "LabelModel",
      "state": {
       "layout": "IPY_MODEL_6359fcda203a4733830e754861ab77b0",
       "style": "IPY_MODEL_2e7d4d227577455e816cf815c006fee2"
      }
     },
     "bebd737bcd44473b826a127e059a6c39": {
      "model_module": "@jupyter-widgets/controls",
      "model_module_version": "1.5.0",
      "model_name": "GridBoxModel",
      "state": {
       "_dom_classes": [
        "nbtools-input",
        "nbtools-comboinput",
        "required"
       ],
       "children": [
        "IPY_MODEL_6e88c486034244fe9d93b53c602ad501",
        "IPY_MODEL_8240029792194d7e9430342e81d686e8",
        "IPY_MODEL_847b0ab60ff940f1a600143334bcc9d6"
       ],
       "layout": "IPY_MODEL_41587eb3b3354839937f8251c7fc4bea"
      }
     },
     "bf1c76505f134e929fce879463afe7d3": {
      "model_module": "@jupyter-widgets/controls",
      "model_module_version": "1.5.0",
      "model_name": "GridBoxModel",
      "state": {
       "_dom_classes": [
        "nbtools-input",
        "nbtools-textinput"
       ],
       "children": [
        "IPY_MODEL_85b545cf60144db2a8ef3bec5b25f99d",
        "IPY_MODEL_6d89dbeb56294c879d244d36d6173b53",
        "IPY_MODEL_b8eae46afbad450db9892dce5741f8a7"
       ],
       "layout": "IPY_MODEL_e0b22f92ecf84b4696362deaaaa4db0b"
      }
     },
     "c057256f9fca44bb98c3a68d9002f6e3": {
      "model_module": "@jupyter-widgets/controls",
      "model_module_version": "1.5.0",
      "model_name": "DescriptionStyleModel",
      "state": {
       "description_width": ""
      }
     },
     "c33e1c8e3fdf4ec88a623eb5add5e68a": {
      "model_module": "@jupyter-widgets/base",
      "model_module_version": "1.2.0",
      "model_name": "LayoutModel",
      "state": {
       "grid_area": "label",
       "width": "auto"
      }
     },
     "c6067d118e8f4093855dc0c1a3190385": {
      "model_module": "@jupyter-widgets/controls",
      "model_module_version": "1.5.0",
      "model_name": "DescriptionStyleModel",
      "state": {
       "description_width": ""
      }
     },
     "ca26799148534ac3ae224a16f6223515": {
      "model_module": "@jupyter-widgets/controls",
      "model_module_version": "1.5.0",
      "model_name": "DescriptionStyleModel",
      "state": {
       "description_width": ""
      }
     },
     "cef5b341cea14141a1ca4528f33a6676": {
      "model_module": "@jupyter-widgets/base",
      "model_module_version": "1.2.0",
      "model_name": "LayoutModel",
      "state": {
       "grid_area": "description",
       "width": "auto"
      }
     },
     "cfbc76bd610e427d9af0ca1e46eafdd9": {
      "model_module": "@jupyter-widgets/controls",
      "model_module_version": "1.5.0",
      "model_name": "ComboboxModel",
      "state": {
       "_dom_classes": [
        "nbtools-menu-attached"
       ],
       "choices": {},
       "ensure_option": false,
       "kinds": [],
       "layout": "IPY_MODEL_8daebda3a8954e9c8ab0ecb7f0db665c",
       "style": "IPY_MODEL_6cbeb626cf554ab8b6aed02d52088310"
      }
     },
     "d1f69061bb7f4d1196e52a7106ca29cb": {
      "model_module": "@jupyter-widgets/controls",
      "model_module_version": "1.5.0",
      "model_name": "ComboboxModel",
      "state": {
       "_dom_classes": [
        "nbtools-menu-attached"
       ],
       "choices": {
        "": "",
        "alignment": "alignment",
        "annotation": "annotation",
        "arc": "arc",
        "bedtype": "bedtype",
        "gwas": "gwas",
        "interaction": "interaction",
        "mut": "mut",
        "seg": "seg",
        "variant": "variant",
        "wig": "wig"
       },
       "ensure_option": false,
       "kinds": [],
       "layout": "IPY_MODEL_593cd129ac7446f7a14b915207886676",
       "style": "IPY_MODEL_bbf30d9e31a448d4b353d7b366396c31"
      }
     },
     "d64306b80b33419e94db9b5e4f2c1a8e": {
      "model_module": "@jupyter-widgets/controls",
      "model_module_version": "1.5.0",
      "model_name": "DescriptionStyleModel",
      "state": {
       "description_width": ""
      }
     },
     "e0b22f92ecf84b4696362deaaaa4db0b": {
      "model_module": "@jupyter-widgets/base",
      "model_module_version": "1.2.0",
      "model_name": "LayoutModel",
      "state": {
       "display": "none",
       "grid_template_areas": "\n                    \"label input\"\n                    \". description\"\n                ",
       "grid_template_columns": "25% 75%",
       "grid_template_rows": "auto auto",
       "width": "100%"
      }
     },
     "e21356f765924ed29c8a07b812522a71": {
      "model_module": "@jupyter-widgets/base",
      "model_module_version": "1.2.0",
      "model_name": "LayoutModel",
      "state": {
       "grid_area": "input",
       "width": "auto"
      }
     },
     "e3456a39ca7c4ba7944ffd7d5b0ae388": {
      "model_module": "@jupyter-widgets/base",
      "model_module_version": "1.2.0",
      "model_name": "LayoutModel",
      "state": {}
     },
     "e3dbdd99a77d47b7958b7ad5e1fb1e24": {
      "model_module": "@jupyter-widgets/controls",
      "model_module_version": "1.5.0",
      "model_name": "ButtonStyleModel",
      "state": {}
     },
     "e59310a93ef449ff87a14c745f7e2d02": {
      "model_module": "@jupyter-widgets/controls",
      "model_module_version": "1.5.0",
      "model_name": "GridBoxModel",
      "state": {
       "_dom_classes": [
        "nbtools-input",
        "nbtools-fileinput"
       ],
       "children": [
        "IPY_MODEL_4df45f5c52b04174bc55b49b9e8c98f3",
        "IPY_MODEL_2447025b417547a4bac6a73f67594315",
        "IPY_MODEL_675a170302624e528a560bb08168c496"
       ],
       "layout": "IPY_MODEL_48a27c3a8a8c4c5a9c37a5af6e878084"
      }
     },
     "e816e07ec95841e2923345d89e6b354e": {
      "model_module": "@jupyter-widgets/base",
      "model_module_version": "1.2.0",
      "model_name": "LayoutModel",
      "state": {
       "grid_area": "description",
       "width": "auto"
      }
     },
     "ea0ab829b25e4b8a87b04f247cdabee7": {
      "model_module": "@jupyter-widgets/base",
      "model_module_version": "1.2.0",
      "model_name": "LayoutModel",
      "state": {}
     },
     "eca1094015f94e37b2f4db238f60c042": {
      "model_module": "@jupyter-widgets/controls",
      "model_module_version": "1.5.0",
      "model_name": "GridBoxModel",
      "state": {
       "_dom_classes": [
        "nbtools-input",
        "nbtools-comboinput"
       ],
       "children": [
        "IPY_MODEL_adb818cb04f64c7296953d56823e65ee",
        "IPY_MODEL_d1f69061bb7f4d1196e52a7106ca29cb",
        "IPY_MODEL_934ad665d8464c81814d56e3743d4d46"
       ],
       "layout": "IPY_MODEL_674d2edb012e446cbae921c1c958bc76"
      }
     },
     "ece99f1966974cf982da8acf972317c9": {
      "model_module": "@jupyter-widgets/base",
      "model_module_version": "1.2.0",
      "model_name": "LayoutModel",
      "state": {
       "grid_area": "description",
       "width": "auto"
      }
     },
     "f087b16b6bf84362970f02acf22c21ce": {
      "model_module": "@jupyter-widgets/base",
      "model_module_version": "1.2.0",
      "model_name": "LayoutModel",
      "state": {
       "grid_area": "label",
       "width": "auto"
      }
     },
     "f0cec9db00984b349364f05fd8c9ad72": {
      "model_module": "@jupyter-widgets/controls",
      "model_module_version": "1.5.0",
      "model_name": "DescriptionStyleModel",
      "state": {
       "description_width": ""
      }
     },
     "f0f3b9e2400042fbb30d7ca1d9f7b264": {
      "model_module": "@jupyter-widgets/controls",
      "model_module_version": "1.5.0",
      "model_name": "DescriptionStyleModel",
      "state": {
       "description_width": ""
      }
     },
     "f108c8d2c7054d11959434e6c5dd447d": {
      "model_module": "@jupyter-widgets/controls",
      "model_module_version": "1.5.0",
      "model_name": "VBoxModel",
      "state": {
       "_dom_classes": [
        "widget-interact"
       ],
       "children": [
        "IPY_MODEL_a4cc25986ab6491c92be3e85b9d11630",
        "IPY_MODEL_16d29b8ced664b5683239f9e0393992b"
       ],
       "layout": "IPY_MODEL_37b1a70616bf4bbaad8d3e91775ebe1c"
      }
     },
     "f353d32dac024e4b8d23f8f43c08d340": {
      "model_module": "@jupyter-widgets/base",
      "model_module_version": "1.2.0",
      "model_name": "LayoutModel",
      "state": {
       "grid_area": "input",
       "width": "auto"
      }
     },
     "f5caae2b2a32478baf1d0a55e2a7330b": {
      "model_module": "@jupyter-widgets/controls",
      "model_module_version": "1.5.0",
      "model_name": "DescriptionStyleModel",
      "state": {
       "description_width": ""
      }
     },
     "f5d6b8c5d2444962b3e7152eca728c70": {
      "model_module": "@jupyter-widgets/base",
      "model_module_version": "1.2.0",
      "model_name": "LayoutModel",
      "state": {}
     },
     "ff09c27a78b8442cac54526abe880b02": {
      "model_module": "@jupyter-widgets/controls",
      "model_module_version": "1.5.0",
      "model_name": "DescriptionStyleModel",
      "state": {
       "description_width": ""
      }
     }
    },
    "version_major": 2,
    "version_minor": 0
   }
  }
 },
 "nbformat": 4,
 "nbformat_minor": 5
}
